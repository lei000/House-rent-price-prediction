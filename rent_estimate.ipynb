{
 "cells": [
  {
   "cell_type": "code",
   "execution_count": 1,
   "metadata": {},
   "outputs": [],
   "source": [
    "import pandas as pd\n",
    "import matplotlib.pyplot as plt\n",
    "import seaborn as sns\n",
    "import numpy as np\n",
    "from scipy.stats import norm\n",
    "from sklearn.preprocessing import StandardScaler\n",
    "from scipy import stats\n",
    "import warnings\n",
    "warnings.filterwarnings('ignore')\n",
    "%matplotlib inline"
   ]
  },
  {
   "cell_type": "code",
   "execution_count": 3,
   "metadata": {},
   "outputs": [],
   "source": [
    "# input two datasets\n",
    "rent = pd.read_csv(\"C:/Users/Lenovo/Documents/Fang88/Projects/fang88_rent.csv\")\n",
    "home_property = pd.read_csv(\"C:/Users/Lenovo/Documents/Fang88/Projects/fang88_property.csv\", header=None, low_memory=False)"
   ]
  },
  {
   "cell_type": "code",
   "execution_count": 6,
   "metadata": {},
   "outputs": [
    {
     "data": {
      "text/plain": [
       "(1140607, 7)"
      ]
     },
     "execution_count": 6,
     "metadata": {},
     "output_type": "execute_result"
    }
   ],
   "source": [
    "rent.shape"
   ]
  },
  {
   "cell_type": "code",
   "execution_count": 7,
   "metadata": {},
   "outputs": [
    {
     "data": {
      "text/plain": [
       "(381685, 59)"
      ]
     },
     "execution_count": 7,
     "metadata": {},
     "output_type": "execute_result"
    }
   ],
   "source": [
    "home_property.shape"
   ]
  },
  {
   "cell_type": "code",
   "execution_count": 9,
   "metadata": {
    "scrolled": true
   },
   "outputs": [
    {
     "data": {
      "text/html": [
       "<div>\n",
       "<style scoped>\n",
       "    .dataframe tbody tr th:only-of-type {\n",
       "        vertical-align: middle;\n",
       "    }\n",
       "\n",
       "    .dataframe tbody tr th {\n",
       "        vertical-align: top;\n",
       "    }\n",
       "\n",
       "    .dataframe thead th {\n",
       "        text-align: right;\n",
       "    }\n",
       "</style>\n",
       "<table border=\"1\" class=\"dataframe\">\n",
       "  <thead>\n",
       "    <tr style=\"text-align: right;\">\n",
       "      <th></th>\n",
       "      <th>__v</th>\n",
       "      <th>_id</th>\n",
       "      <th>address_zipcode</th>\n",
       "      <th>link_homedetails</th>\n",
       "      <th>rentzestimate_amount</th>\n",
       "      <th>unique_id</th>\n",
       "      <th>zestimate_amount</th>\n",
       "    </tr>\n",
       "  </thead>\n",
       "  <tbody>\n",
       "    <tr>\n",
       "      <th>0</th>\n",
       "      <td>NaN</td>\n",
       "      <td>58eb5107c6c98c84347fa7a5</td>\n",
       "      <td>94010</td>\n",
       "      <td>http://www.zillow.com/homedetails/525-El-Cerri...</td>\n",
       "      <td>16619.0</td>\n",
       "      <td>MLSListings_81646083</td>\n",
       "      <td>5928873.0</td>\n",
       "    </tr>\n",
       "    <tr>\n",
       "      <th>1</th>\n",
       "      <td>NaN</td>\n",
       "      <td>58eb5107c6c98c84347fa7a6</td>\n",
       "      <td>95120</td>\n",
       "      <td>http://www.zillow.com/homedetails/7240-Wild-Cr...</td>\n",
       "      <td>3495.0</td>\n",
       "      <td>MLSListings_81646075</td>\n",
       "      <td>883847.0</td>\n",
       "    </tr>\n",
       "    <tr>\n",
       "      <th>2</th>\n",
       "      <td>NaN</td>\n",
       "      <td>58eb5c08c6c98c84347fa8d9</td>\n",
       "      <td>98391</td>\n",
       "      <td>http://www.zillow.com/homedetails/21026-30th-S...</td>\n",
       "      <td>4448.0</td>\n",
       "      <td>569e6d75055611.96147919</td>\n",
       "      <td>888309.0</td>\n",
       "    </tr>\n",
       "    <tr>\n",
       "      <th>3</th>\n",
       "      <td>NaN</td>\n",
       "      <td>58eb5c08c6c98c84347fa8da</td>\n",
       "      <td>98262</td>\n",
       "      <td>http://www.zillow.com/homedetails/2549-Taft-Dr...</td>\n",
       "      <td>1430.0</td>\n",
       "      <td>569e6d869514d7.19769412</td>\n",
       "      <td>256005.0</td>\n",
       "    </tr>\n",
       "    <tr>\n",
       "      <th>4</th>\n",
       "      <td>NaN</td>\n",
       "      <td>58eb5c08c6c98c84347fa8db</td>\n",
       "      <td>98230</td>\n",
       "      <td>http://www.zillow.com/homedetails/7405-Jackson...</td>\n",
       "      <td>1400.0</td>\n",
       "      <td>569e6d858057f3.84823418</td>\n",
       "      <td>257533.0</td>\n",
       "    </tr>\n",
       "  </tbody>\n",
       "</table>\n",
       "</div>"
      ],
      "text/plain": [
       "   __v                       _id address_zipcode  \\\n",
       "0  NaN  58eb5107c6c98c84347fa7a5           94010   \n",
       "1  NaN  58eb5107c6c98c84347fa7a6           95120   \n",
       "2  NaN  58eb5c08c6c98c84347fa8d9           98391   \n",
       "3  NaN  58eb5c08c6c98c84347fa8da           98262   \n",
       "4  NaN  58eb5c08c6c98c84347fa8db           98230   \n",
       "\n",
       "                                    link_homedetails  rentzestimate_amount  \\\n",
       "0  http://www.zillow.com/homedetails/525-El-Cerri...               16619.0   \n",
       "1  http://www.zillow.com/homedetails/7240-Wild-Cr...                3495.0   \n",
       "2  http://www.zillow.com/homedetails/21026-30th-S...                4448.0   \n",
       "3  http://www.zillow.com/homedetails/2549-Taft-Dr...                1430.0   \n",
       "4  http://www.zillow.com/homedetails/7405-Jackson...                1400.0   \n",
       "\n",
       "                 unique_id  zestimate_amount  \n",
       "0     MLSListings_81646083         5928873.0  \n",
       "1     MLSListings_81646075          883847.0  \n",
       "2  569e6d75055611.96147919          888309.0  \n",
       "3  569e6d869514d7.19769412          256005.0  \n",
       "4  569e6d858057f3.84823418          257533.0  "
      ]
     },
     "execution_count": 9,
     "metadata": {},
     "output_type": "execute_result"
    }
   ],
   "source": [
    "rent.head()"
   ]
  },
  {
   "cell_type": "code",
   "execution_count": 11,
   "metadata": {},
   "outputs": [
    {
     "data": {
      "text/html": [
       "<div>\n",
       "<style scoped>\n",
       "    .dataframe tbody tr th:only-of-type {\n",
       "        vertical-align: middle;\n",
       "    }\n",
       "\n",
       "    .dataframe tbody tr th {\n",
       "        vertical-align: top;\n",
       "    }\n",
       "\n",
       "    .dataframe thead th {\n",
       "        text-align: right;\n",
       "    }\n",
       "</style>\n",
       "<table border=\"1\" class=\"dataframe\">\n",
       "  <thead>\n",
       "    <tr style=\"text-align: right;\">\n",
       "      <th></th>\n",
       "      <th>0</th>\n",
       "      <th>1</th>\n",
       "      <th>2</th>\n",
       "      <th>3</th>\n",
       "      <th>4</th>\n",
       "      <th>5</th>\n",
       "      <th>6</th>\n",
       "      <th>7</th>\n",
       "      <th>8</th>\n",
       "      <th>9</th>\n",
       "      <th>10</th>\n",
       "      <th>11</th>\n",
       "      <th>12</th>\n",
       "      <th>13</th>\n",
       "      <th>14</th>\n",
       "      <th>15</th>\n",
       "      <th>16</th>\n",
       "      <th>17</th>\n",
       "      <th>18</th>\n",
       "      <th>19</th>\n",
       "      <th>20</th>\n",
       "      <th>21</th>\n",
       "      <th>22</th>\n",
       "      <th>23</th>\n",
       "      <th>24</th>\n",
       "      <th>25</th>\n",
       "      <th>26</th>\n",
       "      <th>27</th>\n",
       "      <th>28</th>\n",
       "      <th>29</th>\n",
       "      <th>30</th>\n",
       "      <th>31</th>\n",
       "      <th>32</th>\n",
       "      <th>33</th>\n",
       "      <th>34</th>\n",
       "      <th>35</th>\n",
       "      <th>36</th>\n",
       "      <th>37</th>\n",
       "      <th>38</th>\n",
       "      <th>39</th>\n",
       "      <th>40</th>\n",
       "      <th>41</th>\n",
       "      <th>42</th>\n",
       "      <th>43</th>\n",
       "      <th>44</th>\n",
       "      <th>45</th>\n",
       "      <th>46</th>\n",
       "      <th>47</th>\n",
       "      <th>48</th>\n",
       "      <th>49</th>\n",
       "      <th>50</th>\n",
       "      <th>51</th>\n",
       "      <th>52</th>\n",
       "      <th>53</th>\n",
       "      <th>54</th>\n",
       "      <th>55</th>\n",
       "      <th>56</th>\n",
       "      <th>57</th>\n",
       "      <th>58</th>\n",
       "    </tr>\n",
       "  </thead>\n",
       "  <tbody>\n",
       "    <tr>\n",
       "      <th>0</th>\n",
       "      <td>2201644</td>\n",
       "      <td>奥斯汀城市圈</td>\n",
       "      <td>104 S Elm ST</td>\n",
       "      <td>NaN</td>\n",
       "      <td>NaN</td>\n",
       "      <td>2.0</td>\n",
       "      <td>2.0</td>\n",
       "      <td>NaN</td>\n",
       "      <td>Flatonia</td>\n",
       "      <td>NaN</td>\n",
       "      <td>163000.0</td>\n",
       "      <td>0</td>\n",
       "      <td>An early 1900's home with desired dog trot, sl...</td>\n",
       "      <td>1400.0</td>\n",
       "      <td>0.217489</td>\n",
       "      <td>NaN</td>\n",
       "      <td>NaN</td>\n",
       "      <td>29.687252</td>\n",
       "      <td>-97.098678</td>\n",
       "      <td>0.0</td>\n",
       "      <td>NaN</td>\n",
       "      <td>0.0</td>\n",
       "      <td>RESI</td>\n",
       "      <td>2318.0</td>\n",
       "      <td>70.0</td>\n",
       "      <td>ABOR</td>\n",
       "      <td>TX</td>\n",
       "      <td>A</td>\n",
       "      <td>NaN</td>\n",
       "      <td>ABOR_15645711</td>\n",
       "      <td>0</td>\n",
       "      <td>2017-01-05 17:46:02</td>\n",
       "      <td>NaN</td>\n",
       "      <td>1996.0</td>\n",
       "      <td>78941</td>\n",
       "      <td>0</td>\n",
       "      <td>2014-07-19 05:00:00</td>\n",
       "      <td>NaN</td>\n",
       "      <td>Tanya Schindler</td>\n",
       "      <td>9797431737</td>\n",
       "      <td>NaN</td>\n",
       "      <td>South Central Real Estate</td>\n",
       "      <td>NaN</td>\n",
       "      <td>938.0</td>\n",
       "      <td>0.0</td>\n",
       "      <td>1911730</td>\n",
       "      <td>RESI</td>\n",
       "      <td>Property</td>\n",
       "      <td>2662.0</td>\n",
       "      <td>[{\"path\":\"9a7003a314f44f9288e66cc2cc32d286.jpg...</td>\n",
       "      <td>15645711</td>\n",
       "      <td>2014-07-22 16:24:50</td>\n",
       "      <td>0.0</td>\n",
       "      <td>NaN</td>\n",
       "      <td>NaN</td>\n",
       "      <td>9.0</td>\n",
       "      <td>NaN</td>\n",
       "      <td>NaN</td>\n",
       "      <td>NaN</td>\n",
       "    </tr>\n",
       "    <tr>\n",
       "      <th>1</th>\n",
       "      <td>2201645</td>\n",
       "      <td>奥斯汀城市圈</td>\n",
       "      <td>1408 Oak Hurst Rd</td>\n",
       "      <td>NaN</td>\n",
       "      <td>NaN</td>\n",
       "      <td>1.0</td>\n",
       "      <td>1.0</td>\n",
       "      <td>NaN</td>\n",
       "      <td>Austin</td>\n",
       "      <td>NaN</td>\n",
       "      <td>225000.0</td>\n",
       "      <td>0</td>\n",
       "      <td>Property features  Three adjoining lots for sa...</td>\n",
       "      <td>1350.0</td>\n",
       "      <td>0.140412</td>\n",
       "      <td>NaN</td>\n",
       "      <td>NaN</td>\n",
       "      <td>30.388230</td>\n",
       "      <td>-97.965567</td>\n",
       "      <td>0.0</td>\n",
       "      <td>NaN</td>\n",
       "      <td>0.0</td>\n",
       "      <td>RESI</td>\n",
       "      <td>704.0</td>\n",
       "      <td>320.0</td>\n",
       "      <td>ABOR</td>\n",
       "      <td>TX</td>\n",
       "      <td>A</td>\n",
       "      <td>NaN</td>\n",
       "      <td>ABOR_15646314</td>\n",
       "      <td>0</td>\n",
       "      <td>2017-05-19 13:45:27</td>\n",
       "      <td>NaN</td>\n",
       "      <td>1955.0</td>\n",
       "      <td>78734</td>\n",
       "      <td>0</td>\n",
       "      <td>2015-07-24 05:00:00</td>\n",
       "      <td>NaN</td>\n",
       "      <td>Diana R. Taber</td>\n",
       "      <td>5126578367</td>\n",
       "      <td>NaN</td>\n",
       "      <td>Citygirls Residential Realty</td>\n",
       "      <td>NaN</td>\n",
       "      <td>664.0</td>\n",
       "      <td>0.0</td>\n",
       "      <td>2978258</td>\n",
       "      <td>RESI</td>\n",
       "      <td>Property</td>\n",
       "      <td>1887.0</td>\n",
       "      <td>[{\"path\":\"3be302ba6b0041b9ad81395baaff15ad.jpg...</td>\n",
       "      <td>15646314</td>\n",
       "      <td>2015-07-24 22:42:54</td>\n",
       "      <td>0.0</td>\n",
       "      <td>NaN</td>\n",
       "      <td>NaN</td>\n",
       "      <td>10.0</td>\n",
       "      <td>NaN</td>\n",
       "      <td>NaN</td>\n",
       "      <td>NaN</td>\n",
       "    </tr>\n",
       "    <tr>\n",
       "      <th>2</th>\n",
       "      <td>2201655</td>\n",
       "      <td>奥斯汀城市圈</td>\n",
       "      <td>811 Congress Ave</td>\n",
       "      <td>NaN</td>\n",
       "      <td>NaN</td>\n",
       "      <td>8.0</td>\n",
       "      <td>5.0</td>\n",
       "      <td>NaN</td>\n",
       "      <td>Austin</td>\n",
       "      <td>NaN</td>\n",
       "      <td>5200000.0</td>\n",
       "      <td>0</td>\n",
       "      <td>Unique historically designated property situat...</td>\n",
       "      <td>24799.0</td>\n",
       "      <td>0.069762</td>\n",
       "      <td>NaN</td>\n",
       "      <td>NaN</td>\n",
       "      <td>30.270244</td>\n",
       "      <td>-97.741539</td>\n",
       "      <td>0.0</td>\n",
       "      <td>NaN</td>\n",
       "      <td>0.0</td>\n",
       "      <td>NaN</td>\n",
       "      <td>8808.0</td>\n",
       "      <td>590.0</td>\n",
       "      <td>ABOR</td>\n",
       "      <td>TX</td>\n",
       "      <td>A</td>\n",
       "      <td>NaN</td>\n",
       "      <td>ABOR_16160231</td>\n",
       "      <td>0</td>\n",
       "      <td>2017-04-04 23:03:05</td>\n",
       "      <td>http://www.811congress.com/</td>\n",
       "      <td>1930.0</td>\n",
       "      <td>78701</td>\n",
       "      <td>0</td>\n",
       "      <td>2014-10-18 05:00:00</td>\n",
       "      <td>NaN</td>\n",
       "      <td>Tammy Koen</td>\n",
       "      <td>5129173439</td>\n",
       "      <td>NaN</td>\n",
       "      <td>Gottesman Residential R.E.</td>\n",
       "      <td>NaN</td>\n",
       "      <td>899.0</td>\n",
       "      <td>0.0</td>\n",
       "      <td>1350203</td>\n",
       "      <td>RESI</td>\n",
       "      <td>Property</td>\n",
       "      <td>77013.0</td>\n",
       "      <td>[{\"path\":\"e51c98c50ad5619b4eed134450e6c106.jpg...</td>\n",
       "      <td>16160231</td>\n",
       "      <td>2015-09-01 15:21:34</td>\n",
       "      <td>3.0</td>\n",
       "      <td>NaN</td>\n",
       "      <td>NaN</td>\n",
       "      <td>10.0</td>\n",
       "      <td>NaN</td>\n",
       "      <td>NaN</td>\n",
       "      <td>NaN</td>\n",
       "    </tr>\n",
       "    <tr>\n",
       "      <th>3</th>\n",
       "      <td>2201659</td>\n",
       "      <td>NaN</td>\n",
       "      <td>136 Bradley ST</td>\n",
       "      <td>NaN</td>\n",
       "      <td>NaN</td>\n",
       "      <td>2.0</td>\n",
       "      <td>3.0</td>\n",
       "      <td>NaN</td>\n",
       "      <td>Other</td>\n",
       "      <td>NaN</td>\n",
       "      <td>27500.0</td>\n",
       "      <td>0</td>\n",
       "      <td>NaN</td>\n",
       "      <td>NaN</td>\n",
       "      <td>NaN</td>\n",
       "      <td>NaN</td>\n",
       "      <td>NaN</td>\n",
       "      <td>NaN</td>\n",
       "      <td>NaN</td>\n",
       "      <td>NaN</td>\n",
       "      <td>NaN</td>\n",
       "      <td>0.0</td>\n",
       "      <td>NaN</td>\n",
       "      <td>1585.0</td>\n",
       "      <td>17.0</td>\n",
       "      <td>ABOR</td>\n",
       "      <td>MS</td>\n",
       "      <td>A</td>\n",
       "      <td>NaN</td>\n",
       "      <td>ABOR_16429731</td>\n",
       "      <td>0</td>\n",
       "      <td>2017-01-02 17:54:13</td>\n",
       "      <td>NaN</td>\n",
       "      <td>1955.0</td>\n",
       "      <td>39209</td>\n",
       "      <td>0</td>\n",
       "      <td>2014-12-05 06:00:00</td>\n",
       "      <td>NaN</td>\n",
       "      <td>David Buttross</td>\n",
       "      <td>5123546877</td>\n",
       "      <td>NaN</td>\n",
       "      <td>Buttross Properties</td>\n",
       "      <td>NaN</td>\n",
       "      <td>204.0</td>\n",
       "      <td>0.0</td>\n",
       "      <td>9239102</td>\n",
       "      <td>RESI</td>\n",
       "      <td>Property</td>\n",
       "      <td>0.0</td>\n",
       "      <td>[{\"path\":\"0dfbcc443097abd1e70357c93e4bec9b.jpg\"}]</td>\n",
       "      <td>16429731</td>\n",
       "      <td>2014-12-19 00:21:36</td>\n",
       "      <td>0.0</td>\n",
       "      <td>NaN</td>\n",
       "      <td>NaN</td>\n",
       "      <td>NaN</td>\n",
       "      <td>NaN</td>\n",
       "      <td>NaN</td>\n",
       "      <td>NaN</td>\n",
       "    </tr>\n",
       "    <tr>\n",
       "      <th>4</th>\n",
       "      <td>2201661</td>\n",
       "      <td>奥斯汀城市圈</td>\n",
       "      <td>17700 Edgewood Way # 201</td>\n",
       "      <td>NaN</td>\n",
       "      <td>NaN</td>\n",
       "      <td>3.0</td>\n",
       "      <td>3.0</td>\n",
       "      <td>NaN</td>\n",
       "      <td>Jonestown</td>\n",
       "      <td>NaN</td>\n",
       "      <td>259900.0</td>\n",
       "      <td>0</td>\n",
       "      <td>Beautiful Lake Travis view from this large 3/3...</td>\n",
       "      <td>1950.0</td>\n",
       "      <td>0.136756</td>\n",
       "      <td>NaN</td>\n",
       "      <td>NaN</td>\n",
       "      <td>30.454888</td>\n",
       "      <td>-97.934025</td>\n",
       "      <td>0.0</td>\n",
       "      <td>NaN</td>\n",
       "      <td>0.0</td>\n",
       "      <td>APT</td>\n",
       "      <td>1715.0</td>\n",
       "      <td>152.0</td>\n",
       "      <td>ABOR</td>\n",
       "      <td>TX</td>\n",
       "      <td>A</td>\n",
       "      <td>NaN</td>\n",
       "      <td>ABOR_16486713</td>\n",
       "      <td>0</td>\n",
       "      <td>2017-04-19 15:51:00</td>\n",
       "      <td>http://tours.twisttours.com/120299</td>\n",
       "      <td>2006.0</td>\n",
       "      <td>78645</td>\n",
       "      <td>0</td>\n",
       "      <td>2015-01-05 06:00:00</td>\n",
       "      <td>NaN</td>\n",
       "      <td>Mary L Lyons</td>\n",
       "      <td>5126193841</td>\n",
       "      <td>NaN</td>\n",
       "      <td>Keller Williams - Lake Travis</td>\n",
       "      <td>NaN</td>\n",
       "      <td>835.0</td>\n",
       "      <td>NaN</td>\n",
       "      <td>9617218</td>\n",
       "      <td>RESI</td>\n",
       "      <td>Property</td>\n",
       "      <td>7152.0</td>\n",
       "      <td>[{\"path\":\"cccd298cbbb889b3772b545f2f0ef25a.jpg...</td>\n",
       "      <td>16486713</td>\n",
       "      <td>2015-06-01 18:03:04</td>\n",
       "      <td>0.0</td>\n",
       "      <td>NaN</td>\n",
       "      <td>NaN</td>\n",
       "      <td>10.0</td>\n",
       "      <td>NaN</td>\n",
       "      <td>NaN</td>\n",
       "      <td>NaN</td>\n",
       "    </tr>\n",
       "  </tbody>\n",
       "</table>\n",
       "</div>"
      ],
      "text/plain": [
       "        0       1                         2    3    4    5    6    7   \\\n",
       "0  2201644  奥斯汀城市圈              104 S Elm ST  NaN  NaN  2.0  2.0  NaN   \n",
       "1  2201645  奥斯汀城市圈         1408 Oak Hurst Rd  NaN  NaN  1.0  1.0  NaN   \n",
       "2  2201655  奥斯汀城市圈          811 Congress Ave  NaN  NaN  8.0  5.0  NaN   \n",
       "3  2201659     NaN            136 Bradley ST  NaN  NaN  2.0  3.0  NaN   \n",
       "4  2201661  奥斯汀城市圈  17700 Edgewood Way # 201  NaN  NaN  3.0  3.0  NaN   \n",
       "\n",
       "          8    9          10  11  \\\n",
       "0   Flatonia  NaN   163000.0   0   \n",
       "1     Austin  NaN   225000.0   0   \n",
       "2     Austin  NaN  5200000.0   0   \n",
       "3      Other  NaN    27500.0   0   \n",
       "4  Jonestown  NaN   259900.0   0   \n",
       "\n",
       "                                                  12       13        14   15  \\\n",
       "0  An early 1900's home with desired dog trot, sl...   1400.0  0.217489  NaN   \n",
       "1  Property features  Three adjoining lots for sa...   1350.0  0.140412  NaN   \n",
       "2  Unique historically designated property situat...  24799.0  0.069762  NaN   \n",
       "3                                                NaN      NaN       NaN  NaN   \n",
       "4  Beautiful Lake Travis view from this large 3/3...   1950.0  0.136756  NaN   \n",
       "\n",
       "   16         17         18   19   20   21    22      23     24    25  26 27  \\\n",
       "0 NaN  29.687252 -97.098678  0.0  NaN  0.0  RESI  2318.0   70.0  ABOR  TX  A   \n",
       "1 NaN  30.388230 -97.965567  0.0  NaN  0.0  RESI   704.0  320.0  ABOR  TX  A   \n",
       "2 NaN  30.270244 -97.741539  0.0  NaN  0.0   NaN  8808.0  590.0  ABOR  TX  A   \n",
       "3 NaN        NaN        NaN  NaN  NaN  0.0   NaN  1585.0   17.0  ABOR  MS  A   \n",
       "4 NaN  30.454888 -97.934025  0.0  NaN  0.0   APT  1715.0  152.0  ABOR  TX  A   \n",
       "\n",
       "   28             29  30                   31  \\\n",
       "0 NaN  ABOR_15645711   0  2017-01-05 17:46:02   \n",
       "1 NaN  ABOR_15646314   0  2017-05-19 13:45:27   \n",
       "2 NaN  ABOR_16160231   0  2017-04-04 23:03:05   \n",
       "3 NaN  ABOR_16429731   0  2017-01-02 17:54:13   \n",
       "4 NaN  ABOR_16486713   0  2017-04-19 15:51:00   \n",
       "\n",
       "                                   32      33     34  35                   36  \\\n",
       "0                                 NaN  1996.0  78941   0  2014-07-19 05:00:00   \n",
       "1                                 NaN  1955.0  78734   0  2015-07-24 05:00:00   \n",
       "2         http://www.811congress.com/  1930.0  78701   0  2014-10-18 05:00:00   \n",
       "3                                 NaN  1955.0  39209   0  2014-12-05 06:00:00   \n",
       "4  http://tours.twisttours.com/120299  2006.0  78645   0  2015-01-05 06:00:00   \n",
       "\n",
       "    37               38          39  40                             41  42  \\\n",
       "0  NaN  Tanya Schindler  9797431737 NaN      South Central Real Estate NaN   \n",
       "1  NaN   Diana R. Taber  5126578367 NaN   Citygirls Residential Realty NaN   \n",
       "2  NaN       Tammy Koen  5129173439 NaN     Gottesman Residential R.E. NaN   \n",
       "3  NaN   David Buttross  5123546877 NaN            Buttross Properties NaN   \n",
       "4  NaN     Mary L Lyons  5126193841 NaN  Keller Williams - Lake Travis NaN   \n",
       "\n",
       "      43   44       45    46        47       48  \\\n",
       "0  938.0  0.0  1911730  RESI  Property   2662.0   \n",
       "1  664.0  0.0  2978258  RESI  Property   1887.0   \n",
       "2  899.0  0.0  1350203  RESI  Property  77013.0   \n",
       "3  204.0  0.0  9239102  RESI  Property      0.0   \n",
       "4  835.0  NaN  9617218  RESI  Property   7152.0   \n",
       "\n",
       "                                                  49        50  \\\n",
       "0  [{\"path\":\"9a7003a314f44f9288e66cc2cc32d286.jpg...  15645711   \n",
       "1  [{\"path\":\"3be302ba6b0041b9ad81395baaff15ad.jpg...  15646314   \n",
       "2  [{\"path\":\"e51c98c50ad5619b4eed134450e6c106.jpg...  16160231   \n",
       "3  [{\"path\":\"0dfbcc443097abd1e70357c93e4bec9b.jpg\"}]  16429731   \n",
       "4  [{\"path\":\"cccd298cbbb889b3772b545f2f0ef25a.jpg...  16486713   \n",
       "\n",
       "                    51   52   53  54    55   56   57   58  \n",
       "0  2014-07-22 16:24:50  0.0  NaN NaN   9.0  NaN  NaN  NaN  \n",
       "1  2015-07-24 22:42:54  0.0  NaN NaN  10.0  NaN  NaN  NaN  \n",
       "2  2015-09-01 15:21:34  3.0  NaN NaN  10.0  NaN  NaN  NaN  \n",
       "3  2014-12-19 00:21:36  0.0  NaN NaN   NaN  NaN  NaN  NaN  \n",
       "4  2015-06-01 18:03:04  0.0  NaN NaN  10.0  NaN  NaN  NaN  "
      ]
     },
     "execution_count": 11,
     "metadata": {},
     "output_type": "execute_result"
    }
   ],
   "source": [
    "pd.options.display.max_columns=60\n",
    "home_property.head()"
   ]
  },
  {
   "cell_type": "code",
   "execution_count": 4,
   "metadata": {
    "scrolled": true
   },
   "outputs": [
    {
     "name": "stdout",
     "output_type": "stream",
     "text": [
      "<class 'pandas.core.frame.DataFrame'>\n",
      "RangeIndex: 381685 entries, 0 to 381684\n",
      "Data columns (total 59 columns):\n",
      "0     381685 non-null int64\n",
      "1     243087 non-null object\n",
      "2     380519 non-null object\n",
      "3     21106 non-null object\n",
      "4     3035 non-null object\n",
      "5     362446 non-null float64\n",
      "6     350844 non-null float64\n",
      "7     12806 non-null object\n",
      "8     381168 non-null object\n",
      "9     201794 non-null object\n",
      "10    381684 non-null float64\n",
      "11    381685 non-null int64\n",
      "12    372326 non-null object\n",
      "13    277477 non-null float64\n",
      "14    233069 non-null float64\n",
      "15    3035 non-null object\n",
      "16    252117 non-null float64\n",
      "17    359871 non-null float64\n",
      "18    359871 non-null float64\n",
      "19    240094 non-null float64\n",
      "20    5589 non-null object\n",
      "21    104334 non-null float64\n",
      "22    372928 non-null object\n",
      "23    338765 non-null float64\n",
      "24    324925 non-null float64\n",
      "25    381685 non-null object\n",
      "26    381001 non-null object\n",
      "27    381685 non-null object\n",
      "28    37862 non-null float64\n",
      "29    381685 non-null object\n",
      "30    381685 non-null int64\n",
      "31    381310 non-null object\n",
      "32    118764 non-null object\n",
      "33    351522 non-null float64\n",
      "34    381363 non-null object\n",
      "35    381685 non-null int64\n",
      "36    297595 non-null object\n",
      "37    140524 non-null object\n",
      "38    342537 non-null object\n",
      "39    204784 non-null object\n",
      "40    0 non-null float64\n",
      "41    350310 non-null object\n",
      "42    0 non-null float64\n",
      "43    235203 non-null float64\n",
      "44    271740 non-null float64\n",
      "45    378650 non-null object\n",
      "46    365042 non-null object\n",
      "47    365042 non-null object\n",
      "48    254332 non-null float64\n",
      "49    353418 non-null object\n",
      "50    378650 non-null object\n",
      "51    373704 non-null object\n",
      "52    294793 non-null float64\n",
      "53    46484 non-null object\n",
      "54    34360 non-null float64\n",
      "55    323272 non-null float64\n",
      "56    5626 non-null object\n",
      "57    28491 non-null object\n",
      "58    12990 non-null object\n",
      "dtypes: float64(22), int64(4), object(33)\n",
      "memory usage: 171.8+ MB\n"
     ]
    }
   ],
   "source": [
    "# check data\n",
    "# Columns with too many nulls 3, 4, 7, 15, 20, 28, 40, 42, 53, 54, 56, 57, 58\n",
    "home_property.info()"
   ]
  },
  {
   "cell_type": "code",
   "execution_count": 5,
   "metadata": {},
   "outputs": [
    {
     "name": "stdout",
     "output_type": "stream",
     "text": [
      "<class 'pandas.core.frame.DataFrame'>\n",
      "RangeIndex: 1140607 entries, 0 to 1140606\n",
      "Data columns (total 7 columns):\n",
      "__v                     608785 non-null float64\n",
      "_id                     1140607 non-null object\n",
      "address_zipcode         880152 non-null object\n",
      "link_homedetails        1140607 non-null object\n",
      "rentzestimate_amount    1052848 non-null float64\n",
      "unique_id               1140607 non-null object\n",
      "zestimate_amount        1109718 non-null float64\n",
      "dtypes: float64(3), object(4)\n",
      "memory usage: 60.9+ MB\n"
     ]
    }
   ],
   "source": [
    "rent.info()"
   ]
  },
  {
   "cell_type": "code",
   "execution_count": 12,
   "metadata": {},
   "outputs": [],
   "source": [
    "# selected useful columns as new dataset\n",
    "new_property = home_property.iloc[:,[5,6,8,10,17,18,19,22,23,26,29,33,34]]\n",
    "new_property.columns = [\"bathrooms\", \"bedrooms\", \"city\", \"current_list_price\", \"location_latitude\", \"location_longitude\", \\\n",
    "                        \"lot_sqft\", \"property_type\", \"sqft\", \"state\", \"unique_id\",\"year_built\", \"zip\"]"
   ]
  },
  {
   "cell_type": "code",
   "execution_count": 139,
   "metadata": {
    "collapsed": true
   },
   "outputs": [],
   "source": [
    "# extract id from rent\n",
    "#id_split = rent['unique_id'].str.replace('.', '_')\n",
    "#id_split = pd.DataFrame(id_split.str.split('_').tolist(), columns = ['number', 'unique_id'])"
   ]
  },
  {
   "cell_type": "code",
   "execution_count": 140,
   "metadata": {
    "collapsed": true
   },
   "outputs": [],
   "source": [
    "# combine id and rentestimate\n",
    "# zestimate_rent_id = pd.concat([id_split['unique_id'], rent['rentzestimate_amount'] ], axis = 1)\n",
    "# zestimate_rent_id.columns"
   ]
  },
  {
   "cell_type": "code",
   "execution_count": 149,
   "metadata": {
    "scrolled": true
   },
   "outputs": [
    {
     "data": {
      "text/html": [
       "<div>\n",
       "<table border=\"1\" class=\"dataframe\">\n",
       "  <thead>\n",
       "    <tr style=\"text-align: right;\">\n",
       "      <th></th>\n",
       "      <th>unique_id</th>\n",
       "      <th>rentzestimate_amount</th>\n",
       "    </tr>\n",
       "  </thead>\n",
       "  <tbody>\n",
       "    <tr>\n",
       "      <th>4118</th>\n",
       "      <td>08713339</td>\n",
       "      <td>2200.0</td>\n",
       "    </tr>\n",
       "    <tr>\n",
       "      <th>515989</th>\n",
       "      <td>08713339</td>\n",
       "      <td>1500.0</td>\n",
       "    </tr>\n",
       "    <tr>\n",
       "      <th>263357</th>\n",
       "      <td>09290202</td>\n",
       "      <td>1775.0</td>\n",
       "    </tr>\n",
       "    <tr>\n",
       "      <th>915103</th>\n",
       "      <td>09290202</td>\n",
       "      <td>1750.0</td>\n",
       "    </tr>\n",
       "    <tr>\n",
       "      <th>91961</th>\n",
       "      <td>09309831</td>\n",
       "      <td>975.0</td>\n",
       "    </tr>\n",
       "    <tr>\n",
       "      <th>660409</th>\n",
       "      <td>09309831</td>\n",
       "      <td>2000.0</td>\n",
       "    </tr>\n",
       "    <tr>\n",
       "      <th>132716</th>\n",
       "      <td>09336315</td>\n",
       "      <td>3425.0</td>\n",
       "    </tr>\n",
       "    <tr>\n",
       "      <th>58711</th>\n",
       "      <td>09336315</td>\n",
       "      <td>NaN</td>\n",
       "    </tr>\n",
       "    <tr>\n",
       "      <th>6692</th>\n",
       "      <td>09396193</td>\n",
       "      <td>2148.0</td>\n",
       "    </tr>\n",
       "    <tr>\n",
       "      <th>115119</th>\n",
       "      <td>09396193</td>\n",
       "      <td>11025.0</td>\n",
       "    </tr>\n",
       "    <tr>\n",
       "      <th>1029689</th>\n",
       "      <td>09483357</td>\n",
       "      <td>2500.0</td>\n",
       "    </tr>\n",
       "    <tr>\n",
       "      <th>255641</th>\n",
       "      <td>09483357</td>\n",
       "      <td>1600.0</td>\n",
       "    </tr>\n",
       "    <tr>\n",
       "      <th>898464</th>\n",
       "      <td>09501468</td>\n",
       "      <td>1750.0</td>\n",
       "    </tr>\n",
       "    <tr>\n",
       "      <th>10954</th>\n",
       "      <td>09501468</td>\n",
       "      <td>1095.0</td>\n",
       "    </tr>\n",
       "    <tr>\n",
       "      <th>139690</th>\n",
       "      <td>09512103</td>\n",
       "      <td>825.0</td>\n",
       "    </tr>\n",
       "    <tr>\n",
       "      <th>297029</th>\n",
       "      <td>09512103</td>\n",
       "      <td>1895.0</td>\n",
       "    </tr>\n",
       "    <tr>\n",
       "      <th>249281</th>\n",
       "      <td>09519839</td>\n",
       "      <td>1600.0</td>\n",
       "    </tr>\n",
       "    <tr>\n",
       "      <th>7951</th>\n",
       "      <td>09519839</td>\n",
       "      <td>2742.0</td>\n",
       "    </tr>\n",
       "    <tr>\n",
       "      <th>339347</th>\n",
       "      <td>09575465</td>\n",
       "      <td>2400.0</td>\n",
       "    </tr>\n",
       "    <tr>\n",
       "      <th>957510</th>\n",
       "      <td>09575465</td>\n",
       "      <td>1525.0</td>\n",
       "    </tr>\n",
       "    <tr>\n",
       "      <th>309197</th>\n",
       "      <td>09585493</td>\n",
       "      <td>2200.0</td>\n",
       "    </tr>\n",
       "    <tr>\n",
       "      <th>312646</th>\n",
       "      <td>09585493</td>\n",
       "      <td>1400.0</td>\n",
       "    </tr>\n",
       "    <tr>\n",
       "      <th>297989</th>\n",
       "      <td>09587182</td>\n",
       "      <td>1600.0</td>\n",
       "    </tr>\n",
       "    <tr>\n",
       "      <th>316103</th>\n",
       "      <td>09587182</td>\n",
       "      <td>2500.0</td>\n",
       "    </tr>\n",
       "    <tr>\n",
       "      <th>331150</th>\n",
       "      <td>09590003</td>\n",
       "      <td>2742.0</td>\n",
       "    </tr>\n",
       "    <tr>\n",
       "      <th>579131</th>\n",
       "      <td>09590003</td>\n",
       "      <td>NaN</td>\n",
       "    </tr>\n",
       "    <tr>\n",
       "      <th>154414</th>\n",
       "      <td>09590310</td>\n",
       "      <td>2733.0</td>\n",
       "    </tr>\n",
       "    <tr>\n",
       "      <th>330620</th>\n",
       "      <td>09590310</td>\n",
       "      <td>2300.0</td>\n",
       "    </tr>\n",
       "    <tr>\n",
       "      <th>362067</th>\n",
       "      <td>09594549</td>\n",
       "      <td>1500.0</td>\n",
       "    </tr>\n",
       "    <tr>\n",
       "      <th>5983</th>\n",
       "      <td>09594549</td>\n",
       "      <td>2100.0</td>\n",
       "    </tr>\n",
       "    <tr>\n",
       "      <th>...</th>\n",
       "      <td>...</td>\n",
       "      <td>...</td>\n",
       "    </tr>\n",
       "    <tr>\n",
       "      <th>530828</th>\n",
       "      <td>96398967</td>\n",
       "      <td>1550.0</td>\n",
       "    </tr>\n",
       "    <tr>\n",
       "      <th>279045</th>\n",
       "      <td>96398967</td>\n",
       "      <td>2400.0</td>\n",
       "    </tr>\n",
       "    <tr>\n",
       "      <th>857537</th>\n",
       "      <td>96512337</td>\n",
       "      <td>1395.0</td>\n",
       "    </tr>\n",
       "    <tr>\n",
       "      <th>916288</th>\n",
       "      <td>96512337</td>\n",
       "      <td>1250.0</td>\n",
       "    </tr>\n",
       "    <tr>\n",
       "      <th>415143</th>\n",
       "      <td>96583498</td>\n",
       "      <td>2486.0</td>\n",
       "    </tr>\n",
       "    <tr>\n",
       "      <th>353800</th>\n",
       "      <td>96583498</td>\n",
       "      <td>10628.0</td>\n",
       "    </tr>\n",
       "    <tr>\n",
       "      <th>353783</th>\n",
       "      <td>96627864</td>\n",
       "      <td>2250.0</td>\n",
       "    </tr>\n",
       "    <tr>\n",
       "      <th>534892</th>\n",
       "      <td>96627864</td>\n",
       "      <td>975.0</td>\n",
       "    </tr>\n",
       "    <tr>\n",
       "      <th>360185</th>\n",
       "      <td>96782487</td>\n",
       "      <td>900.0</td>\n",
       "    </tr>\n",
       "    <tr>\n",
       "      <th>889977</th>\n",
       "      <td>96782487</td>\n",
       "      <td>2150.0</td>\n",
       "    </tr>\n",
       "    <tr>\n",
       "      <th>366739</th>\n",
       "      <td>96837627</td>\n",
       "      <td>2403.0</td>\n",
       "    </tr>\n",
       "    <tr>\n",
       "      <th>223855</th>\n",
       "      <td>96837627</td>\n",
       "      <td>1495.0</td>\n",
       "    </tr>\n",
       "    <tr>\n",
       "      <th>655638</th>\n",
       "      <td>96850948</td>\n",
       "      <td>1450.0</td>\n",
       "    </tr>\n",
       "    <tr>\n",
       "      <th>402201</th>\n",
       "      <td>96850948</td>\n",
       "      <td>2200.0</td>\n",
       "    </tr>\n",
       "    <tr>\n",
       "      <th>364637</th>\n",
       "      <td>96891152</td>\n",
       "      <td>1600.0</td>\n",
       "    </tr>\n",
       "    <tr>\n",
       "      <th>662166</th>\n",
       "      <td>96891152</td>\n",
       "      <td>1000.0</td>\n",
       "    </tr>\n",
       "    <tr>\n",
       "      <th>392645</th>\n",
       "      <td>96903604</td>\n",
       "      <td>3250.0</td>\n",
       "    </tr>\n",
       "    <tr>\n",
       "      <th>536973</th>\n",
       "      <td>96903604</td>\n",
       "      <td>1400.0</td>\n",
       "    </tr>\n",
       "    <tr>\n",
       "      <th>390913</th>\n",
       "      <td>96998341</td>\n",
       "      <td>4465.0</td>\n",
       "    </tr>\n",
       "    <tr>\n",
       "      <th>1052319</th>\n",
       "      <td>96998341</td>\n",
       "      <td>1350.0</td>\n",
       "    </tr>\n",
       "    <tr>\n",
       "      <th>538585</th>\n",
       "      <td>97002699</td>\n",
       "      <td>2500.0</td>\n",
       "    </tr>\n",
       "    <tr>\n",
       "      <th>360138</th>\n",
       "      <td>97002699</td>\n",
       "      <td>1250.0</td>\n",
       "    </tr>\n",
       "    <tr>\n",
       "      <th>799357</th>\n",
       "      <td>97060628</td>\n",
       "      <td>2980.0</td>\n",
       "    </tr>\n",
       "    <tr>\n",
       "      <th>391217</th>\n",
       "      <td>97060628</td>\n",
       "      <td>6250.0</td>\n",
       "    </tr>\n",
       "    <tr>\n",
       "      <th>838677</th>\n",
       "      <td>97323674</td>\n",
       "      <td>6696.0</td>\n",
       "    </tr>\n",
       "    <tr>\n",
       "      <th>258629</th>\n",
       "      <td>97323674</td>\n",
       "      <td>1600.0</td>\n",
       "    </tr>\n",
       "    <tr>\n",
       "      <th>372999</th>\n",
       "      <td>97450889</td>\n",
       "      <td>NaN</td>\n",
       "    </tr>\n",
       "    <tr>\n",
       "      <th>834212</th>\n",
       "      <td>97450889</td>\n",
       "      <td>NaN</td>\n",
       "    </tr>\n",
       "    <tr>\n",
       "      <th>371386</th>\n",
       "      <td>98882263</td>\n",
       "      <td>2000.0</td>\n",
       "    </tr>\n",
       "    <tr>\n",
       "      <th>580426</th>\n",
       "      <td>98882263</td>\n",
       "      <td>1949.0</td>\n",
       "    </tr>\n",
       "  </tbody>\n",
       "</table>\n",
       "<p>2394 rows × 2 columns</p>\n",
       "</div>"
      ],
      "text/plain": [
       "        unique_id  rentzestimate_amount\n",
       "4118     08713339                2200.0\n",
       "515989   08713339                1500.0\n",
       "263357   09290202                1775.0\n",
       "915103   09290202                1750.0\n",
       "91961    09309831                 975.0\n",
       "660409   09309831                2000.0\n",
       "132716   09336315                3425.0\n",
       "58711    09336315                   NaN\n",
       "6692     09396193                2148.0\n",
       "115119   09396193               11025.0\n",
       "1029689  09483357                2500.0\n",
       "255641   09483357                1600.0\n",
       "898464   09501468                1750.0\n",
       "10954    09501468                1095.0\n",
       "139690   09512103                 825.0\n",
       "297029   09512103                1895.0\n",
       "249281   09519839                1600.0\n",
       "7951     09519839                2742.0\n",
       "339347   09575465                2400.0\n",
       "957510   09575465                1525.0\n",
       "309197   09585493                2200.0\n",
       "312646   09585493                1400.0\n",
       "297989   09587182                1600.0\n",
       "316103   09587182                2500.0\n",
       "331150   09590003                2742.0\n",
       "579131   09590003                   NaN\n",
       "154414   09590310                2733.0\n",
       "330620   09590310                2300.0\n",
       "362067   09594549                1500.0\n",
       "5983     09594549                2100.0\n",
       "...           ...                   ...\n",
       "530828   96398967                1550.0\n",
       "279045   96398967                2400.0\n",
       "857537   96512337                1395.0\n",
       "916288   96512337                1250.0\n",
       "415143   96583498                2486.0\n",
       "353800   96583498               10628.0\n",
       "353783   96627864                2250.0\n",
       "534892   96627864                 975.0\n",
       "360185   96782487                 900.0\n",
       "889977   96782487                2150.0\n",
       "366739   96837627                2403.0\n",
       "223855   96837627                1495.0\n",
       "655638   96850948                1450.0\n",
       "402201   96850948                2200.0\n",
       "364637   96891152                1600.0\n",
       "662166   96891152                1000.0\n",
       "392645   96903604                3250.0\n",
       "536973   96903604                1400.0\n",
       "390913   96998341                4465.0\n",
       "1052319  96998341                1350.0\n",
       "538585   97002699                2500.0\n",
       "360138   97002699                1250.0\n",
       "799357   97060628                2980.0\n",
       "391217   97060628                6250.0\n",
       "838677   97323674                6696.0\n",
       "258629   97323674                1600.0\n",
       "372999   97450889                   NaN\n",
       "834212   97450889                   NaN\n",
       "371386   98882263                2000.0\n",
       "580426   98882263                1949.0\n",
       "\n",
       "[2394 rows x 2 columns]"
      ]
     },
     "execution_count": 149,
     "metadata": {},
     "output_type": "execute_result"
    }
   ],
   "source": [
    "# zestimate_rent_id[zestimate_rent_id.duplicated(['unique_id'], keep = False)].sort(['unique_id'])"
   ]
  },
  {
   "cell_type": "code",
   "execution_count": 13,
   "metadata": {},
   "outputs": [],
   "source": [
    "new_rent = rent[[\"unique_id\", \"rentzestimate_amount\"]]"
   ]
  },
  {
   "cell_type": "code",
   "execution_count": 14,
   "metadata": {
    "scrolled": true
   },
   "outputs": [
    {
     "data": {
      "text/html": [
       "<div>\n",
       "<style scoped>\n",
       "    .dataframe tbody tr th:only-of-type {\n",
       "        vertical-align: middle;\n",
       "    }\n",
       "\n",
       "    .dataframe tbody tr th {\n",
       "        vertical-align: top;\n",
       "    }\n",
       "\n",
       "    .dataframe thead th {\n",
       "        text-align: right;\n",
       "    }\n",
       "</style>\n",
       "<table border=\"1\" class=\"dataframe\">\n",
       "  <thead>\n",
       "    <tr style=\"text-align: right;\">\n",
       "      <th></th>\n",
       "      <th>unique_id</th>\n",
       "      <th>rentzestimate_amount</th>\n",
       "    </tr>\n",
       "  </thead>\n",
       "  <tbody>\n",
       "    <tr>\n",
       "      <th>0</th>\n",
       "      <td>MLSListings_81646083</td>\n",
       "      <td>16619.0</td>\n",
       "    </tr>\n",
       "    <tr>\n",
       "      <th>1</th>\n",
       "      <td>MLSListings_81646075</td>\n",
       "      <td>3495.0</td>\n",
       "    </tr>\n",
       "    <tr>\n",
       "      <th>2</th>\n",
       "      <td>569e6d75055611.96147919</td>\n",
       "      <td>4448.0</td>\n",
       "    </tr>\n",
       "    <tr>\n",
       "      <th>3</th>\n",
       "      <td>569e6d869514d7.19769412</td>\n",
       "      <td>1430.0</td>\n",
       "    </tr>\n",
       "    <tr>\n",
       "      <th>4</th>\n",
       "      <td>569e6d858057f3.84823418</td>\n",
       "      <td>1400.0</td>\n",
       "    </tr>\n",
       "  </tbody>\n",
       "</table>\n",
       "</div>"
      ],
      "text/plain": [
       "                 unique_id  rentzestimate_amount\n",
       "0     MLSListings_81646083               16619.0\n",
       "1     MLSListings_81646075                3495.0\n",
       "2  569e6d75055611.96147919                4448.0\n",
       "3  569e6d869514d7.19769412                1430.0\n",
       "4  569e6d858057f3.84823418                1400.0"
      ]
     },
     "execution_count": 14,
     "metadata": {},
     "output_type": "execute_result"
    }
   ],
   "source": [
    "new_rent.head()"
   ]
  },
  {
   "cell_type": "code",
   "execution_count": 15,
   "metadata": {},
   "outputs": [],
   "source": [
    "# merge two datasets by unique_id\n",
    "data = pd.merge(new_property, new_rent,  on='unique_id', how='left')"
   ]
  },
  {
   "cell_type": "code",
   "execution_count": 16,
   "metadata": {},
   "outputs": [
    {
     "data": {
      "text/plain": [
       "(381685, 14)"
      ]
     },
     "execution_count": 16,
     "metadata": {},
     "output_type": "execute_result"
    }
   ],
   "source": [
    "data.shape"
   ]
  },
  {
   "cell_type": "code",
   "execution_count": 17,
   "metadata": {},
   "outputs": [
    {
     "data": {
      "text/html": [
       "<div>\n",
       "<style scoped>\n",
       "    .dataframe tbody tr th:only-of-type {\n",
       "        vertical-align: middle;\n",
       "    }\n",
       "\n",
       "    .dataframe tbody tr th {\n",
       "        vertical-align: top;\n",
       "    }\n",
       "\n",
       "    .dataframe thead th {\n",
       "        text-align: right;\n",
       "    }\n",
       "</style>\n",
       "<table border=\"1\" class=\"dataframe\">\n",
       "  <thead>\n",
       "    <tr style=\"text-align: right;\">\n",
       "      <th></th>\n",
       "      <th>bathrooms</th>\n",
       "      <th>bedrooms</th>\n",
       "      <th>city</th>\n",
       "      <th>current_list_price</th>\n",
       "      <th>location_latitude</th>\n",
       "      <th>location_longitude</th>\n",
       "      <th>lot_sqft</th>\n",
       "      <th>property_type</th>\n",
       "      <th>sqft</th>\n",
       "      <th>state</th>\n",
       "      <th>unique_id</th>\n",
       "      <th>year_built</th>\n",
       "      <th>zip</th>\n",
       "      <th>rentzestimate_amount</th>\n",
       "    </tr>\n",
       "  </thead>\n",
       "  <tbody>\n",
       "    <tr>\n",
       "      <th>0</th>\n",
       "      <td>2.0</td>\n",
       "      <td>2.0</td>\n",
       "      <td>Flatonia</td>\n",
       "      <td>163000.0</td>\n",
       "      <td>29.687252</td>\n",
       "      <td>-97.098678</td>\n",
       "      <td>0.0</td>\n",
       "      <td>RESI</td>\n",
       "      <td>2318.0</td>\n",
       "      <td>TX</td>\n",
       "      <td>ABOR_15645711</td>\n",
       "      <td>1996.0</td>\n",
       "      <td>78941</td>\n",
       "      <td>1400.0</td>\n",
       "    </tr>\n",
       "    <tr>\n",
       "      <th>1</th>\n",
       "      <td>1.0</td>\n",
       "      <td>1.0</td>\n",
       "      <td>Austin</td>\n",
       "      <td>225000.0</td>\n",
       "      <td>30.388230</td>\n",
       "      <td>-97.965567</td>\n",
       "      <td>0.0</td>\n",
       "      <td>RESI</td>\n",
       "      <td>704.0</td>\n",
       "      <td>TX</td>\n",
       "      <td>ABOR_15646314</td>\n",
       "      <td>1955.0</td>\n",
       "      <td>78734</td>\n",
       "      <td>1350.0</td>\n",
       "    </tr>\n",
       "    <tr>\n",
       "      <th>2</th>\n",
       "      <td>8.0</td>\n",
       "      <td>5.0</td>\n",
       "      <td>Austin</td>\n",
       "      <td>5200000.0</td>\n",
       "      <td>30.270244</td>\n",
       "      <td>-97.741539</td>\n",
       "      <td>0.0</td>\n",
       "      <td>NaN</td>\n",
       "      <td>8808.0</td>\n",
       "      <td>TX</td>\n",
       "      <td>ABOR_16160231</td>\n",
       "      <td>1930.0</td>\n",
       "      <td>78701</td>\n",
       "      <td>24799.0</td>\n",
       "    </tr>\n",
       "    <tr>\n",
       "      <th>3</th>\n",
       "      <td>2.0</td>\n",
       "      <td>3.0</td>\n",
       "      <td>Other</td>\n",
       "      <td>27500.0</td>\n",
       "      <td>NaN</td>\n",
       "      <td>NaN</td>\n",
       "      <td>NaN</td>\n",
       "      <td>NaN</td>\n",
       "      <td>1585.0</td>\n",
       "      <td>MS</td>\n",
       "      <td>ABOR_16429731</td>\n",
       "      <td>1955.0</td>\n",
       "      <td>39209</td>\n",
       "      <td>NaN</td>\n",
       "    </tr>\n",
       "    <tr>\n",
       "      <th>4</th>\n",
       "      <td>3.0</td>\n",
       "      <td>3.0</td>\n",
       "      <td>Jonestown</td>\n",
       "      <td>259900.0</td>\n",
       "      <td>30.454888</td>\n",
       "      <td>-97.934025</td>\n",
       "      <td>0.0</td>\n",
       "      <td>APT</td>\n",
       "      <td>1715.0</td>\n",
       "      <td>TX</td>\n",
       "      <td>ABOR_16486713</td>\n",
       "      <td>2006.0</td>\n",
       "      <td>78645</td>\n",
       "      <td>1950.0</td>\n",
       "    </tr>\n",
       "  </tbody>\n",
       "</table>\n",
       "</div>"
      ],
      "text/plain": [
       "   bathrooms  bedrooms       city  current_list_price  location_latitude  \\\n",
       "0        2.0       2.0   Flatonia            163000.0          29.687252   \n",
       "1        1.0       1.0     Austin            225000.0          30.388230   \n",
       "2        8.0       5.0     Austin           5200000.0          30.270244   \n",
       "3        2.0       3.0      Other             27500.0                NaN   \n",
       "4        3.0       3.0  Jonestown            259900.0          30.454888   \n",
       "\n",
       "   location_longitude  lot_sqft property_type    sqft state      unique_id  \\\n",
       "0          -97.098678       0.0          RESI  2318.0    TX  ABOR_15645711   \n",
       "1          -97.965567       0.0          RESI   704.0    TX  ABOR_15646314   \n",
       "2          -97.741539       0.0           NaN  8808.0    TX  ABOR_16160231   \n",
       "3                 NaN       NaN           NaN  1585.0    MS  ABOR_16429731   \n",
       "4          -97.934025       0.0           APT  1715.0    TX  ABOR_16486713   \n",
       "\n",
       "   year_built    zip  rentzestimate_amount  \n",
       "0      1996.0  78941                1400.0  \n",
       "1      1955.0  78734                1350.0  \n",
       "2      1930.0  78701               24799.0  \n",
       "3      1955.0  39209                   NaN  \n",
       "4      2006.0  78645                1950.0  "
      ]
     },
     "execution_count": 17,
     "metadata": {},
     "output_type": "execute_result"
    }
   ],
   "source": [
    "data.head()"
   ]
  },
  {
   "cell_type": "code",
   "execution_count": 18,
   "metadata": {
    "scrolled": true
   },
   "outputs": [
    {
     "data": {
      "text/html": [
       "<div>\n",
       "<style scoped>\n",
       "    .dataframe tbody tr th:only-of-type {\n",
       "        vertical-align: middle;\n",
       "    }\n",
       "\n",
       "    .dataframe tbody tr th {\n",
       "        vertical-align: top;\n",
       "    }\n",
       "\n",
       "    .dataframe thead th {\n",
       "        text-align: right;\n",
       "    }\n",
       "</style>\n",
       "<table border=\"1\" class=\"dataframe\">\n",
       "  <thead>\n",
       "    <tr style=\"text-align: right;\">\n",
       "      <th></th>\n",
       "      <th>bathrooms</th>\n",
       "      <th>bedrooms</th>\n",
       "      <th>city</th>\n",
       "      <th>current_list_price</th>\n",
       "      <th>location_latitude</th>\n",
       "      <th>location_longitude</th>\n",
       "      <th>lot_sqft</th>\n",
       "      <th>property_type</th>\n",
       "      <th>sqft</th>\n",
       "      <th>state</th>\n",
       "      <th>unique_id</th>\n",
       "      <th>year_built</th>\n",
       "      <th>zip</th>\n",
       "      <th>rentzestimate_amount</th>\n",
       "    </tr>\n",
       "  </thead>\n",
       "  <tbody>\n",
       "  </tbody>\n",
       "</table>\n",
       "</div>"
      ],
      "text/plain": [
       "Empty DataFrame\n",
       "Columns: [bathrooms, bedrooms, city, current_list_price, location_latitude, location_longitude, lot_sqft, property_type, sqft, state, unique_id, year_built, zip, rentzestimate_amount]\n",
       "Index: []"
      ]
     },
     "execution_count": 18,
     "metadata": {},
     "output_type": "execute_result"
    }
   ],
   "source": [
    "# there are duplicates of ID in data\n",
    "data[data.duplicated(['unique_id'], keep=False)]"
   ]
  },
  {
   "cell_type": "code",
   "execution_count": 19,
   "metadata": {
    "scrolled": true
   },
   "outputs": [
    {
     "data": {
      "text/plain": [
       "103344"
      ]
     },
     "execution_count": 19,
     "metadata": {},
     "output_type": "execute_result"
    }
   ],
   "source": [
    "#new_data['rentzestimate_amount'].describe()\n",
    "data['rentzestimate_amount'].isnull().sum()"
   ]
  },
  {
   "cell_type": "code",
   "execution_count": 20,
   "metadata": {},
   "outputs": [],
   "source": [
    "# extract data with rentzestimate null for future prediction use\n",
    "data_null = data[data['rentzestimate_amount'].isnull()]"
   ]
  },
  {
   "cell_type": "code",
   "execution_count": 21,
   "metadata": {},
   "outputs": [
    {
     "data": {
      "text/plain": [
       "(103344, 14)"
      ]
     },
     "execution_count": 21,
     "metadata": {},
     "output_type": "execute_result"
    }
   ],
   "source": [
    "data_null.shape"
   ]
  },
  {
   "cell_type": "code",
   "execution_count": 22,
   "metadata": {
    "scrolled": false
   },
   "outputs": [
    {
     "data": {
      "text/html": [
       "<div>\n",
       "<style scoped>\n",
       "    .dataframe tbody tr th:only-of-type {\n",
       "        vertical-align: middle;\n",
       "    }\n",
       "\n",
       "    .dataframe tbody tr th {\n",
       "        vertical-align: top;\n",
       "    }\n",
       "\n",
       "    .dataframe thead th {\n",
       "        text-align: right;\n",
       "    }\n",
       "</style>\n",
       "<table border=\"1\" class=\"dataframe\">\n",
       "  <thead>\n",
       "    <tr style=\"text-align: right;\">\n",
       "      <th></th>\n",
       "      <th>bathrooms</th>\n",
       "      <th>bedrooms</th>\n",
       "      <th>city</th>\n",
       "      <th>current_list_price</th>\n",
       "      <th>location_latitude</th>\n",
       "      <th>location_longitude</th>\n",
       "      <th>lot_sqft</th>\n",
       "      <th>property_type</th>\n",
       "      <th>sqft</th>\n",
       "      <th>state</th>\n",
       "      <th>unique_id</th>\n",
       "      <th>year_built</th>\n",
       "      <th>zip</th>\n",
       "      <th>rentzestimate_amount</th>\n",
       "    </tr>\n",
       "  </thead>\n",
       "  <tbody>\n",
       "    <tr>\n",
       "      <th>3</th>\n",
       "      <td>2.0</td>\n",
       "      <td>3.0</td>\n",
       "      <td>Other</td>\n",
       "      <td>27500.0</td>\n",
       "      <td>NaN</td>\n",
       "      <td>NaN</td>\n",
       "      <td>NaN</td>\n",
       "      <td>NaN</td>\n",
       "      <td>1585.0</td>\n",
       "      <td>MS</td>\n",
       "      <td>ABOR_16429731</td>\n",
       "      <td>1955.0</td>\n",
       "      <td>39209</td>\n",
       "      <td>NaN</td>\n",
       "    </tr>\n",
       "    <tr>\n",
       "      <th>7</th>\n",
       "      <td>3.0</td>\n",
       "      <td>3.0</td>\n",
       "      <td>San Marcos</td>\n",
       "      <td>334900.0</td>\n",
       "      <td>29.866884</td>\n",
       "      <td>-97.968936</td>\n",
       "      <td>0.0</td>\n",
       "      <td>COND</td>\n",
       "      <td>2351.0</td>\n",
       "      <td>TX</td>\n",
       "      <td>ABOR_17615028</td>\n",
       "      <td>2016.0</td>\n",
       "      <td>78666</td>\n",
       "      <td>NaN</td>\n",
       "    </tr>\n",
       "    <tr>\n",
       "      <th>13</th>\n",
       "      <td>3.0</td>\n",
       "      <td>3.0</td>\n",
       "      <td>Leander</td>\n",
       "      <td>349990.0</td>\n",
       "      <td>30.527986</td>\n",
       "      <td>-97.900691</td>\n",
       "      <td>NaN</td>\n",
       "      <td>RESI</td>\n",
       "      <td>2148.0</td>\n",
       "      <td>TX</td>\n",
       "      <td>ABOR_18511226</td>\n",
       "      <td>2015.0</td>\n",
       "      <td>78641</td>\n",
       "      <td>NaN</td>\n",
       "    </tr>\n",
       "    <tr>\n",
       "      <th>17</th>\n",
       "      <td>3.0</td>\n",
       "      <td>3.0</td>\n",
       "      <td>Austin</td>\n",
       "      <td>431350.0</td>\n",
       "      <td>30.400907</td>\n",
       "      <td>-97.842613</td>\n",
       "      <td>NaN</td>\n",
       "      <td>APT</td>\n",
       "      <td>1825.0</td>\n",
       "      <td>TX</td>\n",
       "      <td>ABOR_18761706</td>\n",
       "      <td>2015.0</td>\n",
       "      <td>78726</td>\n",
       "      <td>NaN</td>\n",
       "    </tr>\n",
       "    <tr>\n",
       "      <th>19</th>\n",
       "      <td>1.0</td>\n",
       "      <td>3.0</td>\n",
       "      <td>Other</td>\n",
       "      <td>19500.0</td>\n",
       "      <td>NaN</td>\n",
       "      <td>NaN</td>\n",
       "      <td>NaN</td>\n",
       "      <td>RESI</td>\n",
       "      <td>840.0</td>\n",
       "      <td>IN</td>\n",
       "      <td>ABOR_18856295</td>\n",
       "      <td>1952.0</td>\n",
       "      <td>46406</td>\n",
       "      <td>NaN</td>\n",
       "    </tr>\n",
       "  </tbody>\n",
       "</table>\n",
       "</div>"
      ],
      "text/plain": [
       "    bathrooms  bedrooms        city  current_list_price  location_latitude  \\\n",
       "3         2.0       3.0       Other             27500.0                NaN   \n",
       "7         3.0       3.0  San Marcos            334900.0          29.866884   \n",
       "13        3.0       3.0     Leander            349990.0          30.527986   \n",
       "17        3.0       3.0      Austin            431350.0          30.400907   \n",
       "19        1.0       3.0       Other             19500.0                NaN   \n",
       "\n",
       "    location_longitude  lot_sqft property_type    sqft state      unique_id  \\\n",
       "3                  NaN       NaN           NaN  1585.0    MS  ABOR_16429731   \n",
       "7           -97.968936       0.0          COND  2351.0    TX  ABOR_17615028   \n",
       "13          -97.900691       NaN          RESI  2148.0    TX  ABOR_18511226   \n",
       "17          -97.842613       NaN           APT  1825.0    TX  ABOR_18761706   \n",
       "19                 NaN       NaN          RESI   840.0    IN  ABOR_18856295   \n",
       "\n",
       "    year_built    zip  rentzestimate_amount  \n",
       "3       1955.0  39209                   NaN  \n",
       "7       2016.0  78666                   NaN  \n",
       "13      2015.0  78641                   NaN  \n",
       "17      2015.0  78726                   NaN  \n",
       "19      1952.0  46406                   NaN  "
      ]
     },
     "execution_count": 22,
     "metadata": {},
     "output_type": "execute_result"
    }
   ],
   "source": [
    "data_null.head()"
   ]
  },
  {
   "cell_type": "code",
   "execution_count": 23,
   "metadata": {},
   "outputs": [],
   "source": [
    "data_estimate = data[-data['rentzestimate_amount'].isnull()]"
   ]
  },
  {
   "cell_type": "code",
   "execution_count": 20,
   "metadata": {
    "scrolled": true
   },
   "outputs": [
    {
     "data": {
      "text/html": [
       "<div>\n",
       "<style>\n",
       "    .dataframe thead tr:only-child th {\n",
       "        text-align: right;\n",
       "    }\n",
       "\n",
       "    .dataframe thead th {\n",
       "        text-align: left;\n",
       "    }\n",
       "\n",
       "    .dataframe tbody tr th {\n",
       "        vertical-align: top;\n",
       "    }\n",
       "</style>\n",
       "<table border=\"1\" class=\"dataframe\">\n",
       "  <thead>\n",
       "    <tr style=\"text-align: right;\">\n",
       "      <th></th>\n",
       "      <th>bathrooms</th>\n",
       "      <th>bedrooms</th>\n",
       "      <th>city</th>\n",
       "      <th>current_list_price</th>\n",
       "      <th>location_latitude</th>\n",
       "      <th>location_longitude</th>\n",
       "      <th>lot_sqft</th>\n",
       "      <th>property_type</th>\n",
       "      <th>sqft</th>\n",
       "      <th>state</th>\n",
       "      <th>unique_id</th>\n",
       "      <th>year_built</th>\n",
       "      <th>zip</th>\n",
       "      <th>rentzestimate_amount</th>\n",
       "    </tr>\n",
       "  </thead>\n",
       "  <tbody>\n",
       "    <tr>\n",
       "      <th>0</th>\n",
       "      <td>2.0</td>\n",
       "      <td>2.0</td>\n",
       "      <td>Flatonia</td>\n",
       "      <td>163000.0</td>\n",
       "      <td>29.687252</td>\n",
       "      <td>-97.098678</td>\n",
       "      <td>0.0</td>\n",
       "      <td>RESI</td>\n",
       "      <td>2318.0</td>\n",
       "      <td>TX</td>\n",
       "      <td>ABOR_15645711</td>\n",
       "      <td>1996.0</td>\n",
       "      <td>78941</td>\n",
       "      <td>1400.0</td>\n",
       "    </tr>\n",
       "    <tr>\n",
       "      <th>1</th>\n",
       "      <td>1.0</td>\n",
       "      <td>1.0</td>\n",
       "      <td>Austin</td>\n",
       "      <td>225000.0</td>\n",
       "      <td>30.388230</td>\n",
       "      <td>-97.965567</td>\n",
       "      <td>0.0</td>\n",
       "      <td>RESI</td>\n",
       "      <td>704.0</td>\n",
       "      <td>TX</td>\n",
       "      <td>ABOR_15646314</td>\n",
       "      <td>1955.0</td>\n",
       "      <td>78734</td>\n",
       "      <td>1350.0</td>\n",
       "    </tr>\n",
       "    <tr>\n",
       "      <th>2</th>\n",
       "      <td>8.0</td>\n",
       "      <td>5.0</td>\n",
       "      <td>Austin</td>\n",
       "      <td>5200000.0</td>\n",
       "      <td>30.270244</td>\n",
       "      <td>-97.741539</td>\n",
       "      <td>0.0</td>\n",
       "      <td>NaN</td>\n",
       "      <td>8808.0</td>\n",
       "      <td>TX</td>\n",
       "      <td>ABOR_16160231</td>\n",
       "      <td>1930.0</td>\n",
       "      <td>78701</td>\n",
       "      <td>24799.0</td>\n",
       "    </tr>\n",
       "    <tr>\n",
       "      <th>4</th>\n",
       "      <td>3.0</td>\n",
       "      <td>3.0</td>\n",
       "      <td>Jonestown</td>\n",
       "      <td>259900.0</td>\n",
       "      <td>30.454888</td>\n",
       "      <td>-97.934025</td>\n",
       "      <td>0.0</td>\n",
       "      <td>APT</td>\n",
       "      <td>1715.0</td>\n",
       "      <td>TX</td>\n",
       "      <td>ABOR_16486713</td>\n",
       "      <td>2006.0</td>\n",
       "      <td>78645</td>\n",
       "      <td>1950.0</td>\n",
       "    </tr>\n",
       "    <tr>\n",
       "      <th>5</th>\n",
       "      <td>5.0</td>\n",
       "      <td>3.0</td>\n",
       "      <td>Burnet</td>\n",
       "      <td>6850000.0</td>\n",
       "      <td>30.674729</td>\n",
       "      <td>-98.212187</td>\n",
       "      <td>640.0</td>\n",
       "      <td>RESI</td>\n",
       "      <td>4889.0</td>\n",
       "      <td>TX</td>\n",
       "      <td>ABOR_16633908</td>\n",
       "      <td>2000.0</td>\n",
       "      <td>78611</td>\n",
       "      <td>9320.0</td>\n",
       "    </tr>\n",
       "  </tbody>\n",
       "</table>\n",
       "</div>"
      ],
      "text/plain": [
       "   bathrooms  bedrooms       city  current_list_price  location_latitude  \\\n",
       "0        2.0       2.0   Flatonia            163000.0          29.687252   \n",
       "1        1.0       1.0     Austin            225000.0          30.388230   \n",
       "2        8.0       5.0     Austin           5200000.0          30.270244   \n",
       "4        3.0       3.0  Jonestown            259900.0          30.454888   \n",
       "5        5.0       3.0     Burnet           6850000.0          30.674729   \n",
       "\n",
       "   location_longitude  lot_sqft property_type    sqft state      unique_id  \\\n",
       "0          -97.098678       0.0          RESI  2318.0    TX  ABOR_15645711   \n",
       "1          -97.965567       0.0          RESI   704.0    TX  ABOR_15646314   \n",
       "2          -97.741539       0.0           NaN  8808.0    TX  ABOR_16160231   \n",
       "4          -97.934025       0.0           APT  1715.0    TX  ABOR_16486713   \n",
       "5          -98.212187     640.0          RESI  4889.0    TX  ABOR_16633908   \n",
       "\n",
       "   year_built    zip  rentzestimate_amount  \n",
       "0      1996.0  78941                1400.0  \n",
       "1      1955.0  78734                1350.0  \n",
       "2      1930.0  78701               24799.0  \n",
       "4      2006.0  78645                1950.0  \n",
       "5      2000.0  78611                9320.0  "
      ]
     },
     "execution_count": 20,
     "metadata": {},
     "output_type": "execute_result"
    }
   ],
   "source": [
    "data_estimate.head()"
   ]
  },
  {
   "cell_type": "code",
   "execution_count": 24,
   "metadata": {},
   "outputs": [],
   "source": [
    "data_estimate = data_estimate.drop([\"lot_sqft\", \"location_latitude\", 'location_longitude'], 1)"
   ]
  },
  {
   "cell_type": "code",
   "execution_count": 25,
   "metadata": {},
   "outputs": [],
   "source": [
    "data_train = data_estimate.sample(frac=0.7, random_state=10)\n",
    "data_test = data_estimate.drop(data_train.index)"
   ]
  },
  {
   "cell_type": "code",
   "execution_count": 26,
   "metadata": {},
   "outputs": [
    {
     "data": {
      "text/plain": [
       "(194839, 11)"
      ]
     },
     "execution_count": 26,
     "metadata": {},
     "output_type": "execute_result"
    }
   ],
   "source": [
    "data_train.shape"
   ]
  },
  {
   "cell_type": "code",
   "execution_count": 27,
   "metadata": {},
   "outputs": [
    {
     "data": {
      "text/plain": [
       "(83502, 11)"
      ]
     },
     "execution_count": 27,
     "metadata": {},
     "output_type": "execute_result"
    }
   ],
   "source": [
    "data_test.shape"
   ]
  },
  {
   "cell_type": "code",
   "execution_count": 28,
   "metadata": {},
   "outputs": [
    {
     "data": {
      "text/html": [
       "<div>\n",
       "<style scoped>\n",
       "    .dataframe tbody tr th:only-of-type {\n",
       "        vertical-align: middle;\n",
       "    }\n",
       "\n",
       "    .dataframe tbody tr th {\n",
       "        vertical-align: top;\n",
       "    }\n",
       "\n",
       "    .dataframe thead th {\n",
       "        text-align: right;\n",
       "    }\n",
       "</style>\n",
       "<table border=\"1\" class=\"dataframe\">\n",
       "  <thead>\n",
       "    <tr style=\"text-align: right;\">\n",
       "      <th></th>\n",
       "      <th>bathrooms</th>\n",
       "      <th>bedrooms</th>\n",
       "      <th>current_list_price</th>\n",
       "      <th>sqft</th>\n",
       "      <th>year_built</th>\n",
       "      <th>rentzestimate_amount</th>\n",
       "    </tr>\n",
       "  </thead>\n",
       "  <tbody>\n",
       "    <tr>\n",
       "      <th>count</th>\n",
       "      <td>190328.000000</td>\n",
       "      <td>187570.000000</td>\n",
       "      <td>1.948380e+05</td>\n",
       "      <td>182230.000000</td>\n",
       "      <td>1.868320e+05</td>\n",
       "      <td>194839.000000</td>\n",
       "    </tr>\n",
       "    <tr>\n",
       "      <th>mean</th>\n",
       "      <td>2.498597</td>\n",
       "      <td>3.356624</td>\n",
       "      <td>6.948948e+05</td>\n",
       "      <td>2327.189179</td>\n",
       "      <td>2.091947e+03</td>\n",
       "      <td>3486.484482</td>\n",
       "    </tr>\n",
       "    <tr>\n",
       "      <th>std</th>\n",
       "      <td>1.305535</td>\n",
       "      <td>1.286088</td>\n",
       "      <td>1.772303e+06</td>\n",
       "      <td>2157.128501</td>\n",
       "      <td>4.527661e+04</td>\n",
       "      <td>5516.585570</td>\n",
       "    </tr>\n",
       "    <tr>\n",
       "      <th>min</th>\n",
       "      <td>0.000000</td>\n",
       "      <td>0.000000</td>\n",
       "      <td>0.000000e+00</td>\n",
       "      <td>0.000000</td>\n",
       "      <td>0.000000e+00</td>\n",
       "      <td>400.000000</td>\n",
       "    </tr>\n",
       "    <tr>\n",
       "      <th>25%</th>\n",
       "      <td>2.000000</td>\n",
       "      <td>3.000000</td>\n",
       "      <td>2.150000e+05</td>\n",
       "      <td>1319.000000</td>\n",
       "      <td>1.966000e+03</td>\n",
       "      <td>1555.000000</td>\n",
       "    </tr>\n",
       "    <tr>\n",
       "      <th>50%</th>\n",
       "      <td>2.000000</td>\n",
       "      <td>3.000000</td>\n",
       "      <td>3.749900e+05</td>\n",
       "      <td>1973.000000</td>\n",
       "      <td>1.988000e+03</td>\n",
       "      <td>2200.000000</td>\n",
       "    </tr>\n",
       "    <tr>\n",
       "      <th>75%</th>\n",
       "      <td>3.000000</td>\n",
       "      <td>4.000000</td>\n",
       "      <td>6.749000e+05</td>\n",
       "      <td>2944.000000</td>\n",
       "      <td>2.004000e+03</td>\n",
       "      <td>3297.000000</td>\n",
       "    </tr>\n",
       "    <tr>\n",
       "      <th>max</th>\n",
       "      <td>99.990000</td>\n",
       "      <td>99.900000</td>\n",
       "      <td>2.500000e+08</td>\n",
       "      <td>370029.000000</td>\n",
       "      <td>1.957194e+07</td>\n",
       "      <td>250000.000000</td>\n",
       "    </tr>\n",
       "  </tbody>\n",
       "</table>\n",
       "</div>"
      ],
      "text/plain": [
       "           bathrooms       bedrooms  current_list_price           sqft  \\\n",
       "count  190328.000000  187570.000000        1.948380e+05  182230.000000   \n",
       "mean        2.498597       3.356624        6.948948e+05    2327.189179   \n",
       "std         1.305535       1.286088        1.772303e+06    2157.128501   \n",
       "min         0.000000       0.000000        0.000000e+00       0.000000   \n",
       "25%         2.000000       3.000000        2.150000e+05    1319.000000   \n",
       "50%         2.000000       3.000000        3.749900e+05    1973.000000   \n",
       "75%         3.000000       4.000000        6.749000e+05    2944.000000   \n",
       "max        99.990000      99.900000        2.500000e+08  370029.000000   \n",
       "\n",
       "         year_built  rentzestimate_amount  \n",
       "count  1.868320e+05         194839.000000  \n",
       "mean   2.091947e+03           3486.484482  \n",
       "std    4.527661e+04           5516.585570  \n",
       "min    0.000000e+00            400.000000  \n",
       "25%    1.966000e+03           1555.000000  \n",
       "50%    1.988000e+03           2200.000000  \n",
       "75%    2.004000e+03           3297.000000  \n",
       "max    1.957194e+07         250000.000000  "
      ]
     },
     "execution_count": 28,
     "metadata": {},
     "output_type": "execute_result"
    }
   ],
   "source": [
    "data_train.describe()"
   ]
  },
  {
   "cell_type": "code",
   "execution_count": 29,
   "metadata": {
    "scrolled": true
   },
   "outputs": [
    {
     "data": {
      "text/html": [
       "<div>\n",
       "<style scoped>\n",
       "    .dataframe tbody tr th:only-of-type {\n",
       "        vertical-align: middle;\n",
       "    }\n",
       "\n",
       "    .dataframe tbody tr th {\n",
       "        vertical-align: top;\n",
       "    }\n",
       "\n",
       "    .dataframe thead th {\n",
       "        text-align: right;\n",
       "    }\n",
       "</style>\n",
       "<table border=\"1\" class=\"dataframe\">\n",
       "  <thead>\n",
       "    <tr style=\"text-align: right;\">\n",
       "      <th></th>\n",
       "      <th>Total</th>\n",
       "      <th>Percent</th>\n",
       "    </tr>\n",
       "  </thead>\n",
       "  <tbody>\n",
       "    <tr>\n",
       "      <th>sqft</th>\n",
       "      <td>12609</td>\n",
       "      <td>0.064715</td>\n",
       "    </tr>\n",
       "    <tr>\n",
       "      <th>year_built</th>\n",
       "      <td>8007</td>\n",
       "      <td>0.041095</td>\n",
       "    </tr>\n",
       "    <tr>\n",
       "      <th>bedrooms</th>\n",
       "      <td>7269</td>\n",
       "      <td>0.037308</td>\n",
       "    </tr>\n",
       "    <tr>\n",
       "      <th>property_type</th>\n",
       "      <td>4713</td>\n",
       "      <td>0.024189</td>\n",
       "    </tr>\n",
       "    <tr>\n",
       "      <th>bathrooms</th>\n",
       "      <td>4511</td>\n",
       "      <td>0.023152</td>\n",
       "    </tr>\n",
       "    <tr>\n",
       "      <th>zip</th>\n",
       "      <td>6</td>\n",
       "      <td>0.000031</td>\n",
       "    </tr>\n",
       "    <tr>\n",
       "      <th>state</th>\n",
       "      <td>2</td>\n",
       "      <td>0.000010</td>\n",
       "    </tr>\n",
       "    <tr>\n",
       "      <th>city</th>\n",
       "      <td>2</td>\n",
       "      <td>0.000010</td>\n",
       "    </tr>\n",
       "    <tr>\n",
       "      <th>current_list_price</th>\n",
       "      <td>1</td>\n",
       "      <td>0.000005</td>\n",
       "    </tr>\n",
       "    <tr>\n",
       "      <th>rentzestimate_amount</th>\n",
       "      <td>0</td>\n",
       "      <td>0.000000</td>\n",
       "    </tr>\n",
       "    <tr>\n",
       "      <th>unique_id</th>\n",
       "      <td>0</td>\n",
       "      <td>0.000000</td>\n",
       "    </tr>\n",
       "  </tbody>\n",
       "</table>\n",
       "</div>"
      ],
      "text/plain": [
       "                      Total   Percent\n",
       "sqft                  12609  0.064715\n",
       "year_built             8007  0.041095\n",
       "bedrooms               7269  0.037308\n",
       "property_type          4713  0.024189\n",
       "bathrooms              4511  0.023152\n",
       "zip                       6  0.000031\n",
       "state                     2  0.000010\n",
       "city                      2  0.000010\n",
       "current_list_price        1  0.000005\n",
       "rentzestimate_amount      0  0.000000\n",
       "unique_id                 0  0.000000"
      ]
     },
     "execution_count": 29,
     "metadata": {},
     "output_type": "execute_result"
    }
   ],
   "source": [
    "# missing data\n",
    "total = data_train.isnull().sum().sort_values(ascending=False)\n",
    "percent = (data_train.isnull().sum()/data_train.isnull().count()).sort_values(ascending=False)\n",
    "missing_data = pd.concat([total, percent], axis=1, keys=['Total', 'Percent'])\n",
    "missing_data.head(20)"
   ]
  },
  {
   "cell_type": "code",
   "execution_count": 30,
   "metadata": {
    "scrolled": false
   },
   "outputs": [
    {
     "data": {
      "text/html": [
       "<div>\n",
       "<style scoped>\n",
       "    .dataframe tbody tr th:only-of-type {\n",
       "        vertical-align: middle;\n",
       "    }\n",
       "\n",
       "    .dataframe tbody tr th {\n",
       "        vertical-align: top;\n",
       "    }\n",
       "\n",
       "    .dataframe thead th {\n",
       "        text-align: right;\n",
       "    }\n",
       "</style>\n",
       "<table border=\"1\" class=\"dataframe\">\n",
       "  <thead>\n",
       "    <tr style=\"text-align: right;\">\n",
       "      <th></th>\n",
       "      <th>bathrooms</th>\n",
       "      <th>bedrooms</th>\n",
       "      <th>current_list_price</th>\n",
       "      <th>sqft</th>\n",
       "      <th>year_built</th>\n",
       "      <th>rentzestimate_amount</th>\n",
       "    </tr>\n",
       "  </thead>\n",
       "  <tbody>\n",
       "    <tr>\n",
       "      <th>bathrooms</th>\n",
       "      <td>1.000000</td>\n",
       "      <td>0.651970</td>\n",
       "      <td>0.420376</td>\n",
       "      <td>0.550463</td>\n",
       "      <td>-0.000886</td>\n",
       "      <td>0.505067</td>\n",
       "    </tr>\n",
       "    <tr>\n",
       "      <th>bedrooms</th>\n",
       "      <td>0.651970</td>\n",
       "      <td>1.000000</td>\n",
       "      <td>0.245796</td>\n",
       "      <td>0.470597</td>\n",
       "      <td>0.004787</td>\n",
       "      <td>0.294716</td>\n",
       "    </tr>\n",
       "    <tr>\n",
       "      <th>current_list_price</th>\n",
       "      <td>0.420376</td>\n",
       "      <td>0.245796</td>\n",
       "      <td>1.000000</td>\n",
       "      <td>0.357682</td>\n",
       "      <td>0.000585</td>\n",
       "      <td>0.728501</td>\n",
       "    </tr>\n",
       "    <tr>\n",
       "      <th>sqft</th>\n",
       "      <td>0.550463</td>\n",
       "      <td>0.470597</td>\n",
       "      <td>0.357682</td>\n",
       "      <td>1.000000</td>\n",
       "      <td>-0.000420</td>\n",
       "      <td>0.402162</td>\n",
       "    </tr>\n",
       "    <tr>\n",
       "      <th>year_built</th>\n",
       "      <td>-0.000886</td>\n",
       "      <td>0.004787</td>\n",
       "      <td>0.000585</td>\n",
       "      <td>-0.000420</td>\n",
       "      <td>1.000000</td>\n",
       "      <td>-0.000572</td>\n",
       "    </tr>\n",
       "    <tr>\n",
       "      <th>rentzestimate_amount</th>\n",
       "      <td>0.505067</td>\n",
       "      <td>0.294716</td>\n",
       "      <td>0.728501</td>\n",
       "      <td>0.402162</td>\n",
       "      <td>-0.000572</td>\n",
       "      <td>1.000000</td>\n",
       "    </tr>\n",
       "  </tbody>\n",
       "</table>\n",
       "</div>"
      ],
      "text/plain": [
       "                      bathrooms  bedrooms  current_list_price      sqft  \\\n",
       "bathrooms              1.000000  0.651970            0.420376  0.550463   \n",
       "bedrooms               0.651970  1.000000            0.245796  0.470597   \n",
       "current_list_price     0.420376  0.245796            1.000000  0.357682   \n",
       "sqft                   0.550463  0.470597            0.357682  1.000000   \n",
       "year_built            -0.000886  0.004787            0.000585 -0.000420   \n",
       "rentzestimate_amount   0.505067  0.294716            0.728501  0.402162   \n",
       "\n",
       "                      year_built  rentzestimate_amount  \n",
       "bathrooms              -0.000886              0.505067  \n",
       "bedrooms                0.004787              0.294716  \n",
       "current_list_price      0.000585              0.728501  \n",
       "sqft                   -0.000420              0.402162  \n",
       "year_built              1.000000             -0.000572  \n",
       "rentzestimate_amount   -0.000572              1.000000  "
      ]
     },
     "execution_count": 30,
     "metadata": {},
     "output_type": "execute_result"
    }
   ],
   "source": [
    "data_train.corr()"
   ]
  },
  {
   "cell_type": "code",
   "execution_count": 31,
   "metadata": {
    "scrolled": true
   },
   "outputs": [
    {
     "data": {
      "image/png": "[encoded data removed]",
      "text/plain": [
       "<Figure size 1080x720 with 2 Axes>"
      ]
     },
     "metadata": {},
     "output_type": "display_data"
    }
   ],
   "source": [
    "#correlation matrix\n",
    "corrmat = data_train.corr()\n",
    "plt.figure(figsize=(15,10))\n",
    "#fig, ax = plt.subplots(figsize=(20, 10))\n",
    "sns.heatmap(corrmat, vmax=.8, square=True);"
   ]
  },
  {
   "cell_type": "code",
   "execution_count": 20,
   "metadata": {
    "scrolled": false
   },
   "outputs": [
    {
     "name": "stdout",
     "output_type": "stream",
     "text": [
      "bathrooms                 3.917196\n",
      "bedrooms                  3.292104\n",
      "current_list_price       37.031776\n",
      "location_latitude         0.482155\n",
      "location_longitude       -0.592192\n",
      "sqft                     58.538551\n",
      "year_built              432.211527\n",
      "rentzestimate_amount     11.575512\n",
      "dtype: float64\n"
     ]
    }
   ],
   "source": [
    "print(data_train.skew())"
   ]
  },
  {
   "cell_type": "code",
   "execution_count": 33,
   "metadata": {},
   "outputs": [],
   "source": [
    "# look at each feature \n",
    "# histogram\n",
    "# sns.distplot(data_train['rentzestimate_amount'])\n",
    "# plt.hist(data_train['bathrooms'].dropna())\n",
    "# numerical variables, rent, bathrooms, bedrooms, sqft, price, histogram\n",
    "# categorical variables, city, state, property type, zip, boxplot"
   ]
  },
  {
   "cell_type": "code",
   "execution_count": 34,
   "metadata": {
    "scrolled": false
   },
   "outputs": [
    {
     "data": {
      "text/plain": [
       "<matplotlib.axes._subplots.AxesSubplot at 0x14a091c9f60>"
      ]
     },
     "execution_count": 34,
     "metadata": {},
     "output_type": "execute_result"
    },
    {
     "data": {
      "image/png": "[encoded data removed]",
      "text/plain": [
       "<Figure size 432x288 with 1 Axes>"
      ]
     },
     "metadata": {},
     "output_type": "display_data"
    }
   ],
   "source": [
    "#using_data.rentzestimate_amout.hist(rwidth=0.8)\n",
    "#dd = using_data['rentzestimate_amount']\n",
    "sns.distplot(data_train['rentzestimate_amount'])\n",
    "#skewness and kurtosis\n",
    "#print(\"Skewness: %f\" % using_data['rentzestimate_amount'].skew())\n",
    "#print(\"Kurtosis: %f\" % using_data['rentzestimate_amount'].kurt())"
   ]
  },
  {
   "cell_type": "code",
   "execution_count": 21,
   "metadata": {},
   "outputs": [
    {
     "data": {
      "text/plain": [
       "count    194839.000000\n",
       "mean       3486.484482\n",
       "std        5516.585570\n",
       "min         400.000000\n",
       "25%        1555.000000\n",
       "50%        2200.000000\n",
       "75%        3297.000000\n",
       "max      250000.000000\n",
       "Name: rentzestimate_amount, dtype: float64"
      ]
     },
     "execution_count": 21,
     "metadata": {},
     "output_type": "execute_result"
    }
   ],
   "source": [
    "data_train['rentzestimate_amount']. describe()\n",
    "# 75% quantile is 3297, the max is 250000, need to remove the extreme large values"
   ]
  },
  {
   "cell_type": "code",
   "execution_count": 29,
   "metadata": {},
   "outputs": [
    {
     "data": {
      "text/plain": [
       "(array([  1.90039000e+05,   2.76000000e+02,   1.20000000e+01,\n",
       "          0.00000000e+00,   0.00000000e+00,   0.00000000e+00,\n",
       "          0.00000000e+00,   0.00000000e+00,   0.00000000e+00,\n",
       "          1.00000000e+00]),\n",
       " array([  0.   ,   9.999,  19.998,  29.997,  39.996,  49.995,  59.994,\n",
       "         69.993,  79.992,  89.991,  99.99 ]),\n",
       " <a list of 10 Patch objects>)"
      ]
     },
     "execution_count": 29,
     "metadata": {},
     "output_type": "execute_result"
    },
    {
     "data": {
      "image/png": "[encoded data removed]",
      "text/plain": [
       "<matplotlib.figure.Figure at 0x20b2f1eae10>"
      ]
     },
     "metadata": {},
     "output_type": "display_data"
    }
   ],
   "source": [
    "plt.hist(data_train['bathrooms'].dropna())\n",
    "# some bathrooms are extreme"
   ]
  },
  {
   "cell_type": "code",
   "execution_count": 30,
   "metadata": {
    "scrolled": false
   },
   "outputs": [
    {
     "data": {
      "text/plain": [
       "<matplotlib.axes._subplots.AxesSubplot at 0x20b31e50828>"
      ]
     },
     "execution_count": 30,
     "metadata": {},
     "output_type": "execute_result"
    },
    {
     "data": {
      "image/png": "[encoded data removed]",
      "text/plain": [
       "<matplotlib.figure.Figure at 0x20b2ab864e0>"
      ]
     },
     "metadata": {},
     "output_type": "display_data"
    }
   ],
   "source": [
    "sns.distplot(data_train['bedrooms'].dropna())\n",
    "# extreme values"
   ]
  },
  {
   "cell_type": "code",
   "execution_count": 31,
   "metadata": {
    "scrolled": false
   },
   "outputs": [
    {
     "data": {
      "text/plain": [
       "<matplotlib.axes._subplots.AxesSubplot at 0x20b264860f0>"
      ]
     },
     "execution_count": 31,
     "metadata": {},
     "output_type": "execute_result"
    },
    {
     "data": {
      "image/png": "[encoded data removed]",
      "text/plain": [
       "<matplotlib.figure.Figure at 0x20b31e50a90>"
      ]
     },
     "metadata": {},
     "output_type": "display_data"
    }
   ],
   "source": [
    "sns.distplot(data_train['current_list_price'].dropna())\n",
    "# extreme values"
   ]
  },
  {
   "cell_type": "code",
   "execution_count": 32,
   "metadata": {
    "scrolled": false
   },
   "outputs": [
    {
     "data": {
      "text/plain": [
       "<matplotlib.axes._subplots.AxesSubplot at 0x20b31ec4668>"
      ]
     },
     "execution_count": 32,
     "metadata": {},
     "output_type": "execute_result"
    },
    {
     "data": {
      "image/png": "[encoded data removed]",
      "text/plain": [
       "<matplotlib.figure.Figure at 0x20b2ab9a7f0>"
      ]
     },
     "metadata": {},
     "output_type": "display_data"
    }
   ],
   "source": [
    "sns.distplot(data_train['sqft'].dropna())\n",
    "# extreme values"
   ]
  },
  {
   "cell_type": "code",
   "execution_count": 38,
   "metadata": {},
   "outputs": [
    {
     "data": {
      "text/plain": [
       "Houston              5843\n",
       "Miami                4040\n",
       "Las Vegas            2794\n",
       "Chicago              2542\n",
       "Austin               1643\n",
       "Orlando              1594\n",
       "Los Angeles          1482\n",
       "Miami Beach          1441\n",
       "Tampa                1400\n",
       "Dallas               1394\n",
       "Sarasota             1391\n",
       "Palm Desert          1213\n",
       "Spring                959\n",
       "Aventura              930\n",
       "Jacksonville          917\n",
       "Katy                  880\n",
       "San Diego             868\n",
       "Fort Worth            821\n",
       "Boca Raton            821\n",
       "La Quinta             797\n",
       "St Petersburg         752\n",
       "The Woodlands         711\n",
       "Honolulu              704\n",
       "Henderson             698\n",
       "Palm Springs          696\n",
       "Atlanta               689\n",
       "Bradenton             687\n",
       "Kissimmee             679\n",
       "Hollywood             617\n",
       "Sunny Isles Beach     616\n",
       "                     ... \n",
       "Del Rey Oaks            1\n",
       "Lakehead                1\n",
       "Ballard                 1\n",
       "Peshastin               1\n",
       "Epworth                 1\n",
       "Orosi                   1\n",
       "Lingleville             1\n",
       "Goffstown               1\n",
       "Trinity Center          1\n",
       "SYCAMORE                1\n",
       "Anthony                 1\n",
       "Chewelah                1\n",
       "Pattonville             1\n",
       "UNION                   1\n",
       "Leyden                  1\n",
       "Ila                     1\n",
       "DE LEON SPRINGS         1\n",
       "MONTICELLO              1\n",
       "HICKORY HILLS           1\n",
       "Waitsburg               1\n",
       "Brady                   1\n",
       "Litchfield              1\n",
       "GOTHA                   1\n",
       "Roseville               1\n",
       "Sonora                  1\n",
       "Powderly                1\n",
       "Lometa                  1\n",
       "Heber                   1\n",
       "Ford Heights            1\n",
       "OAK BROOK               1\n",
       "Name: city, Length: 3966, dtype: int64"
      ]
     },
     "execution_count": 38,
     "metadata": {},
     "output_type": "execute_result"
    }
   ],
   "source": [
    "data_train[\"city\"].value_counts()\n",
    "#data_train.property_type.unique()"
   ]
  },
  {
   "cell_type": "code",
   "execution_count": 37,
   "metadata": {
    "collapsed": true
   },
   "outputs": [
    {
     "data": {
      "text/plain": [
       "FL    47748\n",
       "CA    40613\n",
       "TX    36727\n",
       "IL    22995\n",
       "GA    14737\n",
       "MA     9509\n",
       "WA     7456\n",
       "NY     6701\n",
       "NV     4769\n",
       "HI     1614\n",
       "NJ     1244\n",
       "NH      149\n",
       "RI      128\n",
       "IN       80\n",
       "AL       79\n",
       "WI       68\n",
       "NC       63\n",
       "CT       60\n",
       "SC       35\n",
       "OK       12\n",
       "MD       11\n",
       "MI        6\n",
       "OH        5\n",
       "TN        4\n",
       "IA        3\n",
       "NE        3\n",
       "ME        3\n",
       "LA        2\n",
       "OR        2\n",
       "Hi        2\n",
       "VA        2\n",
       "CO        1\n",
       "MO        1\n",
       "AR        1\n",
       "UT        1\n",
       "WV        1\n",
       "VT        1\n",
       "KS        1\n",
       "Name: state, dtype: int64"
      ]
     },
     "execution_count": 37,
     "metadata": {},
     "output_type": "execute_result"
    }
   ],
   "source": [
    "data_train[\"state\"].value_counts()"
   ]
  },
  {
   "cell_type": "code",
   "execution_count": 78,
   "metadata": {},
   "outputs": [
    {
     "data": {
      "text/plain": [
       "33160    993\n",
       "92253    798\n",
       "33139    759\n",
       "92211    731\n",
       "33180    712\n",
       "33131    593\n",
       "92270    579\n",
       "33009    501\n",
       "77494    489\n",
       "33141    479\n",
       "92260    478\n",
       "33178    404\n",
       "34747    389\n",
       "33140    385\n",
       "77007    356\n",
       "92264    353\n",
       "33132    348\n",
       "77479    346\n",
       "92234    334\n",
       "92203    327\n",
       "92262    320\n",
       "60010    303\n",
       "77382    299\n",
       "33137    285\n",
       "33154    285\n",
       "33019    277\n",
       "92201    277\n",
       "77356    276\n",
       "34746    270\n",
       "33130    266\n",
       "        ... \n",
       "02570      1\n",
       "99167      1\n",
       "95316      1\n",
       "36207      1\n",
       "61336      1\n",
       "06016      1\n",
       "60144      1\n",
       "78622      1\n",
       "74728      1\n",
       "92275      1\n",
       "30904      1\n",
       "76501      1\n",
       "76305      1\n",
       "33901      1\n",
       "99338      1\n",
       "53014      1\n",
       "98819      1\n",
       "03033      1\n",
       "01338      1\n",
       "95630      1\n",
       "61957      1\n",
       "60460      1\n",
       "08648      1\n",
       "11768      1\n",
       "94533      1\n",
       "03849      1\n",
       "93730      1\n",
       "62629      1\n",
       "53190      1\n",
       "95358      1\n",
       "Name: zip, Length: 5414, dtype: int64"
      ]
     },
     "execution_count": 78,
     "metadata": {},
     "output_type": "execute_result"
    }
   ],
   "source": [
    "data_train[\"zip\"].value_counts()"
   ]
  },
  {
   "cell_type": "code",
   "execution_count": null,
   "metadata": {
    "collapsed": true
   },
   "outputs": [],
   "source": [
    "# relationship between rent and features"
   ]
  },
  {
   "cell_type": "code",
   "execution_count": 72,
   "metadata": {},
   "outputs": [
    {
     "data": {
      "text/plain": [
       "<matplotlib.axes._subplots.AxesSubplot at 0x2219ca2f208>"
      ]
     },
     "execution_count": 72,
     "metadata": {},
     "output_type": "execute_result"
    },
    {
     "data": {
      "image/png": "[encoded data removed]",
      "text/plain": [
       "<matplotlib.figure.Figure at 0x2219e75a320>"
      ]
     },
     "metadata": {},
     "output_type": "display_data"
    }
   ],
   "source": [
    "var = 'lot_sqft'\n",
    "data = pd.concat([data_train['rentzestimate_amount'].where(data_train['rentzestimate_amount'] <= 60000), data_train[var].dropna().where(data_train[var] <= 200000)], axis=1)\n",
    "data.plot.scatter(x=var, y='rentzestimate_amount')"
   ]
  },
  {
   "cell_type": "code",
   "execution_count": 14,
   "metadata": {},
   "outputs": [
    {
     "data": {
      "text/plain": [
       "count    1.766900e+05\n",
       "mean     1.306300e+05\n",
       "std      7.370855e+06\n",
       "min      0.000000e+00\n",
       "25%      5.775000e+03\n",
       "50%      8.933000e+03\n",
       "75%      1.930250e+04\n",
       "max      1.973355e+09\n",
       "Name: lot_sqft, dtype: float64"
      ]
     },
     "execution_count": 14,
     "metadata": {},
     "output_type": "execute_result"
    }
   ],
   "source": [
    "data_estimate[\"lot_sqft\"].describe()\n"
   ]
  },
  {
   "cell_type": "code",
   "execution_count": 33,
   "metadata": {
    "collapsed": true
   },
   "outputs": [
    {
     "data": {
      "image/png": "[encoded data removed]",
      "text/plain": [
       "<matplotlib.figure.Figure at 0x20bca41df28>"
      ]
     },
     "metadata": {},
     "output_type": "display_data"
    }
   ],
   "source": [
    "#box plot rent/state\n",
    "var = 'state'\n",
    "data = pd.concat([data_train['rentzestimate_amount'].where(data_train['rentzestimate_amount'] <= 20000), data_train[var]], axis=1)\n",
    "f, ax = plt.subplots(figsize=(20, 15))\n",
    "fig = sns.boxplot(x=var, y=\"rentzestimate_amount\", data=data)\n",
    "#fig.axis(ymin=0, ymax=800000);"
   ]
  },
  {
   "cell_type": "code",
   "execution_count": 34,
   "metadata": {
    "collapsed": true
   },
   "outputs": [
    {
     "data": {
      "image/png": "[encoded data removed]",
      "text/plain": [
       "<matplotlib.figure.Figure at 0x20b2f01ff28>"
      ]
     },
     "metadata": {},
     "output_type": "display_data"
    }
   ],
   "source": [
    "# categorical varibale. box plot property type/rent\n",
    "var = 'property_type'\n",
    "data = pd.concat([data_train['rentzestimate_amount'].where(data_train['rentzestimate_amount'] <= 20000), data_train[var]], axis=1)\n",
    "f, ax = plt.subplots(figsize=(20, 15))\n",
    "fig = sns.boxplot(x=var, y=\"rentzestimate_amount\", data=data)\n",
    "#fig.axis(ymin=0, ymax=800000);"
   ]
  },
  {
   "cell_type": "code",
   "execution_count": 40,
   "metadata": {
    "collapsed": true
   },
   "outputs": [
    {
     "ename": "KeyboardInterrupt",
     "evalue": "",
     "output_type": "error",
     "traceback": [
      "\u001b[0;31m---------------------------------------------------------------------------\u001b[0m",
      "\u001b[0;31mKeyboardInterrupt\u001b[0m                         Traceback (most recent call last)",
      "\u001b[0;32m<ipython-input-40-57b73b7ed0f0>\u001b[0m in \u001b[0;36m<module>\u001b[0;34m()\u001b[0m\n\u001b[1;32m      2\u001b[0m \u001b[0mdata\u001b[0m \u001b[1;33m=\u001b[0m \u001b[0mpd\u001b[0m\u001b[1;33m.\u001b[0m\u001b[0mconcat\u001b[0m\u001b[1;33m(\u001b[0m\u001b[1;33m[\u001b[0m\u001b[0mdata_train\u001b[0m\u001b[1;33m[\u001b[0m\u001b[1;34m'rentzestimate_amount'\u001b[0m\u001b[1;33m]\u001b[0m\u001b[1;33m,\u001b[0m \u001b[0mdata_train\u001b[0m\u001b[1;33m[\u001b[0m\u001b[0mvar\u001b[0m\u001b[1;33m]\u001b[0m\u001b[1;33m]\u001b[0m\u001b[1;33m,\u001b[0m \u001b[0maxis\u001b[0m\u001b[1;33m=\u001b[0m\u001b[1;36m1\u001b[0m\u001b[1;33m)\u001b[0m\u001b[1;33m\u001b[0m\u001b[0m\n\u001b[1;32m      3\u001b[0m \u001b[0mf\u001b[0m\u001b[1;33m,\u001b[0m \u001b[0max\u001b[0m \u001b[1;33m=\u001b[0m \u001b[0mplt\u001b[0m\u001b[1;33m.\u001b[0m\u001b[0msubplots\u001b[0m\u001b[1;33m(\u001b[0m\u001b[0mfigsize\u001b[0m\u001b[1;33m=\u001b[0m\u001b[1;33m(\u001b[0m\u001b[1;36m20\u001b[0m\u001b[1;33m,\u001b[0m \u001b[1;36m15\u001b[0m\u001b[1;33m)\u001b[0m\u001b[1;33m)\u001b[0m\u001b[1;33m\u001b[0m\u001b[0m\n\u001b[0;32m----> 4\u001b[0;31m \u001b[0mfig\u001b[0m \u001b[1;33m=\u001b[0m \u001b[0msns\u001b[0m\u001b[1;33m.\u001b[0m\u001b[0mboxplot\u001b[0m\u001b[1;33m(\u001b[0m\u001b[0mx\u001b[0m\u001b[1;33m=\u001b[0m\u001b[0mvar\u001b[0m\u001b[1;33m,\u001b[0m \u001b[0my\u001b[0m\u001b[1;33m=\u001b[0m\u001b[1;34m\"rentzestimate_amount\"\u001b[0m\u001b[1;33m,\u001b[0m \u001b[0mdata\u001b[0m\u001b[1;33m=\u001b[0m\u001b[0mdata\u001b[0m\u001b[1;33m)\u001b[0m\u001b[1;33m\u001b[0m\u001b[0m\n\u001b[0m\u001b[1;32m      5\u001b[0m \u001b[1;31m#fig.axis(ymin=0, ymax=800000);\u001b[0m\u001b[1;33m\u001b[0m\u001b[1;33m\u001b[0m\u001b[0m\n",
      "\u001b[0;32mC:\\Users\\Lenovo\\Anaconda3\\lib\\site-packages\\seaborn\\categorical.py\u001b[0m in \u001b[0;36mboxplot\u001b[0;34m(x, y, hue, data, order, hue_order, orient, color, palette, saturation, width, fliersize, linewidth, whis, notch, ax, **kwargs)\u001b[0m\n\u001b[1;32m   2179\u001b[0m     \u001b[0mkwargs\u001b[0m\u001b[1;33m.\u001b[0m\u001b[0mupdate\u001b[0m\u001b[1;33m(\u001b[0m\u001b[0mdict\u001b[0m\u001b[1;33m(\u001b[0m\u001b[0mwhis\u001b[0m\u001b[1;33m=\u001b[0m\u001b[0mwhis\u001b[0m\u001b[1;33m,\u001b[0m \u001b[0mnotch\u001b[0m\u001b[1;33m=\u001b[0m\u001b[0mnotch\u001b[0m\u001b[1;33m)\u001b[0m\u001b[1;33m)\u001b[0m\u001b[1;33m\u001b[0m\u001b[0m\n\u001b[1;32m   2180\u001b[0m \u001b[1;33m\u001b[0m\u001b[0m\n\u001b[0;32m-> 2181\u001b[0;31m     \u001b[0mplotter\u001b[0m\u001b[1;33m.\u001b[0m\u001b[0mplot\u001b[0m\u001b[1;33m(\u001b[0m\u001b[0max\u001b[0m\u001b[1;33m,\u001b[0m \u001b[0mkwargs\u001b[0m\u001b[1;33m)\u001b[0m\u001b[1;33m\u001b[0m\u001b[0m\n\u001b[0m\u001b[1;32m   2182\u001b[0m     \u001b[1;32mreturn\u001b[0m \u001b[0max\u001b[0m\u001b[1;33m\u001b[0m\u001b[0m\n\u001b[1;32m   2183\u001b[0m \u001b[1;33m\u001b[0m\u001b[0m\n",
      "\u001b[0;32mC:\\Users\\Lenovo\\Anaconda3\\lib\\site-packages\\seaborn\\categorical.py\u001b[0m in \u001b[0;36mplot\u001b[0;34m(self, ax, boxplot_kws)\u001b[0m\n\u001b[1;32m    526\u001b[0m     \u001b[1;32mdef\u001b[0m \u001b[0mplot\u001b[0m\u001b[1;33m(\u001b[0m\u001b[0mself\u001b[0m\u001b[1;33m,\u001b[0m \u001b[0max\u001b[0m\u001b[1;33m,\u001b[0m \u001b[0mboxplot_kws\u001b[0m\u001b[1;33m)\u001b[0m\u001b[1;33m:\u001b[0m\u001b[1;33m\u001b[0m\u001b[0m\n\u001b[1;32m    527\u001b[0m         \u001b[1;34m\"\"\"Make the plot.\"\"\"\u001b[0m\u001b[1;33m\u001b[0m\u001b[0m\n\u001b[0;32m--> 528\u001b[0;31m         \u001b[0mself\u001b[0m\u001b[1;33m.\u001b[0m\u001b[0mdraw_boxplot\u001b[0m\u001b[1;33m(\u001b[0m\u001b[0max\u001b[0m\u001b[1;33m,\u001b[0m \u001b[0mboxplot_kws\u001b[0m\u001b[1;33m)\u001b[0m\u001b[1;33m\u001b[0m\u001b[0m\n\u001b[0m\u001b[1;32m    529\u001b[0m         \u001b[0mself\u001b[0m\u001b[1;33m.\u001b[0m\u001b[0mannotate_axes\u001b[0m\u001b[1;33m(\u001b[0m\u001b[0max\u001b[0m\u001b[1;33m)\u001b[0m\u001b[1;33m\u001b[0m\u001b[0m\n\u001b[1;32m    530\u001b[0m         \u001b[1;32mif\u001b[0m \u001b[0mself\u001b[0m\u001b[1;33m.\u001b[0m\u001b[0morient\u001b[0m \u001b[1;33m==\u001b[0m \u001b[1;34m\"h\"\u001b[0m\u001b[1;33m:\u001b[0m\u001b[1;33m\u001b[0m\u001b[0m\n",
      "\u001b[0;32mC:\\Users\\Lenovo\\Anaconda3\\lib\\site-packages\\seaborn\\categorical.py\u001b[0m in \u001b[0;36mdraw_boxplot\u001b[0;34m(self, ax, kws)\u001b[0m\n\u001b[1;32m    463\u001b[0m                                          \u001b[0mpositions\u001b[0m\u001b[1;33m=\u001b[0m\u001b[1;33m[\u001b[0m\u001b[0mi\u001b[0m\u001b[1;33m]\u001b[0m\u001b[1;33m,\u001b[0m\u001b[1;33m\u001b[0m\u001b[0m\n\u001b[1;32m    464\u001b[0m                                          \u001b[0mwidths\u001b[0m\u001b[1;33m=\u001b[0m\u001b[0mself\u001b[0m\u001b[1;33m.\u001b[0m\u001b[0mwidth\u001b[0m\u001b[1;33m,\u001b[0m\u001b[1;33m\u001b[0m\u001b[0m\n\u001b[0;32m--> 465\u001b[0;31m                                          **kws)\n\u001b[0m\u001b[1;32m    466\u001b[0m                 \u001b[0mcolor\u001b[0m \u001b[1;33m=\u001b[0m \u001b[0mself\u001b[0m\u001b[1;33m.\u001b[0m\u001b[0mcolors\u001b[0m\u001b[1;33m[\u001b[0m\u001b[0mi\u001b[0m\u001b[1;33m]\u001b[0m\u001b[1;33m\u001b[0m\u001b[0m\n\u001b[1;32m    467\u001b[0m                 \u001b[0mself\u001b[0m\u001b[1;33m.\u001b[0m\u001b[0mrestyle_boxplot\u001b[0m\u001b[1;33m(\u001b[0m\u001b[0martist_dict\u001b[0m\u001b[1;33m,\u001b[0m \u001b[0mcolor\u001b[0m\u001b[1;33m,\u001b[0m \u001b[0mprops\u001b[0m\u001b[1;33m)\u001b[0m\u001b[1;33m\u001b[0m\u001b[0m\n",
      "\u001b[0;32mC:\\Users\\Lenovo\\Anaconda3\\lib\\site-packages\\matplotlib\\__init__.py\u001b[0m in \u001b[0;36minner\u001b[0;34m(ax, *args, **kwargs)\u001b[0m\n\u001b[1;32m   1889\u001b[0m                     warnings.warn(msg % (label_namer, func.__name__),\n\u001b[1;32m   1890\u001b[0m                                   RuntimeWarning, stacklevel=2)\n\u001b[0;32m-> 1891\u001b[0;31m             \u001b[1;32mreturn\u001b[0m \u001b[0mfunc\u001b[0m\u001b[1;33m(\u001b[0m\u001b[0max\u001b[0m\u001b[1;33m,\u001b[0m \u001b[1;33m*\u001b[0m\u001b[0margs\u001b[0m\u001b[1;33m,\u001b[0m \u001b[1;33m**\u001b[0m\u001b[0mkwargs\u001b[0m\u001b[1;33m)\u001b[0m\u001b[1;33m\u001b[0m\u001b[0m\n\u001b[0m\u001b[1;32m   1892\u001b[0m         \u001b[0mpre_doc\u001b[0m \u001b[1;33m=\u001b[0m \u001b[0minner\u001b[0m\u001b[1;33m.\u001b[0m\u001b[0m__doc__\u001b[0m\u001b[1;33m\u001b[0m\u001b[0m\n\u001b[1;32m   1893\u001b[0m         \u001b[1;32mif\u001b[0m \u001b[0mpre_doc\u001b[0m \u001b[1;32mis\u001b[0m \u001b[1;32mNone\u001b[0m\u001b[1;33m:\u001b[0m\u001b[1;33m\u001b[0m\u001b[0m\n",
      "\u001b[0;32mC:\\Users\\Lenovo\\Anaconda3\\lib\\site-packages\\matplotlib\\axes\\_axes.py\u001b[0m in \u001b[0;36mboxplot\u001b[0;34m(self, x, notch, sym, vert, whis, positions, widths, patch_artist, bootstrap, usermedians, conf_intervals, meanline, showmeans, showcaps, showbox, showfliers, boxprops, labels, flierprops, medianprops, meanprops, capprops, whiskerprops, manage_xticks, autorange, zorder)\u001b[0m\n\u001b[1;32m   3379\u001b[0m                            \u001b[0mmeanline\u001b[0m\u001b[1;33m=\u001b[0m\u001b[0mmeanline\u001b[0m\u001b[1;33m,\u001b[0m \u001b[0mshowfliers\u001b[0m\u001b[1;33m=\u001b[0m\u001b[0mshowfliers\u001b[0m\u001b[1;33m,\u001b[0m\u001b[1;33m\u001b[0m\u001b[0m\n\u001b[1;32m   3380\u001b[0m                            \u001b[0mcapprops\u001b[0m\u001b[1;33m=\u001b[0m\u001b[0mcapprops\u001b[0m\u001b[1;33m,\u001b[0m \u001b[0mwhiskerprops\u001b[0m\u001b[1;33m=\u001b[0m\u001b[0mwhiskerprops\u001b[0m\u001b[1;33m,\u001b[0m\u001b[1;33m\u001b[0m\u001b[0m\n\u001b[0;32m-> 3381\u001b[0;31m                            manage_xticks=manage_xticks, zorder=zorder)\n\u001b[0m\u001b[1;32m   3382\u001b[0m         \u001b[1;32mreturn\u001b[0m \u001b[0martists\u001b[0m\u001b[1;33m\u001b[0m\u001b[0m\n\u001b[1;32m   3383\u001b[0m \u001b[1;33m\u001b[0m\u001b[0m\n",
      "\u001b[0;32mC:\\Users\\Lenovo\\Anaconda3\\lib\\site-packages\\matplotlib\\axes\\_axes.py\u001b[0m in \u001b[0;36mbxp\u001b[0;34m(self, bxpstats, positions, widths, vert, patch_artist, shownotches, showmeans, showcaps, showbox, showfliers, boxprops, whiskerprops, flierprops, medianprops, capprops, meanprops, meanline, manage_xticks, zorder)\u001b[0m\n\u001b[1;32m   3738\u001b[0m             ))\n\u001b[1;32m   3739\u001b[0m             whiskers.extend(doplot(\n\u001b[0;32m-> 3740\u001b[0;31m                 \u001b[0mwhisker_x\u001b[0m\u001b[1;33m,\u001b[0m \u001b[0mwhiskerhi_y\u001b[0m\u001b[1;33m,\u001b[0m \u001b[1;33m**\u001b[0m\u001b[0mfinal_whiskerprops\u001b[0m\u001b[1;33m\u001b[0m\u001b[0m\n\u001b[0m\u001b[1;32m   3741\u001b[0m             ))\n\u001b[1;32m   3742\u001b[0m \u001b[1;33m\u001b[0m\u001b[0m\n",
      "\u001b[0;32mC:\\Users\\Lenovo\\Anaconda3\\lib\\site-packages\\matplotlib\\axes\\_axes.py\u001b[0m in \u001b[0;36mdoplot\u001b[0;34m(*args, **kwargs)\u001b[0m\n\u001b[1;32m   3648\u001b[0m         \u001b[1;32mif\u001b[0m \u001b[0mvert\u001b[0m\u001b[1;33m:\u001b[0m\u001b[1;33m\u001b[0m\u001b[0m\n\u001b[1;32m   3649\u001b[0m             \u001b[1;32mdef\u001b[0m \u001b[0mdoplot\u001b[0m\u001b[1;33m(\u001b[0m\u001b[1;33m*\u001b[0m\u001b[0margs\u001b[0m\u001b[1;33m,\u001b[0m \u001b[1;33m**\u001b[0m\u001b[0mkwargs\u001b[0m\u001b[1;33m)\u001b[0m\u001b[1;33m:\u001b[0m\u001b[1;33m\u001b[0m\u001b[0m\n\u001b[0;32m-> 3650\u001b[0;31m                 \u001b[1;32mreturn\u001b[0m \u001b[0mself\u001b[0m\u001b[1;33m.\u001b[0m\u001b[0mplot\u001b[0m\u001b[1;33m(\u001b[0m\u001b[1;33m*\u001b[0m\u001b[0margs\u001b[0m\u001b[1;33m,\u001b[0m \u001b[1;33m**\u001b[0m\u001b[0mkwargs\u001b[0m\u001b[1;33m)\u001b[0m\u001b[1;33m\u001b[0m\u001b[0m\n\u001b[0m\u001b[1;32m   3651\u001b[0m \u001b[1;33m\u001b[0m\u001b[0m\n\u001b[1;32m   3652\u001b[0m             \u001b[1;32mdef\u001b[0m \u001b[0mdopatch\u001b[0m\u001b[1;33m(\u001b[0m\u001b[0mxs\u001b[0m\u001b[1;33m,\u001b[0m \u001b[0mys\u001b[0m\u001b[1;33m,\u001b[0m \u001b[1;33m**\u001b[0m\u001b[0mkwargs\u001b[0m\u001b[1;33m)\u001b[0m\u001b[1;33m:\u001b[0m\u001b[1;33m\u001b[0m\u001b[0m\n",
      "\u001b[0;32mC:\\Users\\Lenovo\\Anaconda3\\lib\\site-packages\\matplotlib\\__init__.py\u001b[0m in \u001b[0;36minner\u001b[0;34m(ax, *args, **kwargs)\u001b[0m\n\u001b[1;32m   1889\u001b[0m                     warnings.warn(msg % (label_namer, func.__name__),\n\u001b[1;32m   1890\u001b[0m                                   RuntimeWarning, stacklevel=2)\n\u001b[0;32m-> 1891\u001b[0;31m             \u001b[1;32mreturn\u001b[0m \u001b[0mfunc\u001b[0m\u001b[1;33m(\u001b[0m\u001b[0max\u001b[0m\u001b[1;33m,\u001b[0m \u001b[1;33m*\u001b[0m\u001b[0margs\u001b[0m\u001b[1;33m,\u001b[0m \u001b[1;33m**\u001b[0m\u001b[0mkwargs\u001b[0m\u001b[1;33m)\u001b[0m\u001b[1;33m\u001b[0m\u001b[0m\n\u001b[0m\u001b[1;32m   1892\u001b[0m         \u001b[0mpre_doc\u001b[0m \u001b[1;33m=\u001b[0m \u001b[0minner\u001b[0m\u001b[1;33m.\u001b[0m\u001b[0m__doc__\u001b[0m\u001b[1;33m\u001b[0m\u001b[0m\n\u001b[1;32m   1893\u001b[0m         \u001b[1;32mif\u001b[0m \u001b[0mpre_doc\u001b[0m \u001b[1;32mis\u001b[0m \u001b[1;32mNone\u001b[0m\u001b[1;33m:\u001b[0m\u001b[1;33m\u001b[0m\u001b[0m\n",
      "\u001b[0;32mC:\\Users\\Lenovo\\Anaconda3\\lib\\site-packages\\matplotlib\\axes\\_axes.py\u001b[0m in \u001b[0;36mplot\u001b[0;34m(self, *args, **kwargs)\u001b[0m\n\u001b[1;32m   1408\u001b[0m             \u001b[0mlines\u001b[0m\u001b[1;33m.\u001b[0m\u001b[0mappend\u001b[0m\u001b[1;33m(\u001b[0m\u001b[0mline\u001b[0m\u001b[1;33m)\u001b[0m\u001b[1;33m\u001b[0m\u001b[0m\n\u001b[1;32m   1409\u001b[0m \u001b[1;33m\u001b[0m\u001b[0m\n\u001b[0;32m-> 1410\u001b[0;31m         \u001b[0mself\u001b[0m\u001b[1;33m.\u001b[0m\u001b[0mautoscale_view\u001b[0m\u001b[1;33m(\u001b[0m\u001b[0mscalex\u001b[0m\u001b[1;33m=\u001b[0m\u001b[0mscalex\u001b[0m\u001b[1;33m,\u001b[0m \u001b[0mscaley\u001b[0m\u001b[1;33m=\u001b[0m\u001b[0mscaley\u001b[0m\u001b[1;33m)\u001b[0m\u001b[1;33m\u001b[0m\u001b[0m\n\u001b[0m\u001b[1;32m   1411\u001b[0m         \u001b[1;32mreturn\u001b[0m \u001b[0mlines\u001b[0m\u001b[1;33m\u001b[0m\u001b[0m\n\u001b[1;32m   1412\u001b[0m \u001b[1;33m\u001b[0m\u001b[0m\n",
      "\u001b[0;32mC:\\Users\\Lenovo\\Anaconda3\\lib\\site-packages\\matplotlib\\axes\\_base.py\u001b[0m in \u001b[0;36mautoscale_view\u001b[0;34m(self, tight, scalex, scaley)\u001b[0m\n\u001b[1;32m   2260\u001b[0m             \u001b[0mstickies\u001b[0m \u001b[1;33m=\u001b[0m \u001b[1;33m[\u001b[0m\u001b[0martist\u001b[0m\u001b[1;33m.\u001b[0m\u001b[0msticky_edges\u001b[0m \u001b[1;32mfor\u001b[0m \u001b[0martist\u001b[0m \u001b[1;32min\u001b[0m \u001b[0mself\u001b[0m\u001b[1;33m.\u001b[0m\u001b[0mget_children\u001b[0m\u001b[1;33m(\u001b[0m\u001b[1;33m)\u001b[0m\u001b[1;33m]\u001b[0m\u001b[1;33m\u001b[0m\u001b[0m\n\u001b[1;32m   2261\u001b[0m             \u001b[0mx_stickies\u001b[0m \u001b[1;33m=\u001b[0m \u001b[0msum\u001b[0m\u001b[1;33m(\u001b[0m\u001b[1;33m[\u001b[0m\u001b[0msticky\u001b[0m\u001b[1;33m.\u001b[0m\u001b[0mx\u001b[0m \u001b[1;32mfor\u001b[0m \u001b[0msticky\u001b[0m \u001b[1;32min\u001b[0m \u001b[0mstickies\u001b[0m\u001b[1;33m]\u001b[0m\u001b[1;33m,\u001b[0m \u001b[1;33m[\u001b[0m\u001b[1;33m]\u001b[0m\u001b[1;33m)\u001b[0m\u001b[1;33m\u001b[0m\u001b[0m\n\u001b[0;32m-> 2262\u001b[0;31m             \u001b[0my_stickies\u001b[0m \u001b[1;33m=\u001b[0m \u001b[0msum\u001b[0m\u001b[1;33m(\u001b[0m\u001b[1;33m[\u001b[0m\u001b[0msticky\u001b[0m\u001b[1;33m.\u001b[0m\u001b[0my\u001b[0m \u001b[1;32mfor\u001b[0m \u001b[0msticky\u001b[0m \u001b[1;32min\u001b[0m \u001b[0mstickies\u001b[0m\u001b[1;33m]\u001b[0m\u001b[1;33m,\u001b[0m \u001b[1;33m[\u001b[0m\u001b[1;33m]\u001b[0m\u001b[1;33m)\u001b[0m\u001b[1;33m\u001b[0m\u001b[0m\n\u001b[0m\u001b[1;32m   2263\u001b[0m             \u001b[1;32mif\u001b[0m \u001b[0mself\u001b[0m\u001b[1;33m.\u001b[0m\u001b[0mget_xscale\u001b[0m\u001b[1;33m(\u001b[0m\u001b[1;33m)\u001b[0m\u001b[1;33m.\u001b[0m\u001b[0mlower\u001b[0m\u001b[1;33m(\u001b[0m\u001b[1;33m)\u001b[0m \u001b[1;33m==\u001b[0m \u001b[1;34m'log'\u001b[0m\u001b[1;33m:\u001b[0m\u001b[1;33m\u001b[0m\u001b[0m\n\u001b[1;32m   2264\u001b[0m                 \u001b[0mx_stickies\u001b[0m \u001b[1;33m=\u001b[0m \u001b[1;33m[\u001b[0m\u001b[0mxs\u001b[0m \u001b[1;32mfor\u001b[0m \u001b[0mxs\u001b[0m \u001b[1;32min\u001b[0m \u001b[0mx_stickies\u001b[0m \u001b[1;32mif\u001b[0m \u001b[0mxs\u001b[0m \u001b[1;33m>\u001b[0m \u001b[1;36m0\u001b[0m\u001b[1;33m]\u001b[0m\u001b[1;33m\u001b[0m\u001b[0m\n",
      "\u001b[0;31mKeyboardInterrupt\u001b[0m: "
     ]
    },
    {
     "data": {
      "image/png": "[encoded data removed]",
      "text/plain": [
       "<matplotlib.figure.Figure at 0x20b37007630>"
      ]
     },
     "metadata": {},
     "output_type": "display_data"
    }
   ],
   "source": [
    "var = 'city'\n",
    "data = pd.concat([data_train['rentzestimate_amount'], data_train[var]], axis=1)\n",
    "f, ax = plt.subplots(figsize=(20, 15))\n",
    "fig = sns.boxplot(x=var, y=\"rentzestimate_amount\", data=data)\n",
    "#fig.axis(ymin=0, ymax=800000);"
   ]
  },
  {
   "cell_type": "code",
   "execution_count": 95,
   "metadata": {},
   "outputs": [
    {
     "data": {
      "image/png": "[encoded data removed]",
      "text/plain": [
       "<matplotlib.figure.Figure at 0x2219fbf09b0>"
      ]
     },
     "metadata": {},
     "output_type": "display_data"
    }
   ],
   "source": [
    "var = 'year_built'\n",
    "data = pd.concat([data_train['rentzestimate_amount'].where(data_train['rentzestimate_amount'] <= 20000), data_train[var]], axis=1)\n",
    "f, ax = plt.subplots(figsize=(20, 15))\n",
    "fig = sns.boxplot(x=var, y=\"rentzestimate_amount\", data=data)\n",
    "#fig.axis(ymin=0, ymax=800000);"
   ]
  },
  {
   "cell_type": "code",
   "execution_count": 59,
   "metadata": {},
   "outputs": [
    {
     "data": {
      "text/plain": [
       "<matplotlib.axes._subplots.AxesSubplot at 0x20b9a271630>"
      ]
     },
     "execution_count": 59,
     "metadata": {},
     "output_type": "execute_result"
    },
    {
     "data": {
      "image/png": "[encoded data removed]",
      "text/plain": [
       "<matplotlib.figure.Figure at 0x20b9b3bcac8>"
      ]
     },
     "metadata": {},
     "output_type": "display_data"
    }
   ],
   "source": [
    "var = 'year_built'\n",
    "data = pd.concat([data_train['rentzestimate_amount'], data_train[var].where((data_train[var] >= 1600) & (data_train[var] <= 2018))], axis=1)\n",
    "data.plot.scatter(x=var, y='rentzestimate_amount')"
   ]
  },
  {
   "cell_type": "code",
   "execution_count": 63,
   "metadata": {},
   "outputs": [
    {
     "data": {
      "text/html": [
       "<div>\n",
       "<table border=\"1\" class=\"dataframe\">\n",
       "  <thead>\n",
       "    <tr style=\"text-align: right;\">\n",
       "      <th></th>\n",
       "      <th>bathrooms</th>\n",
       "      <th>bedrooms</th>\n",
       "      <th>city</th>\n",
       "      <th>current_list_price</th>\n",
       "      <th>property_type</th>\n",
       "      <th>sqft</th>\n",
       "      <th>state</th>\n",
       "      <th>unique_id</th>\n",
       "      <th>year_built</th>\n",
       "      <th>zip</th>\n",
       "      <th>rentzestimate_amount</th>\n",
       "    </tr>\n",
       "  </thead>\n",
       "  <tbody>\n",
       "    <tr>\n",
       "      <th>2568</th>\n",
       "      <td>1.0</td>\n",
       "      <td>2.0</td>\n",
       "      <td>Killeen</td>\n",
       "      <td>60000.0</td>\n",
       "      <td>RESI</td>\n",
       "      <td>870.0</td>\n",
       "      <td>TX</td>\n",
       "      <td>ABOR_22009652</td>\n",
       "      <td>1600.0</td>\n",
       "      <td>76541</td>\n",
       "      <td>599.0</td>\n",
       "    </tr>\n",
       "  </tbody>\n",
       "</table>\n",
       "</div>"
      ],
      "text/plain": [
       "      bathrooms  bedrooms     city  current_list_price property_type   sqft  \\\n",
       "2568        1.0       2.0  Killeen             60000.0          RESI  870.0   \n",
       "\n",
       "     state      unique_id  year_built    zip  rentzestimate_amount  \n",
       "2568    TX  ABOR_22009652      1600.0  76541                 599.0  "
      ]
     },
     "execution_count": 63,
     "metadata": {},
     "output_type": "execute_result"
    }
   ],
   "source": [
    "data_train[data_train['year_built'] == 1600]\n",
    "# year has 9999.0 and <1600 need remove"
   ]
  },
  {
   "cell_type": "code",
   "execution_count": 53,
   "metadata": {},
   "outputs": [
    {
     "data": {
      "text/plain": [
       "count    1.868320e+05\n",
       "mean     2.091947e+03\n",
       "std      4.527661e+04\n",
       "min      0.000000e+00\n",
       "25%      1.966000e+03\n",
       "50%      1.988000e+03\n",
       "75%      2.004000e+03\n",
       "max      1.957194e+07\n",
       "Name: year_built, dtype: float64"
      ]
     },
     "execution_count": 53,
     "metadata": {},
     "output_type": "execute_result"
    }
   ],
   "source": [
    "data_train['year_built'].describe()"
   ]
  },
  {
   "cell_type": "code",
   "execution_count": 57,
   "metadata": {
    "scrolled": true
   },
   "outputs": [
    {
     "data": {
      "text/plain": [
       "<matplotlib.axes._subplots.AxesSubplot at 0x2219538cba8>"
      ]
     },
     "execution_count": 57,
     "metadata": {},
     "output_type": "execute_result"
    },
    {
     "data": {
      "image/png": "[encoded data removed]",
      "text/plain": [
       "<matplotlib.figure.Figure at 0x22194e94dd8>"
      ]
     },
     "metadata": {},
     "output_type": "display_data"
    }
   ],
   "source": [
    "#scatter plot rentestimate/\n",
    "var = 'sqft'\n",
    "data = pd.concat([data_train['rentzestimate_amount'].where(data_train['rentzestimate_amount'] <=100000), data_train[var].where(data_train[var] <= 20000)], axis=1)\n",
    "data.plot.scatter(x=var, y='rentzestimate_amount')\n",
    "# ylim=(0,300000)"
   ]
  },
  {
   "cell_type": "code",
   "execution_count": 92,
   "metadata": {
    "scrolled": true
   },
   "outputs": [
    {
     "data": {
      "text/plain": [
       "<matplotlib.axes._subplots.AxesSubplot at 0x22194028c50>"
      ]
     },
     "execution_count": 92,
     "metadata": {},
     "output_type": "execute_result"
    },
    {
     "data": {
      "image/png": "[encoded data removed]",
      "text/plain": [
       "<matplotlib.figure.Figure at 0x22194028320>"
      ]
     },
     "metadata": {},
     "output_type": "display_data"
    }
   ],
   "source": [
    "#scatter plot rentestimate/\n",
    "var = 'bedrooms'\n",
    "data = pd.concat([data_train['rentzestimate_amount'], data_train[var].where(data_train[var] <=20)], axis=1)\n",
    "data.plot.scatter(x=var, y='rentzestimate_amount')"
   ]
  },
  {
   "cell_type": "code",
   "execution_count": 180,
   "metadata": {
    "scrolled": true
   },
   "outputs": [
    {
     "data": {
      "image/png": "[encoded data removed]",
      "text/plain": [
       "<matplotlib.figure.Figure at 0x26a9b9b4160>"
      ]
     },
     "metadata": {},
     "output_type": "display_data"
    },
    {
     "data": {
      "image/png": "[encoded data removed]",
      "text/plain": [
       "<matplotlib.figure.Figure at 0x26a9ae896a0>"
      ]
     },
     "metadata": {},
     "output_type": "display_data"
    }
   ],
   "source": [
    "#transformed histogram and normal probability plot\n",
    "sns.distplot(np.log(using_data['rentzestimate_amount']), fit=norm)\n",
    "fig = plt.figure()\n",
    "res = stats.probplot(np.log(using_data['rentzestimate_amount']), plot=plt)"
   ]
  },
  {
   "cell_type": "code",
   "execution_count": 63,
   "metadata": {
    "collapsed": true
   },
   "outputs": [],
   "source": [
    "#df[(np.abs(stats.zscore(df)) < 3).all(axis=1)]\n",
    "#data_train[(np.abs(stats.zscore(data_train['sqft']))>1)]"
   ]
  },
  {
   "cell_type": "code",
   "execution_count": null,
   "metadata": {
    "collapsed": true
   },
   "outputs": [],
   "source": [
    "# dummy variables\n",
    "df_dummies = pd.get_dummies(df['color_head'])\n",
    "del df_dummies[df_dummies.columns[-1]]\n",
    "df_new = pd.concat([df, df_dummies], axis=1)\n",
    "del df_new['color_head']"
   ]
  },
  {
   "cell_type": "code",
   "execution_count": null,
   "metadata": {
    "collapsed": true
   },
   "outputs": [],
   "source": [
    "#saleprice correlation matrix\n",
    "k = 10 #number of variables for heatmap\n",
    "cols = corrmat.nlargest(k, 'SalePrice')['SalePrice'].index\n",
    "cm = np.corrcoef(df_train[cols].values.T)\n",
    "sns.set(font_scale=1.25)\n",
    "hm = sns.heatmap(cm, cbar=True, annot=True, square=True, fmt='.2f', annot_kws={'size': 10}, yticklabels=cols.values, xticklabels=cols.values)\n",
    "plt.show()"
   ]
  },
  {
   "cell_type": "code",
   "execution_count": 46,
   "metadata": {},
   "outputs": [
    {
     "data": {
      "image/png": "[encoded data removed]",
      "text/plain": [
       "<matplotlib.figure.Figure at 0x26a51b3c550>"
      ]
     },
     "metadata": {},
     "output_type": "display_data"
    },
    {
     "data": {
      "image/png": "[encoded data removed]",
      "text/plain": [
       "<matplotlib.figure.Figure at 0x26a51e10c88>"
      ]
     },
     "metadata": {},
     "output_type": "display_data"
    }
   ],
   "source": [
    "#transformed histogram and normal probability plot\n",
    "sns.distplot(np.log(using_data['rentzestimate_amount']), fit=norm)\n",
    "fig = plt.figure()\n",
    "res = stats.probplot(np.log(using_data['rentzestimate_amount']), plot=plt)"
   ]
  },
  {
   "cell_type": "code",
   "execution_count": 47,
   "metadata": {
    "collapsed": true
   },
   "outputs": [],
   "source": [
    "# change to category\n",
    "for col in ['city', 'property_type', 'state', 'year_built', 'zipcode']:\n",
    "    using_data[col] = using_data[col].astype('category')"
   ]
  },
  {
   "cell_type": "code",
   "execution_count": null,
   "metadata": {
    "collapsed": true
   },
   "outputs": [],
   "source": [
    "#convert categorical variable into dummy\n",
    "df_train = pd.get_dummies(df_train)"
   ]
  },
  {
   "cell_type": "code",
   "execution_count": null,
   "metadata": {
    "collapsed": true
   },
   "outputs": [],
   "source": [
    "# select different types of variable print(df.select_dtypes(include=['object']).columns.values)"
   ]
  },
  {
   "cell_type": "code",
   "execution_count": 30,
   "metadata": {
    "collapsed": true
   },
   "outputs": [],
   "source": [
    "data_train = data_train.dropna(axis=0, how='any')"
   ]
  },
  {
   "cell_type": "code",
   "execution_count": 32,
   "metadata": {},
   "outputs": [
    {
     "data": {
      "text/plain": [
       "(175485, 11)"
      ]
     },
     "execution_count": 32,
     "metadata": {},
     "output_type": "execute_result"
    }
   ],
   "source": [
    "data_train.shape"
   ]
  },
  {
   "cell_type": "code",
   "execution_count": 33,
   "metadata": {
    "collapsed": true
   },
   "outputs": [],
   "source": [
    "data_train = data_train[data_train.rentzestimate_amount < 10000]"
   ]
  },
  {
   "cell_type": "code",
   "execution_count": 34,
   "metadata": {
    "collapsed": true
   },
   "outputs": [],
   "source": [
    "data_train = data_train[(data_train['year_built']>=1800) & (data_train['year_built'] <=2018)]"
   ]
  },
  {
   "cell_type": "code",
   "execution_count": 35,
   "metadata": {
    "collapsed": true
   },
   "outputs": [],
   "source": [
    "data_train = data_train[(data_train[\"bathrooms\"] <= 8) & (data_train[\"bedrooms\"] <= 8)]"
   ]
  },
  {
   "cell_type": "code",
   "execution_count": 36,
   "metadata": {
    "collapsed": true
   },
   "outputs": [],
   "source": [
    "data_train = data_train[(data_train[\"bathrooms\"] != 0) & (data_train[\"bedrooms\"] != 0)]"
   ]
  },
  {
   "cell_type": "code",
   "execution_count": 37,
   "metadata": {
    "collapsed": true
   },
   "outputs": [],
   "source": [
    "data_train = data_train[(data_train[\"sqft\"] > 10) & (data_train[\"sqft\"] < 10000)]"
   ]
  },
  {
   "cell_type": "code",
   "execution_count": 38,
   "metadata": {
    "collapsed": true
   },
   "outputs": [],
   "source": [
    "data_train = data_train[(data_train[\"current_list_price\"] > 1) & (data_train[\"current_list_price\"] < 3000000) ]"
   ]
  },
  {
   "cell_type": "code",
   "execution_count": 39,
   "metadata": {
    "scrolled": true
   },
   "outputs": [
    {
     "data": {
      "text/html": [
       "<div>\n",
       "<style>\n",
       "    .dataframe thead tr:only-child th {\n",
       "        text-align: right;\n",
       "    }\n",
       "\n",
       "    .dataframe thead th {\n",
       "        text-align: left;\n",
       "    }\n",
       "\n",
       "    .dataframe tbody tr th {\n",
       "        vertical-align: top;\n",
       "    }\n",
       "</style>\n",
       "<table border=\"1\" class=\"dataframe\">\n",
       "  <thead>\n",
       "    <tr style=\"text-align: right;\">\n",
       "      <th></th>\n",
       "      <th>bathrooms</th>\n",
       "      <th>bedrooms</th>\n",
       "      <th>current_list_price</th>\n",
       "      <th>sqft</th>\n",
       "      <th>year_built</th>\n",
       "      <th>rentzestimate_amount</th>\n",
       "    </tr>\n",
       "  </thead>\n",
       "  <tbody>\n",
       "    <tr>\n",
       "      <th>count</th>\n",
       "      <td>158249.000000</td>\n",
       "      <td>158249.000000</td>\n",
       "      <td>1.582490e+05</td>\n",
       "      <td>158249.000000</td>\n",
       "      <td>158249.000000</td>\n",
       "      <td>158249.000000</td>\n",
       "    </tr>\n",
       "    <tr>\n",
       "      <th>mean</th>\n",
       "      <td>2.426024</td>\n",
       "      <td>3.289215</td>\n",
       "      <td>4.900941e+05</td>\n",
       "      <td>2246.585501</td>\n",
       "      <td>1982.553634</td>\n",
       "      <td>2676.434151</td>\n",
       "    </tr>\n",
       "    <tr>\n",
       "      <th>std</th>\n",
       "      <td>1.011008</td>\n",
       "      <td>1.106596</td>\n",
       "      <td>4.288674e+05</td>\n",
       "      <td>1171.482005</td>\n",
       "      <td>27.504637</td>\n",
       "      <td>1609.365234</td>\n",
       "    </tr>\n",
       "    <tr>\n",
       "      <th>min</th>\n",
       "      <td>0.100000</td>\n",
       "      <td>1.000000</td>\n",
       "      <td>3.250000e+02</td>\n",
       "      <td>70.000000</td>\n",
       "      <td>1800.000000</td>\n",
       "      <td>400.000000</td>\n",
       "    </tr>\n",
       "    <tr>\n",
       "      <th>25%</th>\n",
       "      <td>2.000000</td>\n",
       "      <td>3.000000</td>\n",
       "      <td>2.249000e+05</td>\n",
       "      <td>1386.000000</td>\n",
       "      <td>1969.000000</td>\n",
       "      <td>1600.000000</td>\n",
       "    </tr>\n",
       "    <tr>\n",
       "      <th>50%</th>\n",
       "      <td>2.000000</td>\n",
       "      <td>3.000000</td>\n",
       "      <td>3.699000e+05</td>\n",
       "      <td>1986.000000</td>\n",
       "      <td>1989.000000</td>\n",
       "      <td>2200.000000</td>\n",
       "    </tr>\n",
       "    <tr>\n",
       "      <th>75%</th>\n",
       "      <td>3.000000</td>\n",
       "      <td>4.000000</td>\n",
       "      <td>6.190000e+05</td>\n",
       "      <td>2850.000000</td>\n",
       "      <td>2004.000000</td>\n",
       "      <td>3124.000000</td>\n",
       "    </tr>\n",
       "    <tr>\n",
       "      <th>max</th>\n",
       "      <td>8.000000</td>\n",
       "      <td>8.000000</td>\n",
       "      <td>2.999999e+06</td>\n",
       "      <td>9999.000000</td>\n",
       "      <td>2018.000000</td>\n",
       "      <td>9999.000000</td>\n",
       "    </tr>\n",
       "  </tbody>\n",
       "</table>\n",
       "</div>"
      ],
      "text/plain": [
       "           bathrooms       bedrooms  current_list_price           sqft  \\\n",
       "count  158249.000000  158249.000000        1.582490e+05  158249.000000   \n",
       "mean        2.426024       3.289215        4.900941e+05    2246.585501   \n",
       "std         1.011008       1.106596        4.288674e+05    1171.482005   \n",
       "min         0.100000       1.000000        3.250000e+02      70.000000   \n",
       "25%         2.000000       3.000000        2.249000e+05    1386.000000   \n",
       "50%         2.000000       3.000000        3.699000e+05    1986.000000   \n",
       "75%         3.000000       4.000000        6.190000e+05    2850.000000   \n",
       "max         8.000000       8.000000        2.999999e+06    9999.000000   \n",
       "\n",
       "          year_built  rentzestimate_amount  \n",
       "count  158249.000000         158249.000000  \n",
       "mean     1982.553634           2676.434151  \n",
       "std        27.504637           1609.365234  \n",
       "min      1800.000000            400.000000  \n",
       "25%      1969.000000           1600.000000  \n",
       "50%      1989.000000           2200.000000  \n",
       "75%      2004.000000           3124.000000  \n",
       "max      2018.000000           9999.000000  "
      ]
     },
     "execution_count": 39,
     "metadata": {},
     "output_type": "execute_result"
    }
   ],
   "source": [
    "data_train.describe()"
   ]
  },
  {
   "cell_type": "code",
   "execution_count": null,
   "metadata": {
    "collapsed": true
   },
   "outputs": [],
   "source": []
  },
  {
   "cell_type": "code",
   "execution_count": 191,
   "metadata": {
    "scrolled": true
   },
   "outputs": [
    {
     "data": {
      "text/html": [
       "<div>\n",
       "<table border=\"1\" class=\"dataframe\">\n",
       "  <thead>\n",
       "    <tr style=\"text-align: right;\">\n",
       "      <th></th>\n",
       "      <th>bathrooms</th>\n",
       "      <th>bedrooms</th>\n",
       "      <th>city</th>\n",
       "      <th>current_list_price</th>\n",
       "      <th>property_type</th>\n",
       "      <th>sqft</th>\n",
       "      <th>state</th>\n",
       "      <th>unique_id</th>\n",
       "      <th>year_built</th>\n",
       "      <th>zip</th>\n",
       "      <th>rentzestimate_amount</th>\n",
       "      <th>log_rent</th>\n",
       "      <th>log_bedrooms</th>\n",
       "    </tr>\n",
       "  </thead>\n",
       "  <tbody>\n",
       "  </tbody>\n",
       "</table>\n",
       "</div>"
      ],
      "text/plain": [
       "Empty DataFrame\n",
       "Columns: [bathrooms, bedrooms, city, current_list_price, property_type, sqft, state, unique_id, year_built, zip, rentzestimate_amount, log_rent, log_bedrooms]\n",
       "Index: []"
      ]
     },
     "execution_count": 191,
     "metadata": {},
     "output_type": "execute_result"
    }
   ],
   "source": [
    "data_train[data_train.current_list_price <= 100]"
   ]
  },
  {
   "cell_type": "code",
   "execution_count": 40,
   "metadata": {
    "scrolled": true
   },
   "outputs": [
    {
     "data": {
      "text/html": [
       "<div>\n",
       "<style>\n",
       "    .dataframe thead tr:only-child th {\n",
       "        text-align: right;\n",
       "    }\n",
       "\n",
       "    .dataframe thead th {\n",
       "        text-align: left;\n",
       "    }\n",
       "\n",
       "    .dataframe tbody tr th {\n",
       "        vertical-align: top;\n",
       "    }\n",
       "</style>\n",
       "<table border=\"1\" class=\"dataframe\">\n",
       "  <thead>\n",
       "    <tr style=\"text-align: right;\">\n",
       "      <th></th>\n",
       "      <th>Total</th>\n",
       "      <th>Percent</th>\n",
       "    </tr>\n",
       "  </thead>\n",
       "  <tbody>\n",
       "    <tr>\n",
       "      <th>rentzestimate_amount</th>\n",
       "      <td>0</td>\n",
       "      <td>0.0</td>\n",
       "    </tr>\n",
       "    <tr>\n",
       "      <th>zip</th>\n",
       "      <td>0</td>\n",
       "      <td>0.0</td>\n",
       "    </tr>\n",
       "    <tr>\n",
       "      <th>year_built</th>\n",
       "      <td>0</td>\n",
       "      <td>0.0</td>\n",
       "    </tr>\n",
       "    <tr>\n",
       "      <th>unique_id</th>\n",
       "      <td>0</td>\n",
       "      <td>0.0</td>\n",
       "    </tr>\n",
       "    <tr>\n",
       "      <th>state</th>\n",
       "      <td>0</td>\n",
       "      <td>0.0</td>\n",
       "    </tr>\n",
       "    <tr>\n",
       "      <th>sqft</th>\n",
       "      <td>0</td>\n",
       "      <td>0.0</td>\n",
       "    </tr>\n",
       "    <tr>\n",
       "      <th>property_type</th>\n",
       "      <td>0</td>\n",
       "      <td>0.0</td>\n",
       "    </tr>\n",
       "    <tr>\n",
       "      <th>current_list_price</th>\n",
       "      <td>0</td>\n",
       "      <td>0.0</td>\n",
       "    </tr>\n",
       "    <tr>\n",
       "      <th>city</th>\n",
       "      <td>0</td>\n",
       "      <td>0.0</td>\n",
       "    </tr>\n",
       "    <tr>\n",
       "      <th>bedrooms</th>\n",
       "      <td>0</td>\n",
       "      <td>0.0</td>\n",
       "    </tr>\n",
       "    <tr>\n",
       "      <th>bathrooms</th>\n",
       "      <td>0</td>\n",
       "      <td>0.0</td>\n",
       "    </tr>\n",
       "  </tbody>\n",
       "</table>\n",
       "</div>"
      ],
      "text/plain": [
       "                      Total  Percent\n",
       "rentzestimate_amount      0      0.0\n",
       "zip                       0      0.0\n",
       "year_built                0      0.0\n",
       "unique_id                 0      0.0\n",
       "state                     0      0.0\n",
       "sqft                      0      0.0\n",
       "property_type             0      0.0\n",
       "current_list_price        0      0.0\n",
       "city                      0      0.0\n",
       "bedrooms                  0      0.0\n",
       "bathrooms                 0      0.0"
      ]
     },
     "execution_count": 40,
     "metadata": {},
     "output_type": "execute_result"
    }
   ],
   "source": [
    "total = data_train.isnull().sum().sort_values(ascending=False)\n",
    "percent = (data_train.isnull().sum()/data_train.isnull().count()).sort_values(ascending=False)\n",
    "missing_data = pd.concat([total, percent], axis=1, keys=['Total', 'Percent'])\n",
    "missing_data.head(20)"
   ]
  },
  {
   "cell_type": "code",
   "execution_count": 41,
   "metadata": {},
   "outputs": [
    {
     "data": {
      "text/plain": [
       "(158249, 11)"
      ]
     },
     "execution_count": 41,
     "metadata": {},
     "output_type": "execute_result"
    }
   ],
   "source": [
    "data_train.shape"
   ]
  },
  {
   "cell_type": "code",
   "execution_count": 42,
   "metadata": {
    "scrolled": false
   },
   "outputs": [
    {
     "data": {
      "text/plain": [
       "<matplotlib.axes._subplots.AxesSubplot at 0x19c8cdd2b38>"
      ]
     },
     "execution_count": 42,
     "metadata": {},
     "output_type": "execute_result"
    },
    {
     "data": {
      "image/png": "[encoded data removed]",
      "text/plain": [
       "<matplotlib.figure.Figure at 0x19c8cdd20b8>"
      ]
     },
     "metadata": {},
     "output_type": "display_data"
    }
   ],
   "source": [
    "sns.distplot(data_train['year_built'])"
   ]
  },
  {
   "cell_type": "code",
   "execution_count": 30,
   "metadata": {
    "collapsed": true
   },
   "outputs": [],
   "source": [
    "data_train['log_rent']  = np.log(data_train['rentzestimate_amount'])"
   ]
  },
  {
   "cell_type": "code",
   "execution_count": 189,
   "metadata": {
    "collapsed": true
   },
   "outputs": [],
   "source": [
    "data_train['log_bedrooms']  = np.log(data_train['bedrooms'])"
   ]
  },
  {
   "cell_type": "code",
   "execution_count": 193,
   "metadata": {
    "collapsed": true
   },
   "outputs": [],
   "source": [
    "data_train['log_bathrooms']  = np.log(data_train['bathrooms'])"
   ]
  },
  {
   "cell_type": "code",
   "execution_count": 31,
   "metadata": {
    "collapsed": true
   },
   "outputs": [],
   "source": [
    "data_train['log_price']  = np.log(data_train['current_list_price'])"
   ]
  },
  {
   "cell_type": "code",
   "execution_count": 32,
   "metadata": {
    "collapsed": true
   },
   "outputs": [],
   "source": [
    "data_train['log_sqft']  = np.log(data_train['sqft'])"
   ]
  },
  {
   "cell_type": "code",
   "execution_count": 58,
   "metadata": {
    "scrolled": true
   },
   "outputs": [
    {
     "data": {
      "text/html": [
       "<div>\n",
       "<style>\n",
       "    .dataframe thead tr:only-child th {\n",
       "        text-align: right;\n",
       "    }\n",
       "\n",
       "    .dataframe thead th {\n",
       "        text-align: left;\n",
       "    }\n",
       "\n",
       "    .dataframe tbody tr th {\n",
       "        vertical-align: top;\n",
       "    }\n",
       "</style>\n",
       "<table border=\"1\" class=\"dataframe\">\n",
       "  <thead>\n",
       "    <tr style=\"text-align: right;\">\n",
       "      <th></th>\n",
       "      <th>bathrooms</th>\n",
       "      <th>bedrooms</th>\n",
       "      <th>city</th>\n",
       "      <th>current_list_price</th>\n",
       "      <th>property_type</th>\n",
       "      <th>sqft</th>\n",
       "      <th>state</th>\n",
       "      <th>unique_id</th>\n",
       "      <th>year_built</th>\n",
       "      <th>zip</th>\n",
       "      <th>rentzestimate_amount</th>\n",
       "      <th>scaled_rent</th>\n",
       "      <th>scaled_bedrooms</th>\n",
       "      <th>scaled_bathrooms</th>\n",
       "      <th>scaled_price</th>\n",
       "      <th>scaled_sqft</th>\n",
       "      <th>scaled_year</th>\n",
       "    </tr>\n",
       "  </thead>\n",
       "  <tbody>\n",
       "    <tr>\n",
       "      <th>106917</th>\n",
       "      <td>2.0</td>\n",
       "      <td>3.0</td>\n",
       "      <td>Pembroke</td>\n",
       "      <td>124900.0</td>\n",
       "      <td>RESI</td>\n",
       "      <td>1498.0</td>\n",
       "      <td>GA</td>\n",
       "      <td>GAMLS_8165173</td>\n",
       "      <td>2007.0</td>\n",
       "      <td>31321</td>\n",
       "      <td>1295.0</td>\n",
       "      <td>0.093239</td>\n",
       "      <td>0.285714</td>\n",
       "      <td>0.240506</td>\n",
       "      <td>0.041530</td>\n",
       "      <td>0.143821</td>\n",
       "      <td>0.949541</td>\n",
       "    </tr>\n",
       "    <tr>\n",
       "      <th>282857</th>\n",
       "      <td>2.0</td>\n",
       "      <td>3.0</td>\n",
       "      <td>Star Harbor</td>\n",
       "      <td>335000.0</td>\n",
       "      <td>RESI</td>\n",
       "      <td>1422.0</td>\n",
       "      <td>TX</td>\n",
       "      <td>NTREIS_69390726</td>\n",
       "      <td>1979.0</td>\n",
       "      <td>75148</td>\n",
       "      <td>2149.0</td>\n",
       "      <td>0.182206</td>\n",
       "      <td>0.285714</td>\n",
       "      <td>0.240506</td>\n",
       "      <td>0.111570</td>\n",
       "      <td>0.136167</td>\n",
       "      <td>0.821101</td>\n",
       "    </tr>\n",
       "    <tr>\n",
       "      <th>80292</th>\n",
       "      <td>2.0</td>\n",
       "      <td>3.0</td>\n",
       "      <td>Bradley</td>\n",
       "      <td>479000.0</td>\n",
       "      <td>RESI</td>\n",
       "      <td>2318.0</td>\n",
       "      <td>CA</td>\n",
       "      <td>CRMLS_123908407</td>\n",
       "      <td>2004.0</td>\n",
       "      <td>93426</td>\n",
       "      <td>2400.0</td>\n",
       "      <td>0.208355</td>\n",
       "      <td>0.285714</td>\n",
       "      <td>0.240506</td>\n",
       "      <td>0.159576</td>\n",
       "      <td>0.226407</td>\n",
       "      <td>0.935780</td>\n",
       "    </tr>\n",
       "    <tr>\n",
       "      <th>351797</th>\n",
       "      <td>3.0</td>\n",
       "      <td>3.0</td>\n",
       "      <td>Doral</td>\n",
       "      <td>499000.0</td>\n",
       "      <td>RESI</td>\n",
       "      <td>2121.0</td>\n",
       "      <td>FL</td>\n",
       "      <td>SEFRETS_342345855</td>\n",
       "      <td>2000.0</td>\n",
       "      <td>33178</td>\n",
       "      <td>2949.0</td>\n",
       "      <td>0.265548</td>\n",
       "      <td>0.285714</td>\n",
       "      <td>0.367089</td>\n",
       "      <td>0.166243</td>\n",
       "      <td>0.206567</td>\n",
       "      <td>0.917431</td>\n",
       "    </tr>\n",
       "    <tr>\n",
       "      <th>249974</th>\n",
       "      <td>2.0</td>\n",
       "      <td>2.0</td>\n",
       "      <td>Framingham</td>\n",
       "      <td>288000.0</td>\n",
       "      <td>APT</td>\n",
       "      <td>1295.0</td>\n",
       "      <td>MA</td>\n",
       "      <td>MLSPIN_72156014</td>\n",
       "      <td>1966.0</td>\n",
       "      <td>01702</td>\n",
       "      <td>2000.0</td>\n",
       "      <td>0.166684</td>\n",
       "      <td>0.142857</td>\n",
       "      <td>0.240506</td>\n",
       "      <td>0.095902</td>\n",
       "      <td>0.123376</td>\n",
       "      <td>0.761468</td>\n",
       "    </tr>\n",
       "  </tbody>\n",
       "</table>\n",
       "</div>"
      ],
      "text/plain": [
       "        bathrooms  bedrooms         city  current_list_price property_type  \\\n",
       "106917        2.0       3.0     Pembroke            124900.0          RESI   \n",
       "282857        2.0       3.0  Star Harbor            335000.0          RESI   \n",
       "80292         2.0       3.0      Bradley            479000.0          RESI   \n",
       "351797        3.0       3.0        Doral            499000.0          RESI   \n",
       "249974        2.0       2.0   Framingham            288000.0           APT   \n",
       "\n",
       "          sqft state          unique_id  year_built    zip  \\\n",
       "106917  1498.0    GA      GAMLS_8165173      2007.0  31321   \n",
       "282857  1422.0    TX    NTREIS_69390726      1979.0  75148   \n",
       "80292   2318.0    CA    CRMLS_123908407      2004.0  93426   \n",
       "351797  2121.0    FL  SEFRETS_342345855      2000.0  33178   \n",
       "249974  1295.0    MA    MLSPIN_72156014      1966.0  01702   \n",
       "\n",
       "        rentzestimate_amount  scaled_rent  scaled_bedrooms  scaled_bathrooms  \\\n",
       "106917                1295.0     0.093239         0.285714          0.240506   \n",
       "282857                2149.0     0.182206         0.285714          0.240506   \n",
       "80292                 2400.0     0.208355         0.285714          0.240506   \n",
       "351797                2949.0     0.265548         0.285714          0.367089   \n",
       "249974                2000.0     0.166684         0.142857          0.240506   \n",
       "\n",
       "        scaled_price  scaled_sqft  scaled_year  \n",
       "106917      0.041530     0.143821     0.949541  \n",
       "282857      0.111570     0.136167     0.821101  \n",
       "80292       0.159576     0.226407     0.935780  \n",
       "351797      0.166243     0.206567     0.917431  \n",
       "249974      0.095902     0.123376     0.761468  "
      ]
     },
     "execution_count": 58,
     "metadata": {},
     "output_type": "execute_result"
    }
   ],
   "source": [
    "data_train.head()"
   ]
  },
  {
   "cell_type": "code",
   "execution_count": 48,
   "metadata": {},
   "outputs": [
    {
     "name": "stdout",
     "output_type": "stream",
     "text": [
      "MinMaxScaler(copy=True, feature_range=(0, 1))\n"
     ]
    }
   ],
   "source": [
    "# feature scaling\n",
    "from sklearn.preprocessing import MinMaxScaler\n",
    "scaler = MinMaxScaler()\n",
    "print(scaler.fit(data_train['rentzestimate_amount']))\n",
    "data_train['scaled_rent']  = scaler.transform(data_train['rentzestimate_amount'])"
   ]
  },
  {
   "cell_type": "code",
   "execution_count": 50,
   "metadata": {
    "collapsed": true
   },
   "outputs": [],
   "source": [
    "scaler.fit(data_train['bedrooms'])\n",
    "data_train['scaled_bedrooms']  = scaler.transform(data_train['bedrooms'])"
   ]
  },
  {
   "cell_type": "code",
   "execution_count": 52,
   "metadata": {
    "collapsed": true
   },
   "outputs": [],
   "source": [
    "scaler.fit(data_train['bathrooms'])\n",
    "data_train['scaled_bathrooms']  = scaler.transform(data_train['bathrooms'])"
   ]
  },
  {
   "cell_type": "code",
   "execution_count": 54,
   "metadata": {},
   "outputs": [],
   "source": [
    "scaler.fit(data_train['current_list_price'])\n",
    "data_train['scaled_price']  = scaler.transform(data_train['current_list_price'])"
   ]
  },
  {
   "cell_type": "code",
   "execution_count": 55,
   "metadata": {
    "collapsed": true
   },
   "outputs": [],
   "source": [
    "scaler.fit(data_train['sqft'])\n",
    "data_train['scaled_sqft']  = scaler.transform(data_train['sqft'])"
   ]
  },
  {
   "cell_type": "code",
   "execution_count": 57,
   "metadata": {
    "collapsed": true
   },
   "outputs": [],
   "source": [
    "scaler.fit(data_train['year_built'])\n",
    "data_train['scaled_year']  = scaler.transform(data_train['year_built'])"
   ]
  },
  {
   "cell_type": "code",
   "execution_count": null,
   "metadata": {
    "collapsed": true
   },
   "outputs": [],
   "source": [
    "# data test"
   ]
  },
  {
   "cell_type": "code",
   "execution_count": 68,
   "metadata": {
    "scrolled": true
   },
   "outputs": [
    {
     "data": {
      "text/html": [
       "<div>\n",
       "<style>\n",
       "    .dataframe thead tr:only-child th {\n",
       "        text-align: right;\n",
       "    }\n",
       "\n",
       "    .dataframe thead th {\n",
       "        text-align: left;\n",
       "    }\n",
       "\n",
       "    .dataframe tbody tr th {\n",
       "        vertical-align: top;\n",
       "    }\n",
       "</style>\n",
       "<table border=\"1\" class=\"dataframe\">\n",
       "  <thead>\n",
       "    <tr style=\"text-align: right;\">\n",
       "      <th></th>\n",
       "      <th>bathrooms</th>\n",
       "      <th>bedrooms</th>\n",
       "      <th>city</th>\n",
       "      <th>current_list_price</th>\n",
       "      <th>property_type</th>\n",
       "      <th>sqft</th>\n",
       "      <th>state</th>\n",
       "      <th>unique_id</th>\n",
       "      <th>year_built</th>\n",
       "      <th>zip</th>\n",
       "      <th>rentzestimate_amount</th>\n",
       "      <th>log_rent</th>\n",
       "      <th>log_price</th>\n",
       "      <th>log_sqft</th>\n",
       "      <th>scaled_rent</th>\n",
       "      <th>scaled_bedrooms</th>\n",
       "      <th>scaled_bathrooms</th>\n",
       "      <th>scaled_price</th>\n",
       "      <th>scaled_sqft</th>\n",
       "      <th>scaled_year</th>\n",
       "    </tr>\n",
       "  </thead>\n",
       "  <tbody>\n",
       "    <tr>\n",
       "      <th>8</th>\n",
       "      <td>3.0</td>\n",
       "      <td>3.0</td>\n",
       "      <td>Liberty Hill</td>\n",
       "      <td>619000.0</td>\n",
       "      <td>RESI</td>\n",
       "      <td>3355.0</td>\n",
       "      <td>TX</td>\n",
       "      <td>ABOR_17982224</td>\n",
       "      <td>2014.0</td>\n",
       "      <td>78642</td>\n",
       "      <td>3010.0</td>\n",
       "      <td>8.009695</td>\n",
       "      <td>13.335861</td>\n",
       "      <td>8.118207</td>\n",
       "      <td>0.270030</td>\n",
       "      <td>0.285714</td>\n",
       "      <td>0.374218</td>\n",
       "      <td>0.206229</td>\n",
       "      <td>0.334802</td>\n",
       "      <td>0.981651</td>\n",
       "    </tr>\n",
       "    <tr>\n",
       "      <th>9</th>\n",
       "      <td>2.0</td>\n",
       "      <td>2.0</td>\n",
       "      <td>Austin</td>\n",
       "      <td>735000.0</td>\n",
       "      <td>APT</td>\n",
       "      <td>1416.0</td>\n",
       "      <td>TX</td>\n",
       "      <td>ABOR_18247858</td>\n",
       "      <td>2004.0</td>\n",
       "      <td>78701</td>\n",
       "      <td>3569.0</td>\n",
       "      <td>8.180041</td>\n",
       "      <td>13.507626</td>\n",
       "      <td>7.255591</td>\n",
       "      <td>0.328424</td>\n",
       "      <td>0.142857</td>\n",
       "      <td>0.249061</td>\n",
       "      <td>0.244901</td>\n",
       "      <td>0.140669</td>\n",
       "      <td>0.935780</td>\n",
       "    </tr>\n",
       "    <tr>\n",
       "      <th>12</th>\n",
       "      <td>6.0</td>\n",
       "      <td>5.0</td>\n",
       "      <td>Austin</td>\n",
       "      <td>684990.0</td>\n",
       "      <td>RESI</td>\n",
       "      <td>4292.0</td>\n",
       "      <td>TX</td>\n",
       "      <td>ABOR_18452154</td>\n",
       "      <td>2016.0</td>\n",
       "      <td>78738</td>\n",
       "      <td>3624.0</td>\n",
       "      <td>8.195334</td>\n",
       "      <td>13.437160</td>\n",
       "      <td>8.364508</td>\n",
       "      <td>0.334169</td>\n",
       "      <td>0.571429</td>\n",
       "      <td>0.749687</td>\n",
       "      <td>0.228228</td>\n",
       "      <td>0.428614</td>\n",
       "      <td>0.990826</td>\n",
       "    </tr>\n",
       "    <tr>\n",
       "      <th>15</th>\n",
       "      <td>3.0</td>\n",
       "      <td>3.0</td>\n",
       "      <td>Cameron</td>\n",
       "      <td>975000.0</td>\n",
       "      <td>RESI</td>\n",
       "      <td>2975.0</td>\n",
       "      <td>TX</td>\n",
       "      <td>ABOR_18658238</td>\n",
       "      <td>1990.0</td>\n",
       "      <td>76520</td>\n",
       "      <td>4699.0</td>\n",
       "      <td>8.455105</td>\n",
       "      <td>13.790193</td>\n",
       "      <td>7.997999</td>\n",
       "      <td>0.446464</td>\n",
       "      <td>0.285714</td>\n",
       "      <td>0.374218</td>\n",
       "      <td>0.324911</td>\n",
       "      <td>0.296756</td>\n",
       "      <td>0.871560</td>\n",
       "    </tr>\n",
       "    <tr>\n",
       "      <th>16</th>\n",
       "      <td>4.0</td>\n",
       "      <td>5.0</td>\n",
       "      <td>Hutto</td>\n",
       "      <td>265504.0</td>\n",
       "      <td>RESI</td>\n",
       "      <td>2495.0</td>\n",
       "      <td>TX</td>\n",
       "      <td>ABOR_18677940</td>\n",
       "      <td>2015.0</td>\n",
       "      <td>78634</td>\n",
       "      <td>1795.0</td>\n",
       "      <td>7.492760</td>\n",
       "      <td>12.489385</td>\n",
       "      <td>7.822044</td>\n",
       "      <td>0.143111</td>\n",
       "      <td>0.571429</td>\n",
       "      <td>0.499374</td>\n",
       "      <td>0.088381</td>\n",
       "      <td>0.248698</td>\n",
       "      <td>0.986239</td>\n",
       "    </tr>\n",
       "  </tbody>\n",
       "</table>\n",
       "</div>"
      ],
      "text/plain": [
       "    bathrooms  bedrooms          city  current_list_price property_type  \\\n",
       "8         3.0       3.0  Liberty Hill            619000.0          RESI   \n",
       "9         2.0       2.0        Austin            735000.0           APT   \n",
       "12        6.0       5.0        Austin            684990.0          RESI   \n",
       "15        3.0       3.0       Cameron            975000.0          RESI   \n",
       "16        4.0       5.0         Hutto            265504.0          RESI   \n",
       "\n",
       "      sqft state      unique_id  year_built    zip  rentzestimate_amount  \\\n",
       "8   3355.0    TX  ABOR_17982224      2014.0  78642                3010.0   \n",
       "9   1416.0    TX  ABOR_18247858      2004.0  78701                3569.0   \n",
       "12  4292.0    TX  ABOR_18452154      2016.0  78738                3624.0   \n",
       "15  2975.0    TX  ABOR_18658238      1990.0  76520                4699.0   \n",
       "16  2495.0    TX  ABOR_18677940      2015.0  78634                1795.0   \n",
       "\n",
       "    log_rent  log_price  log_sqft  scaled_rent  scaled_bedrooms  \\\n",
       "8   8.009695  13.335861  8.118207     0.270030         0.285714   \n",
       "9   8.180041  13.507626  7.255591     0.328424         0.142857   \n",
       "12  8.195334  13.437160  8.364508     0.334169         0.571429   \n",
       "15  8.455105  13.790193  7.997999     0.446464         0.285714   \n",
       "16  7.492760  12.489385  7.822044     0.143111         0.571429   \n",
       "\n",
       "    scaled_bathrooms  scaled_price  scaled_sqft  scaled_year  \n",
       "8           0.374218      0.206229     0.334802     0.981651  \n",
       "9           0.249061      0.244901     0.140669     0.935780  \n",
       "12          0.749687      0.228228     0.428614     0.990826  \n",
       "15          0.374218      0.324911     0.296756     0.871560  \n",
       "16          0.499374      0.088381     0.248698     0.986239  "
      ]
     },
     "execution_count": 68,
     "metadata": {},
     "output_type": "execute_result"
    }
   ],
   "source": [
    "data_test.head()"
   ]
  },
  {
   "cell_type": "code",
   "execution_count": 59,
   "metadata": {
    "collapsed": true
   },
   "outputs": [],
   "source": [
    "data_test = data_test.dropna(axis=0, how='any')\n",
    "data_test = data_test[data_test.rentzestimate_amount < 10000]\n",
    "data_test = data_test[(data_test['year_built']>=1800) & (data_test['year_built'] <=2018)]\n",
    "data_test = data_test[(data_test[\"bathrooms\"] <= 8) & (data_test[\"bedrooms\"] <= 8)]\n",
    "data_test = data_test[(data_test[\"bathrooms\"] != 0) & (data_test[\"bedrooms\"] != 0)]\n",
    "data_test = data_test[(data_test[\"sqft\"] > 10) & (data_test[\"sqft\"] < 10000)]\n",
    "data_test = data_test[(data_test[\"current_list_price\"] > 1) & (data_test[\"current_list_price\"] < 3000000) ]"
   ]
  },
  {
   "cell_type": "code",
   "execution_count": 60,
   "metadata": {
    "collapsed": true
   },
   "outputs": [],
   "source": [
    "data_test['log_rent']  = np.log(data_test['rentzestimate_amount'])\n",
    "data_test['log_price']  = np.log(data_test['current_list_price'])\n",
    "data_test['log_sqft']  = np.log(data_test['sqft'])"
   ]
  },
  {
   "cell_type": "code",
   "execution_count": 61,
   "metadata": {
    "collapsed": true
   },
   "outputs": [],
   "source": [
    "scaler = MinMaxScaler()\n",
    "scaler.fit(data_test['rentzestimate_amount'])\n",
    "data_test['scaled_rent']  = scaler.transform(data_test['rentzestimate_amount'])"
   ]
  },
  {
   "cell_type": "code",
   "execution_count": 62,
   "metadata": {
    "collapsed": true
   },
   "outputs": [],
   "source": [
    "scaler.fit(data_test['bedrooms'])\n",
    "data_test['scaled_bedrooms']  = scaler.transform(data_test['bedrooms'])"
   ]
  },
  {
   "cell_type": "code",
   "execution_count": 63,
   "metadata": {
    "collapsed": true
   },
   "outputs": [],
   "source": [
    "scaler.fit(data_test['bathrooms'])\n",
    "data_test['scaled_bathrooms']  = scaler.transform(data_test['bathrooms'])"
   ]
  },
  {
   "cell_type": "code",
   "execution_count": 64,
   "metadata": {
    "collapsed": true
   },
   "outputs": [],
   "source": [
    "scaler.fit(data_test['current_list_price'])\n",
    "data_test['scaled_price']  = scaler.transform(data_test['current_list_price'])"
   ]
  },
  {
   "cell_type": "code",
   "execution_count": 65,
   "metadata": {
    "collapsed": true
   },
   "outputs": [],
   "source": [
    "scaler.fit(data_test['sqft'])\n",
    "data_test['scaled_sqft']  = scaler.transform(data_test['sqft'])"
   ]
  },
  {
   "cell_type": "code",
   "execution_count": 66,
   "metadata": {
    "collapsed": true
   },
   "outputs": [],
   "source": [
    "scaler.fit(data_test['year_built'])\n",
    "data_test['scaled_year']  = scaler.transform(data_test['year_built'])"
   ]
  },
  {
   "cell_type": "code",
   "execution_count": 67,
   "metadata": {
    "scrolled": true
   },
   "outputs": [
    {
     "data": {
      "text/plain": [
       "(67732, 20)"
      ]
     },
     "execution_count": 67,
     "metadata": {},
     "output_type": "execute_result"
    }
   ],
   "source": [
    "data_test.shape"
   ]
  },
  {
   "cell_type": "code",
   "execution_count": 84,
   "metadata": {},
   "outputs": [
    {
     "data": {
      "text/html": [
       "<div>\n",
       "<style>\n",
       "    .dataframe thead tr:only-child th {\n",
       "        text-align: right;\n",
       "    }\n",
       "\n",
       "    .dataframe thead th {\n",
       "        text-align: left;\n",
       "    }\n",
       "\n",
       "    .dataframe tbody tr th {\n",
       "        vertical-align: top;\n",
       "    }\n",
       "</style>\n",
       "<table border=\"1\" class=\"dataframe\">\n",
       "  <thead>\n",
       "    <tr style=\"text-align: right;\">\n",
       "      <th></th>\n",
       "      <th>bathrooms</th>\n",
       "      <th>bedrooms</th>\n",
       "      <th>city</th>\n",
       "      <th>current_list_price</th>\n",
       "      <th>property_type</th>\n",
       "      <th>sqft</th>\n",
       "      <th>state</th>\n",
       "      <th>unique_id</th>\n",
       "      <th>year_built</th>\n",
       "      <th>zip</th>\n",
       "      <th>rentzestimate_amount</th>\n",
       "      <th>log_rent</th>\n",
       "      <th>log_price</th>\n",
       "      <th>log_sqft</th>\n",
       "    </tr>\n",
       "  </thead>\n",
       "  <tbody>\n",
       "    <tr>\n",
       "      <th>8</th>\n",
       "      <td>3.0</td>\n",
       "      <td>3.0</td>\n",
       "      <td>Liberty Hill</td>\n",
       "      <td>619000.0</td>\n",
       "      <td>RESI</td>\n",
       "      <td>3355.0</td>\n",
       "      <td>TX</td>\n",
       "      <td>ABOR_17982224</td>\n",
       "      <td>2014.0</td>\n",
       "      <td>78642</td>\n",
       "      <td>3010.0</td>\n",
       "      <td>8.009695</td>\n",
       "      <td>13.335861</td>\n",
       "      <td>8.118207</td>\n",
       "    </tr>\n",
       "    <tr>\n",
       "      <th>9</th>\n",
       "      <td>2.0</td>\n",
       "      <td>2.0</td>\n",
       "      <td>Austin</td>\n",
       "      <td>735000.0</td>\n",
       "      <td>APT</td>\n",
       "      <td>1416.0</td>\n",
       "      <td>TX</td>\n",
       "      <td>ABOR_18247858</td>\n",
       "      <td>2004.0</td>\n",
       "      <td>78701</td>\n",
       "      <td>3569.0</td>\n",
       "      <td>8.180041</td>\n",
       "      <td>13.507626</td>\n",
       "      <td>7.255591</td>\n",
       "    </tr>\n",
       "    <tr>\n",
       "      <th>12</th>\n",
       "      <td>6.0</td>\n",
       "      <td>5.0</td>\n",
       "      <td>Austin</td>\n",
       "      <td>684990.0</td>\n",
       "      <td>RESI</td>\n",
       "      <td>4292.0</td>\n",
       "      <td>TX</td>\n",
       "      <td>ABOR_18452154</td>\n",
       "      <td>2016.0</td>\n",
       "      <td>78738</td>\n",
       "      <td>3624.0</td>\n",
       "      <td>8.195334</td>\n",
       "      <td>13.437160</td>\n",
       "      <td>8.364508</td>\n",
       "    </tr>\n",
       "    <tr>\n",
       "      <th>15</th>\n",
       "      <td>3.0</td>\n",
       "      <td>3.0</td>\n",
       "      <td>Cameron</td>\n",
       "      <td>975000.0</td>\n",
       "      <td>RESI</td>\n",
       "      <td>2975.0</td>\n",
       "      <td>TX</td>\n",
       "      <td>ABOR_18658238</td>\n",
       "      <td>1990.0</td>\n",
       "      <td>76520</td>\n",
       "      <td>4699.0</td>\n",
       "      <td>8.455105</td>\n",
       "      <td>13.790193</td>\n",
       "      <td>7.997999</td>\n",
       "    </tr>\n",
       "    <tr>\n",
       "      <th>16</th>\n",
       "      <td>4.0</td>\n",
       "      <td>5.0</td>\n",
       "      <td>Hutto</td>\n",
       "      <td>265504.0</td>\n",
       "      <td>RESI</td>\n",
       "      <td>2495.0</td>\n",
       "      <td>TX</td>\n",
       "      <td>ABOR_18677940</td>\n",
       "      <td>2015.0</td>\n",
       "      <td>78634</td>\n",
       "      <td>1795.0</td>\n",
       "      <td>7.492760</td>\n",
       "      <td>12.489385</td>\n",
       "      <td>7.822044</td>\n",
       "    </tr>\n",
       "  </tbody>\n",
       "</table>\n",
       "</div>"
      ],
      "text/plain": [
       "    bathrooms  bedrooms          city  current_list_price property_type  \\\n",
       "8         3.0       3.0  Liberty Hill            619000.0          RESI   \n",
       "9         2.0       2.0        Austin            735000.0           APT   \n",
       "12        6.0       5.0        Austin            684990.0          RESI   \n",
       "15        3.0       3.0       Cameron            975000.0          RESI   \n",
       "16        4.0       5.0         Hutto            265504.0          RESI   \n",
       "\n",
       "      sqft state      unique_id  year_built    zip  rentzestimate_amount  \\\n",
       "8   3355.0    TX  ABOR_17982224      2014.0  78642                3010.0   \n",
       "9   1416.0    TX  ABOR_18247858      2004.0  78701                3569.0   \n",
       "12  4292.0    TX  ABOR_18452154      2016.0  78738                3624.0   \n",
       "15  2975.0    TX  ABOR_18658238      1990.0  76520                4699.0   \n",
       "16  2495.0    TX  ABOR_18677940      2015.0  78634                1795.0   \n",
       "\n",
       "    log_rent  log_price  log_sqft  \n",
       "8   8.009695  13.335861  8.118207  \n",
       "9   8.180041  13.507626  7.255591  \n",
       "12  8.195334  13.437160  8.364508  \n",
       "15  8.455105  13.790193  7.997999  \n",
       "16  7.492760  12.489385  7.822044  "
      ]
     },
     "execution_count": 84,
     "metadata": {},
     "output_type": "execute_result"
    }
   ],
   "source": [
    "data_test.head()"
   ]
  },
  {
   "cell_type": "code",
   "execution_count": null,
   "metadata": {
    "collapsed": true
   },
   "outputs": [],
   "source": [
    "# data null"
   ]
  },
  {
   "cell_type": "code",
   "execution_count": 185,
   "metadata": {
    "scrolled": false
   },
   "outputs": [
    {
     "data": {
      "text/html": [
       "<div>\n",
       "<style>\n",
       "    .dataframe thead tr:only-child th {\n",
       "        text-align: right;\n",
       "    }\n",
       "\n",
       "    .dataframe thead th {\n",
       "        text-align: left;\n",
       "    }\n",
       "\n",
       "    .dataframe tbody tr th {\n",
       "        vertical-align: top;\n",
       "    }\n",
       "</style>\n",
       "<table border=\"1\" class=\"dataframe\">\n",
       "  <thead>\n",
       "    <tr style=\"text-align: right;\">\n",
       "      <th></th>\n",
       "      <th>bathrooms</th>\n",
       "      <th>bedrooms</th>\n",
       "      <th>city</th>\n",
       "      <th>current_list_price</th>\n",
       "      <th>location_latitude</th>\n",
       "      <th>location_longitude</th>\n",
       "      <th>lot_sqft</th>\n",
       "      <th>property_type</th>\n",
       "      <th>sqft</th>\n",
       "      <th>state</th>\n",
       "      <th>unique_id</th>\n",
       "      <th>year_built</th>\n",
       "      <th>zip</th>\n",
       "    </tr>\n",
       "  </thead>\n",
       "  <tbody>\n",
       "    <tr>\n",
       "      <th>7</th>\n",
       "      <td>3.0</td>\n",
       "      <td>3.0</td>\n",
       "      <td>San Marcos</td>\n",
       "      <td>334900.0</td>\n",
       "      <td>29.866884</td>\n",
       "      <td>-97.968936</td>\n",
       "      <td>0.0</td>\n",
       "      <td>COND</td>\n",
       "      <td>2351.0</td>\n",
       "      <td>TX</td>\n",
       "      <td>ABOR_17615028</td>\n",
       "      <td>2016.0</td>\n",
       "      <td>78666</td>\n",
       "    </tr>\n",
       "    <tr>\n",
       "      <th>25</th>\n",
       "      <td>3.0</td>\n",
       "      <td>3.0</td>\n",
       "      <td>Giddings</td>\n",
       "      <td>950000.0</td>\n",
       "      <td>30.110725</td>\n",
       "      <td>-96.896752</td>\n",
       "      <td>67.0</td>\n",
       "      <td>RESI</td>\n",
       "      <td>2505.0</td>\n",
       "      <td>TX</td>\n",
       "      <td>ABOR_18942831</td>\n",
       "      <td>1990.0</td>\n",
       "      <td>78942</td>\n",
       "    </tr>\n",
       "    <tr>\n",
       "      <th>32</th>\n",
       "      <td>5.0</td>\n",
       "      <td>5.0</td>\n",
       "      <td>Spicewood</td>\n",
       "      <td>899900.0</td>\n",
       "      <td>30.480103</td>\n",
       "      <td>-98.124169</td>\n",
       "      <td>1.0</td>\n",
       "      <td>RESI</td>\n",
       "      <td>4266.0</td>\n",
       "      <td>TX</td>\n",
       "      <td>ABOR_19027435</td>\n",
       "      <td>2007.0</td>\n",
       "      <td>78669</td>\n",
       "    </tr>\n",
       "    <tr>\n",
       "      <th>39</th>\n",
       "      <td>4.0</td>\n",
       "      <td>4.0</td>\n",
       "      <td>Austin</td>\n",
       "      <td>639000.0</td>\n",
       "      <td>30.189674</td>\n",
       "      <td>-97.986250</td>\n",
       "      <td>0.0</td>\n",
       "      <td>RESI</td>\n",
       "      <td>3520.0</td>\n",
       "      <td>TX</td>\n",
       "      <td>ABOR_19139070</td>\n",
       "      <td>2016.0</td>\n",
       "      <td>78737</td>\n",
       "    </tr>\n",
       "    <tr>\n",
       "      <th>40</th>\n",
       "      <td>6.0</td>\n",
       "      <td>5.0</td>\n",
       "      <td>Austin</td>\n",
       "      <td>1285000.0</td>\n",
       "      <td>30.327920</td>\n",
       "      <td>-98.010209</td>\n",
       "      <td>1.0</td>\n",
       "      <td>RESI</td>\n",
       "      <td>4552.0</td>\n",
       "      <td>TX</td>\n",
       "      <td>ABOR_19149094</td>\n",
       "      <td>2016.0</td>\n",
       "      <td>78738</td>\n",
       "    </tr>\n",
       "  </tbody>\n",
       "</table>\n",
       "</div>"
      ],
      "text/plain": [
       "    bathrooms  bedrooms        city  current_list_price  location_latitude  \\\n",
       "7         3.0       3.0  San Marcos            334900.0          29.866884   \n",
       "25        3.0       3.0    Giddings            950000.0          30.110725   \n",
       "32        5.0       5.0   Spicewood            899900.0          30.480103   \n",
       "39        4.0       4.0      Austin            639000.0          30.189674   \n",
       "40        6.0       5.0      Austin           1285000.0          30.327920   \n",
       "\n",
       "    location_longitude  lot_sqft property_type    sqft state      unique_id  \\\n",
       "7           -97.968936       0.0          COND  2351.0    TX  ABOR_17615028   \n",
       "25          -96.896752      67.0          RESI  2505.0    TX  ABOR_18942831   \n",
       "32          -98.124169       1.0          RESI  4266.0    TX  ABOR_19027435   \n",
       "39          -97.986250       0.0          RESI  3520.0    TX  ABOR_19139070   \n",
       "40          -98.010209       1.0          RESI  4552.0    TX  ABOR_19149094   \n",
       "\n",
       "    year_built    zip  \n",
       "7       2016.0  78666  \n",
       "25      1990.0  78942  \n",
       "32      2007.0  78669  \n",
       "39      2016.0  78737  \n",
       "40      2016.0  78738  "
      ]
     },
     "execution_count": 185,
     "metadata": {},
     "output_type": "execute_result"
    }
   ],
   "source": [
    "data_null.head()"
   ]
  },
  {
   "cell_type": "code",
   "execution_count": 184,
   "metadata": {},
   "outputs": [],
   "source": [
    "data_null = data_null.drop('rentzestimate_amount', axis=1)\n",
    "data_null = data_null.dropna(axis=0, how='any')\n",
    "data_null = data_null[(data_null['year_built']>=1800) & (data_null['year_built'] <=2018)]\n",
    "data_null = data_null[(data_null[\"bathrooms\"] <= 8) & (data_null[\"bedrooms\"] <= 8)]\n",
    "data_null = data_null[(data_null[\"bathrooms\"] != 0) & (data_null[\"bedrooms\"] != 0)]\n",
    "data_null = data_null[(data_null[\"sqft\"] > 10) & (data_null[\"sqft\"] < 10000)]\n",
    "data_null = data_null[(data_null[\"current_list_price\"] > 1) & (data_null[\"current_list_price\"] < 3000000) ]"
   ]
  },
  {
   "cell_type": "code",
   "execution_count": 135,
   "metadata": {
    "collapsed": true
   },
   "outputs": [],
   "source": [
    "data_null['log_price']  = np.log(data_null['current_list_price'])\n",
    "data_null['log_sqft']  = np.log(data_null['sqft'])"
   ]
  },
  {
   "cell_type": "code",
   "execution_count": 186,
   "metadata": {
    "scrolled": true
   },
   "outputs": [],
   "source": [
    "scaler = MinMaxScaler()\n",
    "scaler.fit(data_null['bedrooms'])\n",
    "data_null['scaled_bedrooms']  = scaler.transform(data_null['bedrooms'])"
   ]
  },
  {
   "cell_type": "code",
   "execution_count": 187,
   "metadata": {
    "scrolled": true
   },
   "outputs": [],
   "source": [
    "scaler.fit(data_null['bathrooms'])\n",
    "data_null['scaled_bathrooms']  = scaler.transform(data_null['bathrooms'])"
   ]
  },
  {
   "cell_type": "code",
   "execution_count": 188,
   "metadata": {
    "collapsed": true
   },
   "outputs": [],
   "source": [
    "scaler.fit(data_null['current_list_price'])\n",
    "data_null['scaled_price']  = scaler.transform(data_null['current_list_price'])"
   ]
  },
  {
   "cell_type": "code",
   "execution_count": 189,
   "metadata": {
    "collapsed": true
   },
   "outputs": [],
   "source": [
    "scaler.fit(data_null['sqft'])\n",
    "data_null['scaled_sqft']  = scaler.transform(data_null['sqft'])"
   ]
  },
  {
   "cell_type": "code",
   "execution_count": 190,
   "metadata": {
    "collapsed": true
   },
   "outputs": [],
   "source": [
    "scaler.fit(data_null['year_built'])\n",
    "data_null['scaled_year']  = scaler.transform(data_null['year_built'])"
   ]
  },
  {
   "cell_type": "code",
   "execution_count": 191,
   "metadata": {},
   "outputs": [
    {
     "data": {
      "text/plain": [
       "(39101, 18)"
      ]
     },
     "execution_count": 191,
     "metadata": {},
     "output_type": "execute_result"
    }
   ],
   "source": [
    "data_null.shape"
   ]
  },
  {
   "cell_type": "code",
   "execution_count": 221,
   "metadata": {},
   "outputs": [],
   "source": [
    "data_null[\"scaled_rent\"] = np.nan"
   ]
  },
  {
   "cell_type": "code",
   "execution_count": 222,
   "metadata": {
    "scrolled": true
   },
   "outputs": [
    {
     "data": {
      "text/html": [
       "<div>\n",
       "<style>\n",
       "    .dataframe thead tr:only-child th {\n",
       "        text-align: right;\n",
       "    }\n",
       "\n",
       "    .dataframe thead th {\n",
       "        text-align: left;\n",
       "    }\n",
       "\n",
       "    .dataframe tbody tr th {\n",
       "        vertical-align: top;\n",
       "    }\n",
       "</style>\n",
       "<table border=\"1\" class=\"dataframe\">\n",
       "  <thead>\n",
       "    <tr style=\"text-align: right;\">\n",
       "      <th></th>\n",
       "      <th>bathrooms</th>\n",
       "      <th>bedrooms</th>\n",
       "      <th>city</th>\n",
       "      <th>current_list_price</th>\n",
       "      <th>location_latitude</th>\n",
       "      <th>location_longitude</th>\n",
       "      <th>lot_sqft</th>\n",
       "      <th>property_type</th>\n",
       "      <th>sqft</th>\n",
       "      <th>state</th>\n",
       "      <th>unique_id</th>\n",
       "      <th>year_built</th>\n",
       "      <th>zip</th>\n",
       "      <th>scaled_bedrooms</th>\n",
       "      <th>scaled_bathrooms</th>\n",
       "      <th>scaled_price</th>\n",
       "      <th>scaled_sqft</th>\n",
       "      <th>scaled_year</th>\n",
       "      <th>rentzestimate_amount</th>\n",
       "      <th>scaled.rent</th>\n",
       "      <th>scaled_rent</th>\n",
       "    </tr>\n",
       "  </thead>\n",
       "  <tbody>\n",
       "    <tr>\n",
       "      <th>7</th>\n",
       "      <td>3.0</td>\n",
       "      <td>3.0</td>\n",
       "      <td>San Marcos</td>\n",
       "      <td>334900.0</td>\n",
       "      <td>29.866884</td>\n",
       "      <td>-97.968936</td>\n",
       "      <td>0.0</td>\n",
       "      <td>COND</td>\n",
       "      <td>2351.0</td>\n",
       "      <td>TX</td>\n",
       "      <td>ABOR_17615028</td>\n",
       "      <td>2016.0</td>\n",
       "      <td>78666</td>\n",
       "      <td>0.285714</td>\n",
       "      <td>0.367089</td>\n",
       "      <td>0.111519</td>\n",
       "      <td>0.233744</td>\n",
       "      <td>0.990826</td>\n",
       "      <td>NaN</td>\n",
       "      <td>NaN</td>\n",
       "      <td>NaN</td>\n",
       "    </tr>\n",
       "    <tr>\n",
       "      <th>25</th>\n",
       "      <td>3.0</td>\n",
       "      <td>3.0</td>\n",
       "      <td>Giddings</td>\n",
       "      <td>950000.0</td>\n",
       "      <td>30.110725</td>\n",
       "      <td>-96.896752</td>\n",
       "      <td>67.0</td>\n",
       "      <td>RESI</td>\n",
       "      <td>2505.0</td>\n",
       "      <td>TX</td>\n",
       "      <td>ABOR_18942831</td>\n",
       "      <td>1990.0</td>\n",
       "      <td>78942</td>\n",
       "      <td>0.285714</td>\n",
       "      <td>0.367089</td>\n",
       "      <td>0.316587</td>\n",
       "      <td>0.249173</td>\n",
       "      <td>0.871560</td>\n",
       "      <td>NaN</td>\n",
       "      <td>NaN</td>\n",
       "      <td>NaN</td>\n",
       "    </tr>\n",
       "    <tr>\n",
       "      <th>32</th>\n",
       "      <td>5.0</td>\n",
       "      <td>5.0</td>\n",
       "      <td>Spicewood</td>\n",
       "      <td>899900.0</td>\n",
       "      <td>30.480103</td>\n",
       "      <td>-98.124169</td>\n",
       "      <td>1.0</td>\n",
       "      <td>RESI</td>\n",
       "      <td>4266.0</td>\n",
       "      <td>TX</td>\n",
       "      <td>ABOR_19027435</td>\n",
       "      <td>2007.0</td>\n",
       "      <td>78669</td>\n",
       "      <td>0.571429</td>\n",
       "      <td>0.620253</td>\n",
       "      <td>0.299885</td>\n",
       "      <td>0.425609</td>\n",
       "      <td>0.949541</td>\n",
       "      <td>NaN</td>\n",
       "      <td>NaN</td>\n",
       "      <td>NaN</td>\n",
       "    </tr>\n",
       "    <tr>\n",
       "      <th>39</th>\n",
       "      <td>4.0</td>\n",
       "      <td>4.0</td>\n",
       "      <td>Austin</td>\n",
       "      <td>639000.0</td>\n",
       "      <td>30.189674</td>\n",
       "      <td>-97.986250</td>\n",
       "      <td>0.0</td>\n",
       "      <td>RESI</td>\n",
       "      <td>3520.0</td>\n",
       "      <td>TX</td>\n",
       "      <td>ABOR_19139070</td>\n",
       "      <td>2016.0</td>\n",
       "      <td>78737</td>\n",
       "      <td>0.428571</td>\n",
       "      <td>0.493671</td>\n",
       "      <td>0.212903</td>\n",
       "      <td>0.350867</td>\n",
       "      <td>0.990826</td>\n",
       "      <td>NaN</td>\n",
       "      <td>NaN</td>\n",
       "      <td>NaN</td>\n",
       "    </tr>\n",
       "    <tr>\n",
       "      <th>40</th>\n",
       "      <td>6.0</td>\n",
       "      <td>5.0</td>\n",
       "      <td>Austin</td>\n",
       "      <td>1285000.0</td>\n",
       "      <td>30.327920</td>\n",
       "      <td>-98.010209</td>\n",
       "      <td>1.0</td>\n",
       "      <td>RESI</td>\n",
       "      <td>4552.0</td>\n",
       "      <td>TX</td>\n",
       "      <td>ABOR_19149094</td>\n",
       "      <td>2016.0</td>\n",
       "      <td>78738</td>\n",
       "      <td>0.571429</td>\n",
       "      <td>0.746835</td>\n",
       "      <td>0.428273</td>\n",
       "      <td>0.454263</td>\n",
       "      <td>0.990826</td>\n",
       "      <td>NaN</td>\n",
       "      <td>NaN</td>\n",
       "      <td>NaN</td>\n",
       "    </tr>\n",
       "  </tbody>\n",
       "</table>\n",
       "</div>"
      ],
      "text/plain": [
       "    bathrooms  bedrooms        city  current_list_price  location_latitude  \\\n",
       "7         3.0       3.0  San Marcos            334900.0          29.866884   \n",
       "25        3.0       3.0    Giddings            950000.0          30.110725   \n",
       "32        5.0       5.0   Spicewood            899900.0          30.480103   \n",
       "39        4.0       4.0      Austin            639000.0          30.189674   \n",
       "40        6.0       5.0      Austin           1285000.0          30.327920   \n",
       "\n",
       "    location_longitude  lot_sqft property_type    sqft state      unique_id  \\\n",
       "7           -97.968936       0.0          COND  2351.0    TX  ABOR_17615028   \n",
       "25          -96.896752      67.0          RESI  2505.0    TX  ABOR_18942831   \n",
       "32          -98.124169       1.0          RESI  4266.0    TX  ABOR_19027435   \n",
       "39          -97.986250       0.0          RESI  3520.0    TX  ABOR_19139070   \n",
       "40          -98.010209       1.0          RESI  4552.0    TX  ABOR_19149094   \n",
       "\n",
       "    year_built    zip  scaled_bedrooms  scaled_bathrooms  scaled_price  \\\n",
       "7       2016.0  78666         0.285714          0.367089      0.111519   \n",
       "25      1990.0  78942         0.285714          0.367089      0.316587   \n",
       "32      2007.0  78669         0.571429          0.620253      0.299885   \n",
       "39      2016.0  78737         0.428571          0.493671      0.212903   \n",
       "40      2016.0  78738         0.571429          0.746835      0.428273   \n",
       "\n",
       "    scaled_sqft  scaled_year  rentzestimate_amount  scaled.rent  scaled_rent  \n",
       "7      0.233744     0.990826                   NaN          NaN          NaN  \n",
       "25     0.249173     0.871560                   NaN          NaN          NaN  \n",
       "32     0.425609     0.949541                   NaN          NaN          NaN  \n",
       "39     0.350867     0.990826                   NaN          NaN          NaN  \n",
       "40     0.454263     0.990826                   NaN          NaN          NaN  "
      ]
     },
     "execution_count": 222,
     "metadata": {},
     "output_type": "execute_result"
    }
   ],
   "source": [
    "data_null.head()"
   ]
  },
  {
   "cell_type": "code",
   "execution_count": 205,
   "metadata": {
    "scrolled": false
   },
   "outputs": [
    {
     "data": {
      "text/plain": [
       "Index(['bathrooms', 'bedrooms', 'city', 'current_list_price', 'property_type',\n",
       "       'sqft', 'state', 'unique_id', 'year_built', 'zip',\n",
       "       'rentzestimate_amount', 'scaled_rent', 'scaled_bedrooms',\n",
       "       'scaled_bathrooms', 'scaled_price', 'scaled_sqft', 'scaled_year'],\n",
       "      dtype='object')"
      ]
     },
     "execution_count": 205,
     "metadata": {},
     "output_type": "execute_result"
    }
   ],
   "source": [
    "data_train.columns"
   ]
  },
  {
   "cell_type": "code",
   "execution_count": 280,
   "metadata": {
    "collapsed": true
   },
   "outputs": [],
   "source": [
    "#LABEL_COLUMN = \"scaled_rent\"\n",
    "LABEL_COLUMN = \"rentzestimate_amount\"\n",
    "CATEGORICAL_COLUMNS = [\"city\", \"property_type\", 'state', 'zip']\n",
    "CONTINUOUS_COLUMNS = ['scaled_bathrooms', 'scaled_bedrooms', 'scaled_price', 'scaled_sqft', 'scaled_year']\n",
    "FEATURES = [\"city\", \"property_type\", 'state', 'zip', 'scaled_bathrooms', 'scaled_bedrooms', 'scaled_price', 'scaled_sqft', 'scaled_year']"
   ]
  },
  {
   "cell_type": "code",
   "execution_count": 35,
   "metadata": {},
   "outputs": [],
   "source": [
    "import tensorflow as tf\n",
    "\n",
    "def input_fn(df):\n",
    "  # Creates a dictionary mapping from each continuous feature column name (k) to\n",
    "  # the values of that column stored in a constant Tensor.\n",
    "  continuous_cols = {k: tf.constant(df[k].values)\n",
    "                     for k in CONTINUOUS_COLUMNS}\n",
    "  # Creates a dictionary mapping from each categorical feature column name (k)\n",
    "  # to the values of that column stored in a tf.SparseTensor.\n",
    "  categorical_cols = {k: tf.SparseTensor(\n",
    "      indices=[[i, 0] for i in range(df[k].size)],\n",
    "      values=df[k].values,\n",
    "      dense_shape=[df[k].size, 1])\n",
    "                      for k in CATEGORICAL_COLUMNS}\n",
    "  # Merges the two dictionaries into one.\n",
    "  feature_cols = dict(continuous_cols.items() | categorical_cols.items())\n",
    "  # Converts the label column into a constant Tensor.\n",
    "  label = tf.constant(df[LABEL_COLUMN].values)\n",
    "  # Returns the feature columns and the label.\n",
    "  return feature_cols, label\n",
    "\n",
    "def train_input_fn():\n",
    "  return input_fn(data_train)\n",
    "\n",
    "def eval_input_fn():\n",
    "  return input_fn(data_test)\n",
    "\n",
    "def predict_input_fn():\n",
    "  return input_fn(data_null)\n"
   ]
  },
  {
   "cell_type": "code",
   "execution_count": 148,
   "metadata": {
    "collapsed": true
   },
   "outputs": [],
   "source": [
    "city = tf.contrib.layers.sparse_column_with_hash_bucket(\"city\", hash_bucket_size=5000)"
   ]
  },
  {
   "cell_type": "code",
   "execution_count": 149,
   "metadata": {
    "collapsed": true
   },
   "outputs": [],
   "source": [
    "state = tf.contrib.layers.sparse_column_with_hash_bucket(\"state\", hash_bucket_size=100)"
   ]
  },
  {
   "cell_type": "code",
   "execution_count": 150,
   "metadata": {
    "collapsed": true
   },
   "outputs": [],
   "source": [
    "zip = tf.contrib.layers.sparse_column_with_hash_bucket(\"zip\", hash_bucket_size=10000)"
   ]
  },
  {
   "cell_type": "code",
   "execution_count": 151,
   "metadata": {
    "collapsed": true
   },
   "outputs": [],
   "source": [
    "property_type = tf.contrib.layers.sparse_column_with_hash_bucket(\"property_type\", hash_bucket_size=100)"
   ]
  },
  {
   "cell_type": "code",
   "execution_count": 152,
   "metadata": {
    "collapsed": true
   },
   "outputs": [],
   "source": [
    "bathrooms = tf.contrib.layers.real_valued_column(\"scaled_bathrooms\")"
   ]
  },
  {
   "cell_type": "code",
   "execution_count": 153,
   "metadata": {
    "collapsed": true
   },
   "outputs": [],
   "source": [
    "bedrooms = tf.contrib.layers.real_valued_column(\"scaled_bedrooms\")"
   ]
  },
  {
   "cell_type": "code",
   "execution_count": 154,
   "metadata": {
    "collapsed": true
   },
   "outputs": [],
   "source": [
    "current_list_price = tf.contrib.layers.real_valued_column(\"scaled_price\")"
   ]
  },
  {
   "cell_type": "code",
   "execution_count": 155,
   "metadata": {
    "collapsed": true
   },
   "outputs": [],
   "source": [
    "sqft = tf.contrib.layers.real_valued_column(\"scaled_sqft\")"
   ]
  },
  {
   "cell_type": "code",
   "execution_count": 156,
   "metadata": {
    "collapsed": true
   },
   "outputs": [],
   "source": [
    "year_built = tf.contrib.layers.real_valued_column(\"scaled_year\")"
   ]
  },
  {
   "cell_type": "code",
   "execution_count": 50,
   "metadata": {
    "collapsed": true
   },
   "outputs": [],
   "source": [
    "year_buckets = tf.contrib.layers.bucketized_column(year_built, boundaries=[1800, 1810, 1820, 1830, 1840, 1850, 1860, 1870, 1880, 1890, 1900, 1910, 1920, 1930, 1940, 1950, 1960, 1970, 1980, 1990, 2000, 2010, 2018])"
   ]
  },
  {
   "cell_type": "code",
   "execution_count": 290,
   "metadata": {
    "scrolled": false
   },
   "outputs": [
    {
     "name": "stdout",
     "output_type": "stream",
     "text": [
      "INFO:tensorflow:Using default config.\n",
      "WARNING:tensorflow:Using temporary folder as model directory: C:\\Users\\Lenovo\\AppData\\Local\\Temp\\tmpg0icz3oj\n",
      "INFO:tensorflow:Using config: {'_master': '', '_task_type': None, '_tf_config': gpu_options {\n",
      "  per_process_gpu_memory_fraction: 1\n",
      "}\n",
      ", '_cluster_spec': <tensorflow.python.training.server_lib.ClusterSpec object at 0x0000019D4E7D4EB8>, '_save_checkpoints_secs': 600, '_num_worker_replicas': 0, '_session_config': None, '_environment': 'local', '_evaluation_master': '', '_save_summary_steps': 100, '_tf_random_seed': None, '_task_id': 0, '_num_ps_replicas': 0, '_keep_checkpoint_max': 5, '_is_chief': True, '_keep_checkpoint_every_n_hours': 10000, '_model_dir': 'C:\\\\Users\\\\Lenovo\\\\AppData\\\\Local\\\\Temp\\\\tmpg0icz3oj', '_save_checkpoints_steps': None}\n"
     ]
    }
   ],
   "source": [
    "wide_columns = [city, state, zip, property_type, bathrooms, bedrooms, current_list_price, sqft, year_built]\n",
    "m = tf.contrib.learn.LinearRegressor(\n",
    "    feature_columns= wide_columns,\n",
    "    optimizer=tf.train.FtrlOptimizer(learning_rate=1, l2_regularization_strength=0.01, l1_regularization_strength=0.01))"
   ]
  },
  {
   "cell_type": "code",
   "execution_count": 291,
   "metadata": {
    "scrolled": true
   },
   "outputs": [
    {
     "name": "stdout",
     "output_type": "stream",
     "text": [
      "WARNING:tensorflow:From C:\\Users\\Lenovo\\Anaconda3\\envs\\tensorflow\\lib\\site-packages\\tensorflow\\contrib\\learn\\python\\learn\\estimators\\head.py:625: scalar_summary (from tensorflow.python.ops.logging_ops) is deprecated and will be removed after 2016-11-30.\n",
      "Instructions for updating:\n",
      "Please switch to tf.summary.scalar. Note that tf.summary.scalar uses the node name instead of the tag. This means that TensorFlow will automatically de-duplicate summary names based on the scope they are created in. Also, passing a tensor or list of tags to a scalar summary op is no longer supported.\n",
      "INFO:tensorflow:Create CheckpointSaverHook.\n",
      "INFO:tensorflow:Saving checkpoints for 1 into C:\\Users\\Lenovo\\AppData\\Local\\Temp\\tmpg0icz3oj\\model.ckpt.\n",
      "INFO:tensorflow:loss = 9.7534e+06, step = 1\n",
      "INFO:tensorflow:global_step/sec: 26.4732\n",
      "INFO:tensorflow:loss = 9.07686e+06, step = 101 (3.778 sec)\n",
      "INFO:tensorflow:global_step/sec: 28.3279\n",
      "INFO:tensorflow:loss = 8.78888e+06, step = 201 (3.529 sec)\n",
      "INFO:tensorflow:global_step/sec: 26.9627\n",
      "INFO:tensorflow:loss = 8.57338e+06, step = 301 (3.711 sec)\n",
      "INFO:tensorflow:global_step/sec: 24.4995\n",
      "INFO:tensorflow:loss = 8.39535e+06, step = 401 (4.081 sec)\n",
      "INFO:tensorflow:global_step/sec: 22.6477\n",
      "INFO:tensorflow:loss = 8.24129e+06, step = 501 (4.416 sec)\n",
      "INFO:tensorflow:global_step/sec: 23.6523\n",
      "INFO:tensorflow:loss = 8.10426e+06, step = 601 (4.228 sec)\n",
      "INFO:tensorflow:global_step/sec: 24.8122\n",
      "INFO:tensorflow:loss = 7.98011e+06, step = 701 (4.031 sec)\n",
      "INFO:tensorflow:global_step/sec: 24.6726\n",
      "INFO:tensorflow:loss = 7.86614e+06, step = 801 (4.052 sec)\n",
      "INFO:tensorflow:global_step/sec: 26.5571\n",
      "INFO:tensorflow:loss = 7.76049e+06, step = 901 (3.766 sec)\n",
      "INFO:tensorflow:global_step/sec: 27.3126\n",
      "INFO:tensorflow:loss = 7.66182e+06, step = 1001 (3.661 sec)\n",
      "INFO:tensorflow:global_step/sec: 29.6679\n",
      "INFO:tensorflow:loss = 7.56906e+06, step = 1101 (3.368 sec)\n",
      "INFO:tensorflow:global_step/sec: 30.1081\n",
      "INFO:tensorflow:loss = 7.48144e+06, step = 1201 (3.321 sec)\n",
      "INFO:tensorflow:global_step/sec: 28.4759\n",
      "INFO:tensorflow:loss = 7.39837e+06, step = 1301 (3.515 sec)\n",
      "INFO:tensorflow:global_step/sec: 26.6746\n",
      "INFO:tensorflow:loss = 7.31923e+06, step = 1401 (3.746 sec)\n",
      "INFO:tensorflow:global_step/sec: 30.8862\n",
      "INFO:tensorflow:loss = 7.24367e+06, step = 1501 (3.238 sec)\n",
      "INFO:tensorflow:global_step/sec: 28.8989\n",
      "INFO:tensorflow:loss = 7.17132e+06, step = 1601 (3.460 sec)\n",
      "INFO:tensorflow:global_step/sec: 28.9234\n",
      "INFO:tensorflow:loss = 7.1019e+06, step = 1701 (3.457 sec)\n",
      "INFO:tensorflow:global_step/sec: 23.971\n",
      "INFO:tensorflow:loss = 7.03511e+06, step = 1801 (4.172 sec)\n",
      "INFO:tensorflow:global_step/sec: 27.9231\n",
      "INFO:tensorflow:loss = 6.97076e+06, step = 1901 (3.583 sec)\n",
      "INFO:tensorflow:global_step/sec: 23.9201\n",
      "INFO:tensorflow:loss = 6.90863e+06, step = 2001 (4.180 sec)\n",
      "INFO:tensorflow:global_step/sec: 26.5332\n",
      "INFO:tensorflow:loss = 6.8486e+06, step = 2101 (3.770 sec)\n",
      "INFO:tensorflow:global_step/sec: 26.7105\n",
      "INFO:tensorflow:loss = 6.79047e+06, step = 2201 (3.746 sec)\n",
      "INFO:tensorflow:global_step/sec: 28.2215\n",
      "INFO:tensorflow:loss = 6.73416e+06, step = 2301 (3.539 sec)\n",
      "INFO:tensorflow:global_step/sec: 28.527\n",
      "INFO:tensorflow:loss = 6.6795e+06, step = 2401 (3.505 sec)\n",
      "INFO:tensorflow:global_step/sec: 29.3647\n",
      "INFO:tensorflow:loss = 6.62641e+06, step = 2501 (3.405 sec)\n",
      "INFO:tensorflow:global_step/sec: 29.9319\n",
      "INFO:tensorflow:loss = 6.57479e+06, step = 2601 (3.343 sec)\n",
      "INFO:tensorflow:global_step/sec: 27.4697\n",
      "INFO:tensorflow:loss = 6.52456e+06, step = 2701 (3.648 sec)\n",
      "INFO:tensorflow:global_step/sec: 29.3961\n",
      "INFO:tensorflow:loss = 6.47567e+06, step = 2801 (3.392 sec)\n",
      "INFO:tensorflow:global_step/sec: 28.9846\n",
      "INFO:tensorflow:loss = 6.42798e+06, step = 2901 (3.450 sec)\n",
      "INFO:tensorflow:global_step/sec: 27.0858\n",
      "INFO:tensorflow:loss = 6.38148e+06, step = 3001 (3.695 sec)\n",
      "INFO:tensorflow:global_step/sec: 28.2803\n",
      "INFO:tensorflow:loss = 6.33612e+06, step = 3101 (3.533 sec)\n",
      "INFO:tensorflow:global_step/sec: 26.9927\n",
      "INFO:tensorflow:loss = 6.29179e+06, step = 3201 (3.707 sec)\n",
      "INFO:tensorflow:global_step/sec: 27.7537\n",
      "INFO:tensorflow:loss = 6.24846e+06, step = 3301 (3.601 sec)\n",
      "INFO:tensorflow:global_step/sec: 29.9658\n",
      "INFO:tensorflow:loss = 6.20611e+06, step = 3401 (3.337 sec)\n",
      "INFO:tensorflow:global_step/sec: 25.4667\n",
      "INFO:tensorflow:loss = 6.16467e+06, step = 3501 (3.929 sec)\n",
      "INFO:tensorflow:global_step/sec: 27.2762\n",
      "INFO:tensorflow:loss = 6.1241e+06, step = 3601 (3.667 sec)\n",
      "INFO:tensorflow:global_step/sec: 28.6048\n",
      "INFO:tensorflow:loss = 6.08442e+06, step = 3701 (3.495 sec)\n",
      "INFO:tensorflow:global_step/sec: 26.8259\n",
      "INFO:tensorflow:loss = 6.0455e+06, step = 3801 (3.729 sec)\n",
      "INFO:tensorflow:global_step/sec: 26.16\n",
      "INFO:tensorflow:loss = 6.00736e+06, step = 3901 (3.820 sec)\n",
      "INFO:tensorflow:global_step/sec: 25.5503\n",
      "INFO:tensorflow:loss = 5.96996e+06, step = 4001 (3.916 sec)\n",
      "INFO:tensorflow:global_step/sec: 26.394\n",
      "INFO:tensorflow:loss = 5.9333e+06, step = 4101 (3.787 sec)\n",
      "INFO:tensorflow:global_step/sec: 26.6081\n",
      "INFO:tensorflow:loss = 5.89731e+06, step = 4201 (3.758 sec)\n",
      "INFO:tensorflow:global_step/sec: 27.3488\n",
      "INFO:tensorflow:loss = 5.86197e+06, step = 4301 (3.658 sec)\n",
      "INFO:tensorflow:global_step/sec: 26.5313\n",
      "INFO:tensorflow:loss = 5.8273e+06, step = 4401 (3.767 sec)\n",
      "INFO:tensorflow:global_step/sec: 28.9822\n",
      "INFO:tensorflow:loss = 5.79323e+06, step = 4501 (3.450 sec)\n",
      "INFO:tensorflow:global_step/sec: 26.9953\n",
      "INFO:tensorflow:loss = 5.75975e+06, step = 4601 (3.706 sec)\n",
      "INFO:tensorflow:global_step/sec: 30.2795\n",
      "INFO:tensorflow:loss = 5.72685e+06, step = 4701 (3.301 sec)\n",
      "INFO:tensorflow:global_step/sec: 30.8155\n",
      "INFO:tensorflow:loss = 5.69451e+06, step = 4801 (3.245 sec)\n",
      "INFO:tensorflow:global_step/sec: 30.4377\n",
      "INFO:tensorflow:loss = 5.66271e+06, step = 4901 (3.285 sec)\n",
      "INFO:tensorflow:Saving checkpoints for 5000 into C:\\Users\\Lenovo\\AppData\\Local\\Temp\\tmpg0icz3oj\\model.ckpt.\n",
      "INFO:tensorflow:Loss for final step: 5.63173e+06.\n"
     ]
    },
    {
     "data": {
      "text/plain": [
       "LinearRegressor(params={'optimizer': <tensorflow.python.training.ftrl.FtrlOptimizer object at 0x0000019D4E7D49B0>, 'gradient_clip_norm': None, 'feature_columns': [_SparseColumnHashed(column_name='city', is_integerized=False, bucket_size=5000, lookup_config=None, combiner='sum', dtype=tf.string), _SparseColumnHashed(column_name='state', is_integerized=False, bucket_size=100, lookup_config=None, combiner='sum', dtype=tf.string), _SparseColumnHashed(column_name='zip', is_integerized=False, bucket_size=10000, lookup_config=None, combiner='sum', dtype=tf.string), _SparseColumnHashed(column_name='property_type', is_integerized=False, bucket_size=100, lookup_config=None, combiner='sum', dtype=tf.string), _RealValuedColumn(column_name='scaled_bathrooms', dimension=1, default_value=None, dtype=tf.float32, normalizer=None), _RealValuedColumn(column_name='scaled_bedrooms', dimension=1, default_value=None, dtype=tf.float32, normalizer=None), _RealValuedColumn(column_name='scaled_price', dimension=1, default_value=None, dtype=tf.float32, normalizer=None), _RealValuedColumn(column_name='scaled_sqft', dimension=1, default_value=None, dtype=tf.float32, normalizer=None), _RealValuedColumn(column_name='scaled_year', dimension=1, default_value=None, dtype=tf.float32, normalizer=None)], 'head': <tensorflow.contrib.learn.python.learn.estimators.head._RegressionHead object at 0x0000019D4E7D4860>, 'joint_weights': False})"
      ]
     },
     "execution_count": 291,
     "metadata": {},
     "output_type": "execute_result"
    }
   ],
   "source": [
    "m.fit(input_fn=train_input_fn, steps=5000)"
   ]
  },
  {
   "cell_type": "code",
   "execution_count": 292,
   "metadata": {
    "scrolled": true
   },
   "outputs": [
    {
     "name": "stdout",
     "output_type": "stream",
     "text": [
      "WARNING:tensorflow:From C:\\Users\\Lenovo\\Anaconda3\\envs\\tensorflow\\lib\\site-packages\\tensorflow\\contrib\\learn\\python\\learn\\estimators\\head.py:625: scalar_summary (from tensorflow.python.ops.logging_ops) is deprecated and will be removed after 2016-11-30.\n",
      "Instructions for updating:\n",
      "Please switch to tf.summary.scalar. Note that tf.summary.scalar uses the node name instead of the tag. This means that TensorFlow will automatically de-duplicate summary names based on the scope they are created in. Also, passing a tensor or list of tags to a scalar summary op is no longer supported.\n",
      "INFO:tensorflow:Starting evaluation at 2017-08-31-15:24:57\n",
      "INFO:tensorflow:Restoring parameters from C:\\Users\\Lenovo\\AppData\\Local\\Temp\\tmpg0icz3oj\\model.ckpt-5000\n",
      "INFO:tensorflow:Evaluation [1/1]\n",
      "INFO:tensorflow:Finished evaluation at 2017-08-31-15:24:59\n",
      "INFO:tensorflow:Saving dict for global step 5000: global_step = 5000, loss = 5.64377e+06\n"
     ]
    },
    {
     "data": {
      "text/plain": [
       "{'global_step': 5000, 'loss': 5643766.0}"
      ]
     },
     "execution_count": 292,
     "metadata": {},
     "output_type": "execute_result"
    }
   ],
   "source": [
    "m.evaluate(input_fn=eval_input_fn, steps=1)\n",
    "#for key in sorted(results):\n",
    "   # print (\"%s: %s\" % (key, results[key]))"
   ]
  },
  {
   "cell_type": "code",
   "execution_count": 294,
   "metadata": {
    "scrolled": true
   },
   "outputs": [
    {
     "name": "stdout",
     "output_type": "stream",
     "text": [
      "WARNING:tensorflow:From C:\\Users\\Lenovo\\Anaconda3\\envs\\tensorflow\\lib\\site-packages\\tensorflow\\python\\util\\deprecation.py:347: calling LinearRegressor.predict (from tensorflow.contrib.learn.python.learn.estimators.linear) with outputs=None is deprecated and will be removed after 2017-03-01.\n",
      "Instructions for updating:\n",
      "Please switch to predict_scores, or set `outputs` argument.\n",
      "INFO:tensorflow:Restoring parameters from C:\\Users\\Lenovo\\AppData\\Local\\Temp\\tmpg0icz3oj\\model.ckpt-5000\n"
     ]
    }
   ],
   "source": [
    "predictions = list(m.predict(input_fn=eval_input_fn))"
   ]
  },
  {
   "cell_type": "code",
   "execution_count": 307,
   "metadata": {},
   "outputs": [
    {
     "data": {
      "text/plain": [
       "5643772.782393218"
      ]
     },
     "execution_count": 307,
     "metadata": {},
     "output_type": "execute_result"
    }
   ],
   "source": [
    "from sklearn.metrics import mean_squared_error\n",
    "mean_squared_error(predictions, data_test['rentzestimate_amount'])"
   ]
  },
  {
   "cell_type": "code",
   "execution_count": 308,
   "metadata": {},
   "outputs": [
    {
     "data": {
      "text/plain": [
       "1782.7547421298532"
      ]
     },
     "execution_count": 308,
     "metadata": {},
     "output_type": "execute_result"
    }
   ],
   "source": [
    "from sklearn.metrics import mean_absolute_error\n",
    "mean_absolute_error(predictions, data_test['rentzestimate_amount'])"
   ]
  },
  {
   "cell_type": "code",
   "execution_count": 69,
   "metadata": {
    "collapsed": true
   },
   "outputs": [],
   "source": [
    "# Deep model "
   ]
  },
  {
   "cell_type": "code",
   "execution_count": 311,
   "metadata": {
    "scrolled": false
   },
   "outputs": [
    {
     "name": "stdout",
     "output_type": "stream",
     "text": [
      "WARNING:tensorflow:The default stddev value of initializer will change from \"1/sqrt(vocab_size)\" to \"1/sqrt(dimension)\" after 2017/02/25.\n",
      "WARNING:tensorflow:The default stddev value of initializer will change from \"1/sqrt(vocab_size)\" to \"1/sqrt(dimension)\" after 2017/02/25.\n",
      "WARNING:tensorflow:The default stddev value of initializer will change from \"1/sqrt(vocab_size)\" to \"1/sqrt(dimension)\" after 2017/02/25.\n",
      "WARNING:tensorflow:The default stddev value of initializer will change from \"1/sqrt(vocab_size)\" to \"1/sqrt(dimension)\" after 2017/02/25.\n",
      "INFO:tensorflow:Using default config.\n",
      "WARNING:tensorflow:Using temporary folder as model directory: C:\\Users\\Lenovo\\AppData\\Local\\Temp\\tmp1glt8kpv\n",
      "INFO:tensorflow:Using config: {'_master': '', '_task_type': None, '_tf_config': gpu_options {\n",
      "  per_process_gpu_memory_fraction: 1\n",
      "}\n",
      ", '_cluster_spec': <tensorflow.python.training.server_lib.ClusterSpec object at 0x0000019D5CCAD0F0>, '_save_checkpoints_secs': 600, '_num_worker_replicas': 0, '_session_config': None, '_environment': 'local', '_evaluation_master': '', '_save_summary_steps': 100, '_tf_random_seed': None, '_task_id': 0, '_num_ps_replicas': 0, '_keep_checkpoint_max': 5, '_is_chief': True, '_keep_checkpoint_every_n_hours': 10000, '_model_dir': 'C:\\\\Users\\\\Lenovo\\\\AppData\\\\Local\\\\Temp\\\\tmp1glt8kpv', '_save_checkpoints_steps': None}\n"
     ]
    }
   ],
   "source": [
    "deep_columns = [\n",
    "    tf.contrib.layers.embedding_column(city, dimension = 8),\n",
    "    tf.contrib.layers.embedding_column(state, dimension = 8),\n",
    "    tf.contrib.layers.embedding_column(zip, dimension = 8),\n",
    "    tf.contrib.layers.embedding_column(property_type, dimension = 8),\n",
    "    bathrooms, bedrooms, current_list_price, sqft, year_built]\n",
    "deep_model = tf.contrib.learn.DNNRegressor(\n",
    "    feature_columns=deep_columns,\n",
    "    hidden_units = [5, 4],\n",
    "    optimizer=tf.train.ProximalAdagradOptimizer(\n",
    "      learning_rate=1.0,\n",
    "      l1_regularization_strength=0.001,\n",
    "      l2_regularization_strength=0.001        \n",
    "    ))\n"
   ]
  },
  {
   "cell_type": "code",
   "execution_count": 320,
   "metadata": {
    "scrolled": true
   },
   "outputs": [
    {
     "name": "stdout",
     "output_type": "stream",
     "text": [
      "WARNING:tensorflow:Rank of input Tensor (1) should be the same as output_rank (2) for column. Will attempt to expand dims. It is highly recommended that you resize your input, as this behavior may change.\n",
      "WARNING:tensorflow:Rank of input Tensor (1) should be the same as output_rank (2) for column. Will attempt to expand dims. It is highly recommended that you resize your input, as this behavior may change.\n",
      "WARNING:tensorflow:Rank of input Tensor (1) should be the same as output_rank (2) for column. Will attempt to expand dims. It is highly recommended that you resize your input, as this behavior may change.\n",
      "WARNING:tensorflow:Rank of input Tensor (1) should be the same as output_rank (2) for column. Will attempt to expand dims. It is highly recommended that you resize your input, as this behavior may change.\n",
      "WARNING:tensorflow:Rank of input Tensor (1) should be the same as output_rank (2) for column. Will attempt to expand dims. It is highly recommended that you resize your input, as this behavior may change.\n",
      "WARNING:tensorflow:From C:\\Users\\Lenovo\\Anaconda3\\envs\\tensorflow\\lib\\site-packages\\tensorflow\\contrib\\learn\\python\\learn\\estimators\\head.py:625: scalar_summary (from tensorflow.python.ops.logging_ops) is deprecated and will be removed after 2016-11-30.\n",
      "Instructions for updating:\n",
      "Please switch to tf.summary.scalar. Note that tf.summary.scalar uses the node name instead of the tag. This means that TensorFlow will automatically de-duplicate summary names based on the scope they are created in. Also, passing a tensor or list of tags to a scalar summary op is no longer supported.\n",
      "INFO:tensorflow:Create CheckpointSaverHook.\n",
      "INFO:tensorflow:Restoring parameters from C:\\Users\\Lenovo\\AppData\\Local\\Temp\\tmp1glt8kpv\\model.ckpt-2000\n",
      "INFO:tensorflow:Saving checkpoints for 2001 into C:\\Users\\Lenovo\\AppData\\Local\\Temp\\tmp1glt8kpv\\model.ckpt.\n",
      "INFO:tensorflow:loss = 262479.0, step = 2001\n",
      "INFO:tensorflow:global_step/sec: 4.60323\n",
      "INFO:tensorflow:loss = 261411.0, step = 2101 (21.728 sec)\n",
      "INFO:tensorflow:global_step/sec: 4.36055\n",
      "INFO:tensorflow:loss = 260450.0, step = 2201 (22.929 sec)\n",
      "INFO:tensorflow:global_step/sec: 4.4847\n",
      "INFO:tensorflow:loss = 259696.0, step = 2301 (22.298 sec)\n",
      "INFO:tensorflow:global_step/sec: 4.45026\n",
      "INFO:tensorflow:loss = 259014.0, step = 2401 (22.471 sec)\n",
      "INFO:tensorflow:global_step/sec: 4.44845\n",
      "INFO:tensorflow:loss = 258490.0, step = 2501 (22.495 sec)\n",
      "INFO:tensorflow:global_step/sec: 4.35827\n",
      "INFO:tensorflow:loss = 258035.0, step = 2601 (22.929 sec)\n",
      "INFO:tensorflow:global_step/sec: 3.91322\n",
      "INFO:tensorflow:loss = 257705.0, step = 2701 (25.554 sec)\n",
      "INFO:tensorflow:global_step/sec: 4.28548\n",
      "INFO:tensorflow:loss = 257353.0, step = 2801 (23.341 sec)\n",
      "INFO:tensorflow:global_step/sec: 3.86612\n",
      "INFO:tensorflow:loss = 257080.0, step = 2901 (25.866 sec)\n",
      "INFO:tensorflow:Saving checkpoints for 3000 into C:\\Users\\Lenovo\\AppData\\Local\\Temp\\tmp1glt8kpv\\model.ckpt.\n",
      "INFO:tensorflow:Loss for final step: 256782.0.\n"
     ]
    },
    {
     "data": {
      "text/plain": [
       "DNNRegressor(params={'optimizer': <tensorflow.python.training.proximal_adagrad.ProximalAdagradOptimizer object at 0x0000019D5CCACC88>, 'dropout': None, 'hidden_units': [5, 4], 'input_layer_min_slice_size': None, 'gradient_clip_norm': None, 'activation_fn': <function relu at 0x0000019C8C8D1EA0>, 'embedding_lr_multipliers': None, 'feature_columns': (_EmbeddingColumn(sparse_id_column=_SparseColumnHashed(column_name='city', is_integerized=False, bucket_size=5000, lookup_config=None, combiner='sum', dtype=tf.string), dimension=8, combiner='mean', initializer=<tensorflow.python.ops.init_ops.TruncatedNormal object at 0x0000019D5CC8CE48>, ckpt_to_load_from=None, tensor_name_in_ckpt=None, shared_embedding_name=None, shared_vocab_size=None, max_norm=None, trainable=True), _EmbeddingColumn(sparse_id_column=_SparseColumnHashed(column_name='state', is_integerized=False, bucket_size=100, lookup_config=None, combiner='sum', dtype=tf.string), dimension=8, combiner='mean', initializer=<tensorflow.python.ops.init_ops.TruncatedNormal object at 0x0000019D5CC8C048>, ckpt_to_load_from=None, tensor_name_in_ckpt=None, shared_embedding_name=None, shared_vocab_size=None, max_norm=None, trainable=True), _EmbeddingColumn(sparse_id_column=_SparseColumnHashed(column_name='zip', is_integerized=False, bucket_size=10000, lookup_config=None, combiner='sum', dtype=tf.string), dimension=8, combiner='mean', initializer=<tensorflow.python.ops.init_ops.TruncatedNormal object at 0x0000019D5CCA3A20>, ckpt_to_load_from=None, tensor_name_in_ckpt=None, shared_embedding_name=None, shared_vocab_size=None, max_norm=None, trainable=True), _EmbeddingColumn(sparse_id_column=_SparseColumnHashed(column_name='property_type', is_integerized=False, bucket_size=100, lookup_config=None, combiner='sum', dtype=tf.string), dimension=8, combiner='mean', initializer=<tensorflow.python.ops.init_ops.TruncatedNormal object at 0x0000019D646E9A58>, ckpt_to_load_from=None, tensor_name_in_ckpt=None, shared_embedding_name=None, shared_vocab_size=None, max_norm=None, trainable=True), _RealValuedColumn(column_name='scaled_bathrooms', dimension=1, default_value=None, dtype=tf.float32, normalizer=None), _RealValuedColumn(column_name='scaled_bedrooms', dimension=1, default_value=None, dtype=tf.float32, normalizer=None), _RealValuedColumn(column_name='scaled_price', dimension=1, default_value=None, dtype=tf.float32, normalizer=None), _RealValuedColumn(column_name='scaled_sqft', dimension=1, default_value=None, dtype=tf.float32, normalizer=None), _RealValuedColumn(column_name='scaled_year', dimension=1, default_value=None, dtype=tf.float32, normalizer=None)), 'head': <tensorflow.contrib.learn.python.learn.estimators.head._RegressionHead object at 0x0000019D5CCACD68>})"
      ]
     },
     "execution_count": 320,
     "metadata": {},
     "output_type": "execute_result"
    }
   ],
   "source": [
    "deep_model.fit(input_fn=train_input_fn, steps=1000)"
   ]
  },
  {
   "cell_type": "code",
   "execution_count": 321,
   "metadata": {
    "scrolled": true
   },
   "outputs": [
    {
     "name": "stdout",
     "output_type": "stream",
     "text": [
      "WARNING:tensorflow:Rank of input Tensor (1) should be the same as output_rank (2) for column. Will attempt to expand dims. It is highly recommended that you resize your input, as this behavior may change.\n",
      "WARNING:tensorflow:Rank of input Tensor (1) should be the same as output_rank (2) for column. Will attempt to expand dims. It is highly recommended that you resize your input, as this behavior may change.\n",
      "WARNING:tensorflow:Rank of input Tensor (1) should be the same as output_rank (2) for column. Will attempt to expand dims. It is highly recommended that you resize your input, as this behavior may change.\n",
      "WARNING:tensorflow:Rank of input Tensor (1) should be the same as output_rank (2) for column. Will attempt to expand dims. It is highly recommended that you resize your input, as this behavior may change.\n",
      "WARNING:tensorflow:Rank of input Tensor (1) should be the same as output_rank (2) for column. Will attempt to expand dims. It is highly recommended that you resize your input, as this behavior may change.\n",
      "WARNING:tensorflow:From C:\\Users\\Lenovo\\Anaconda3\\envs\\tensorflow\\lib\\site-packages\\tensorflow\\contrib\\learn\\python\\learn\\estimators\\head.py:625: scalar_summary (from tensorflow.python.ops.logging_ops) is deprecated and will be removed after 2016-11-30.\n",
      "Instructions for updating:\n",
      "Please switch to tf.summary.scalar. Note that tf.summary.scalar uses the node name instead of the tag. This means that TensorFlow will automatically de-duplicate summary names based on the scope they are created in. Also, passing a tensor or list of tags to a scalar summary op is no longer supported.\n",
      "INFO:tensorflow:Starting evaluation at 2017-09-01-00:08:06\n",
      "INFO:tensorflow:Restoring parameters from C:\\Users\\Lenovo\\AppData\\Local\\Temp\\tmp1glt8kpv\\model.ckpt-3000\n",
      "INFO:tensorflow:Evaluation [1/1]\n",
      "INFO:tensorflow:Finished evaluation at 2017-09-01-00:08:07\n",
      "INFO:tensorflow:Saving dict for global step 3000: global_step = 3000, loss = 367726.0\n"
     ]
    },
    {
     "data": {
      "text/plain": [
       "{'global_step': 3000, 'loss': 367725.84}"
      ]
     },
     "execution_count": 321,
     "metadata": {},
     "output_type": "execute_result"
    }
   ],
   "source": [
    "deep_model.evaluate(input_fn=eval_input_fn, steps=1)"
   ]
  },
  {
   "cell_type": "code",
   "execution_count": 322,
   "metadata": {
    "scrolled": false
   },
   "outputs": [
    {
     "name": "stdout",
     "output_type": "stream",
     "text": [
      "WARNING:tensorflow:Rank of input Tensor (1) should be the same as output_rank (2) for column. Will attempt to expand dims. It is highly recommended that you resize your input, as this behavior may change.\n",
      "WARNING:tensorflow:Rank of input Tensor (1) should be the same as output_rank (2) for column. Will attempt to expand dims. It is highly recommended that you resize your input, as this behavior may change.\n",
      "WARNING:tensorflow:Rank of input Tensor (1) should be the same as output_rank (2) for column. Will attempt to expand dims. It is highly recommended that you resize your input, as this behavior may change.\n",
      "WARNING:tensorflow:Rank of input Tensor (1) should be the same as output_rank (2) for column. Will attempt to expand dims. It is highly recommended that you resize your input, as this behavior may change.\n",
      "WARNING:tensorflow:Rank of input Tensor (1) should be the same as output_rank (2) for column. Will attempt to expand dims. It is highly recommended that you resize your input, as this behavior may change.\n",
      "INFO:tensorflow:Restoring parameters from C:\\Users\\Lenovo\\AppData\\Local\\Temp\\tmp1glt8kpv\\model.ckpt-3000\n"
     ]
    }
   ],
   "source": [
    "deep_predictions = list(deep_model.predict_scores(input_fn = eval_input_fn))"
   ]
  },
  {
   "cell_type": "code",
   "execution_count": 273,
   "metadata": {
    "scrolled": false
   },
   "outputs": [
    {
     "name": "stdout",
     "output_type": "stream",
     "text": [
      "[2694.1384, 4656.7822, 3301.009, 5913.4365]\n"
     ]
    }
   ],
   "source": [
    "print (predictions[1:5])"
   ]
  },
  {
   "cell_type": "code",
   "execution_count": 323,
   "metadata": {},
   "outputs": [
    {
     "data": {
      "text/plain": [
       "306.23523648104947"
      ]
     },
     "execution_count": 323,
     "metadata": {},
     "output_type": "execute_result"
    }
   ],
   "source": [
    "from sklearn.metrics import mean_absolute_error\n",
    "mean_absolute_error(deep_predictions, data_test['rentzestimate_amount'])"
   ]
  },
  {
   "cell_type": "code",
   "execution_count": null,
   "metadata": {
    "collapsed": true
   },
   "outputs": [],
   "source": []
  },
  {
   "cell_type": "code",
   "execution_count": 275,
   "metadata": {
    "scrolled": true
   },
   "outputs": [
    {
     "name": "stdout",
     "output_type": "stream",
     "text": [
      "13821.6\n"
     ]
    }
   ],
   "source": [
    "print (max(predictions))"
   ]
  },
  {
   "cell_type": "code",
   "execution_count": 112,
   "metadata": {
    "collapsed": true
   },
   "outputs": [],
   "source": [
    "#wide and deep model "
   ]
  },
  {
   "cell_type": "code",
   "execution_count": 324,
   "metadata": {
    "scrolled": true
   },
   "outputs": [
    {
     "name": "stdout",
     "output_type": "stream",
     "text": [
      "WARNING:tensorflow:From <ipython-input-324-9972bc7e2c88>:8: calling DNNLinearCombinedRegressor.__init__ (from tensorflow.contrib.learn.python.learn.estimators.dnn_linear_combined) with fix_global_step_increment_bug=False is deprecated and will be removed after 2017-04-15.\n",
      "Instructions for updating:\n",
      "Please set fix_global_step_increment_bug=True and update training steps in your pipeline. See pydoc for details.\n",
      "INFO:tensorflow:Using default config.\n",
      "WARNING:tensorflow:Using temporary folder as model directory: C:\\Users\\Lenovo\\AppData\\Local\\Temp\\tmp8_jdpwql\n",
      "INFO:tensorflow:Using config: {'_master': '', '_task_type': None, '_tf_config': gpu_options {\n",
      "  per_process_gpu_memory_fraction: 1\n",
      "}\n",
      ", '_cluster_spec': <tensorflow.python.training.server_lib.ClusterSpec object at 0x0000019D82BD24A8>, '_save_checkpoints_secs': 600, '_num_worker_replicas': 0, '_session_config': None, '_environment': 'local', '_evaluation_master': '', '_save_summary_steps': 100, '_tf_random_seed': None, '_task_id': 0, '_num_ps_replicas': 0, '_keep_checkpoint_max': 5, '_is_chief': True, '_keep_checkpoint_every_n_hours': 10000, '_model_dir': 'C:\\\\Users\\\\Lenovo\\\\AppData\\\\Local\\\\Temp\\\\tmp8_jdpwql', '_save_checkpoints_steps': None}\n"
     ]
    }
   ],
   "source": [
    "wide_and_deep_model = tf.contrib.learn.DNNLinearCombinedRegressor(\n",
    "        linear_feature_columns=wide_columns,\n",
    "        dnn_feature_columns=deep_columns,\n",
    "        dnn_hidden_units=[5, 4],\n",
    "       dnn_optimizer=tf.train.ProximalAdagradOptimizer(\n",
    "      learning_rate=1.0,\n",
    "      l1_regularization_strength=0.001,\n",
    "      l2_regularization_strength=0.001 ))"
   ]
  },
  {
   "cell_type": "code",
   "execution_count": 325,
   "metadata": {
    "scrolled": true
   },
   "outputs": [
    {
     "name": "stdout",
     "output_type": "stream",
     "text": [
      "WARNING:tensorflow:Rank of input Tensor (1) should be the same as output_rank (2) for column. Will attempt to expand dims. It is highly recommended that you resize your input, as this behavior may change.\n",
      "WARNING:tensorflow:Rank of input Tensor (1) should be the same as output_rank (2) for column. Will attempt to expand dims. It is highly recommended that you resize your input, as this behavior may change.\n",
      "WARNING:tensorflow:Rank of input Tensor (1) should be the same as output_rank (2) for column. Will attempt to expand dims. It is highly recommended that you resize your input, as this behavior may change.\n",
      "WARNING:tensorflow:Rank of input Tensor (1) should be the same as output_rank (2) for column. Will attempt to expand dims. It is highly recommended that you resize your input, as this behavior may change.\n",
      "WARNING:tensorflow:Rank of input Tensor (1) should be the same as output_rank (2) for column. Will attempt to expand dims. It is highly recommended that you resize your input, as this behavior may change.\n",
      "WARNING:tensorflow:From C:\\Users\\Lenovo\\Anaconda3\\envs\\tensorflow\\lib\\site-packages\\tensorflow\\contrib\\learn\\python\\learn\\estimators\\head.py:625: scalar_summary (from tensorflow.python.ops.logging_ops) is deprecated and will be removed after 2016-11-30.\n",
      "Instructions for updating:\n",
      "Please switch to tf.summary.scalar. Note that tf.summary.scalar uses the node name instead of the tag. This means that TensorFlow will automatically de-duplicate summary names based on the scope they are created in. Also, passing a tensor or list of tags to a scalar summary op is no longer supported.\n",
      "INFO:tensorflow:Create CheckpointSaverHook.\n",
      "INFO:tensorflow:Saving checkpoints for 2 into C:\\Users\\Lenovo\\AppData\\Local\\Temp\\tmp8_jdpwql\\model.ckpt.\n",
      "INFO:tensorflow:loss = 9.7533e+06, step = 2\n",
      "INFO:tensorflow:global_step/sec: 8.24304\n",
      "INFO:tensorflow:global_step/sec: 8.10906\n",
      "INFO:tensorflow:loss = 1.14392e+06, step = 202 (24.465 sec)\n",
      "INFO:tensorflow:global_step/sec: 7.24902\n",
      "INFO:tensorflow:global_step/sec: 6.97225\n",
      "INFO:tensorflow:loss = 601551.0, step = 402 (28.138 sec)\n",
      "INFO:tensorflow:global_step/sec: 7.23294\n",
      "INFO:tensorflow:global_step/sec: 7.47198\n",
      "INFO:tensorflow:loss = 421254.0, step = 602 (27.209 sec)\n",
      "INFO:tensorflow:global_step/sec: 7.64346\n",
      "INFO:tensorflow:global_step/sec: 7.42076\n",
      "INFO:tensorflow:loss = 378258.0, step = 802 (26.567 sec)\n",
      "INFO:tensorflow:global_step/sec: 7.07347\n",
      "INFO:tensorflow:global_step/sec: 7.07382\n",
      "INFO:tensorflow:loss = 343964.0, step = 1002 (28.264 sec)\n",
      "INFO:tensorflow:Saving checkpoints for 1002 into C:\\Users\\Lenovo\\AppData\\Local\\Temp\\tmp8_jdpwql\\model.ckpt.\n",
      "INFO:tensorflow:Loss for final step: 343964.0.\n"
     ]
    },
    {
     "data": {
      "text/plain": [
       "DNNLinearCombinedRegressor(params={'linear_optimizer': None, 'gradient_clip_norm': None, 'dnn_activation_fn': <function relu at 0x0000019C8C8D1EA0>, 'embedding_lr_multipliers': None, 'dnn_dropout': None, 'linear_feature_columns': [_SparseColumnHashed(column_name='city', is_integerized=False, bucket_size=5000, lookup_config=None, combiner='sum', dtype=tf.string), _SparseColumnHashed(column_name='state', is_integerized=False, bucket_size=100, lookup_config=None, combiner='sum', dtype=tf.string), _SparseColumnHashed(column_name='zip', is_integerized=False, bucket_size=10000, lookup_config=None, combiner='sum', dtype=tf.string), _SparseColumnHashed(column_name='property_type', is_integerized=False, bucket_size=100, lookup_config=None, combiner='sum', dtype=tf.string), _RealValuedColumn(column_name='scaled_bathrooms', dimension=1, default_value=None, dtype=tf.float32, normalizer=None), _RealValuedColumn(column_name='scaled_bedrooms', dimension=1, default_value=None, dtype=tf.float32, normalizer=None), _RealValuedColumn(column_name='scaled_price', dimension=1, default_value=None, dtype=tf.float32, normalizer=None), _RealValuedColumn(column_name='scaled_sqft', dimension=1, default_value=None, dtype=tf.float32, normalizer=None), _RealValuedColumn(column_name='scaled_year', dimension=1, default_value=None, dtype=tf.float32, normalizer=None)], 'dnn_hidden_units': [5, 4], 'joint_linear_weights': False, 'dnn_feature_columns': [_EmbeddingColumn(sparse_id_column=_SparseColumnHashed(column_name='city', is_integerized=False, bucket_size=5000, lookup_config=None, combiner='sum', dtype=tf.string), dimension=8, combiner='mean', initializer=<tensorflow.python.ops.init_ops.TruncatedNormal object at 0x0000019D5CC8CE48>, ckpt_to_load_from=None, tensor_name_in_ckpt=None, shared_embedding_name=None, shared_vocab_size=None, max_norm=None, trainable=True), _EmbeddingColumn(sparse_id_column=_SparseColumnHashed(column_name='state', is_integerized=False, bucket_size=100, lookup_config=None, combiner='sum', dtype=tf.string), dimension=8, combiner='mean', initializer=<tensorflow.python.ops.init_ops.TruncatedNormal object at 0x0000019D5CC8C048>, ckpt_to_load_from=None, tensor_name_in_ckpt=None, shared_embedding_name=None, shared_vocab_size=None, max_norm=None, trainable=True), _EmbeddingColumn(sparse_id_column=_SparseColumnHashed(column_name='zip', is_integerized=False, bucket_size=10000, lookup_config=None, combiner='sum', dtype=tf.string), dimension=8, combiner='mean', initializer=<tensorflow.python.ops.init_ops.TruncatedNormal object at 0x0000019D5CCA3A20>, ckpt_to_load_from=None, tensor_name_in_ckpt=None, shared_embedding_name=None, shared_vocab_size=None, max_norm=None, trainable=True), _EmbeddingColumn(sparse_id_column=_SparseColumnHashed(column_name='property_type', is_integerized=False, bucket_size=100, lookup_config=None, combiner='sum', dtype=tf.string), dimension=8, combiner='mean', initializer=<tensorflow.python.ops.init_ops.TruncatedNormal object at 0x0000019D646E9A58>, ckpt_to_load_from=None, tensor_name_in_ckpt=None, shared_embedding_name=None, shared_vocab_size=None, max_norm=None, trainable=True), _RealValuedColumn(column_name='scaled_bathrooms', dimension=1, default_value=None, dtype=tf.float32, normalizer=None), _RealValuedColumn(column_name='scaled_bedrooms', dimension=1, default_value=None, dtype=tf.float32, normalizer=None), _RealValuedColumn(column_name='scaled_price', dimension=1, default_value=None, dtype=tf.float32, normalizer=None), _RealValuedColumn(column_name='scaled_sqft', dimension=1, default_value=None, dtype=tf.float32, normalizer=None), _RealValuedColumn(column_name='scaled_year', dimension=1, default_value=None, dtype=tf.float32, normalizer=None)], 'input_layer_partitioner': None, 'fix_global_step_increment_bug': False, 'dnn_optimizer': <tensorflow.python.training.proximal_adagrad.ProximalAdagradOptimizer object at 0x0000019D82BD2240>, 'head': <tensorflow.contrib.learn.python.learn.estimators.head._RegressionHead object at 0x0000019D8024FAC8>})"
      ]
     },
     "execution_count": 325,
     "metadata": {},
     "output_type": "execute_result"
    }
   ],
   "source": [
    "wide_and_deep_model.fit(input_fn=train_input_fn, steps=1000)"
   ]
  },
  {
   "cell_type": "code",
   "execution_count": 326,
   "metadata": {
    "scrolled": true
   },
   "outputs": [
    {
     "name": "stdout",
     "output_type": "stream",
     "text": [
      "WARNING:tensorflow:Rank of input Tensor (1) should be the same as output_rank (2) for column. Will attempt to expand dims. It is highly recommended that you resize your input, as this behavior may change.\n",
      "WARNING:tensorflow:Rank of input Tensor (1) should be the same as output_rank (2) for column. Will attempt to expand dims. It is highly recommended that you resize your input, as this behavior may change.\n",
      "WARNING:tensorflow:Rank of input Tensor (1) should be the same as output_rank (2) for column. Will attempt to expand dims. It is highly recommended that you resize your input, as this behavior may change.\n",
      "WARNING:tensorflow:Rank of input Tensor (1) should be the same as output_rank (2) for column. Will attempt to expand dims. It is highly recommended that you resize your input, as this behavior may change.\n",
      "WARNING:tensorflow:Rank of input Tensor (1) should be the same as output_rank (2) for column. Will attempt to expand dims. It is highly recommended that you resize your input, as this behavior may change.\n",
      "WARNING:tensorflow:From C:\\Users\\Lenovo\\Anaconda3\\envs\\tensorflow\\lib\\site-packages\\tensorflow\\contrib\\learn\\python\\learn\\estimators\\head.py:625: scalar_summary (from tensorflow.python.ops.logging_ops) is deprecated and will be removed after 2016-11-30.\n",
      "Instructions for updating:\n",
      "Please switch to tf.summary.scalar. Note that tf.summary.scalar uses the node name instead of the tag. This means that TensorFlow will automatically de-duplicate summary names based on the scope they are created in. Also, passing a tensor or list of tags to a scalar summary op is no longer supported.\n",
      "INFO:tensorflow:Starting evaluation at 2017-09-01-00:22:32\n",
      "INFO:tensorflow:Restoring parameters from C:\\Users\\Lenovo\\AppData\\Local\\Temp\\tmp8_jdpwql\\model.ckpt-1002\n",
      "INFO:tensorflow:Evaluation [1/1]\n",
      "INFO:tensorflow:Finished evaluation at 2017-09-01-00:22:34\n",
      "INFO:tensorflow:Saving dict for global step 1002: global_step = 1002, loss = 436864.0\n"
     ]
    },
    {
     "data": {
      "text/plain": [
       "{'global_step': 1002, 'loss': 436864.22}"
      ]
     },
     "execution_count": 326,
     "metadata": {},
     "output_type": "execute_result"
    }
   ],
   "source": [
    "wide_and_deep_model.evaluate(input_fn=eval_input_fn, steps=1)"
   ]
  },
  {
   "cell_type": "code",
   "execution_count": 204,
   "metadata": {
    "scrolled": true
   },
   "outputs": [
    {
     "name": "stdout",
     "output_type": "stream",
     "text": [
      "WARNING:tensorflow:Rank of input Tensor (1) should be the same as output_rank (2) for column. Will attempt to expand dims. It is highly recommended that you resize your input, as this behavior may change.\n",
      "WARNING:tensorflow:Rank of input Tensor (1) should be the same as output_rank (2) for column. Will attempt to expand dims. It is highly recommended that you resize your input, as this behavior may change.\n",
      "WARNING:tensorflow:Rank of input Tensor (1) should be the same as output_rank (2) for column. Will attempt to expand dims. It is highly recommended that you resize your input, as this behavior may change.\n",
      "WARNING:tensorflow:Rank of input Tensor (1) should be the same as output_rank (2) for column. Will attempt to expand dims. It is highly recommended that you resize your input, as this behavior may change.\n",
      "INFO:tensorflow:Restoring parameters from C:\\Users\\Lenovo\\AppData\\Local\\Temp\\tmpnpo35ibc\\model.ckpt-5002\n"
     ]
    },
    {
     "data": {
      "text/plain": [
       "<generator object DNNLinearCombinedRegressor.predict_scores.<locals>.<genexpr> at 0x000001CD60CD8BA0>"
      ]
     },
     "execution_count": 204,
     "metadata": {},
     "output_type": "execute_result"
    }
   ],
   "source": [
    "wide_and_deep_model.predict_scores(input_fn=eval_input_fn)"
   ]
  },
  {
   "cell_type": "code",
   "execution_count": null,
   "metadata": {
    "collapsed": true
   },
   "outputs": [],
   "source": []
  }
 ],
 "metadata": {
  "kernelspec": {
   "display_name": "Python [default]",
   "language": "python",
   "name": "python3"
  },
  "language_info": {
   "codemirror_mode": {
    "name": "ipython",
    "version": 3
   },
   "file_extension": ".py",
   "mimetype": "text/x-python",
   "name": "python",
   "nbconvert_exporter": "python",
   "pygments_lexer": "ipython3",
   "version": "3.5.5"
  }
 },
 "nbformat": 4,
 "nbformat_minor": 2
}
